{
 "cells": [
  {
   "cell_type": "markdown",
   "metadata": {
    "collapsed": false,
    "pycharm": {
     "name": "#%% md\n"
    }
   },
   "source": [
    "Notebook 1, Module 1, Data and Data Management, CAS Applied Data Science, 2021-08-23, S. Haug, University of Bern.\n"
   ]
  },
  {
   "cell_type": "markdown",
   "metadata": {
    "id": "ljJDZt-n6zPw",
    "pycharm": {
     "name": "#%% md\n"
    }
   },
   "source": [
    "Prerequisite for this notebook is some basic Python experience. \n",
    "\n",
    "Please also look at the first batch of [these slides](https://docs.google.com/presentation/d/1BrlQQGDnEpr8lBiEd9uO-Kw2-WOInAEP-cv-xdUwB4Y/edit?usp=sharing) before doing this notebook. They offer an introduction to data. "
   ]
  },
  {
   "cell_type": "markdown",
   "metadata": {
    "id": "OAVKazfU06p-",
    "pycharm": {
     "name": "#%% md\n"
    }
   },
   "source": [
    "# 1. Data Management\n",
    "\n",
    "Estimated study time is up to 2 hours. According to your background and how much you want to learn, you may need more or less. You are supposed to google, read manuals and chat with others during working through this notebook in order to benefit fully.\n",
    "\n",
    "**Learning outcomes - after completion you**\n",
    "- Know about data sources, types and formats (see lecture slides via link above)\n",
    "- Able to import and export data in Python\n",
    "- Able to do simple things with dataframes in Python\n",
    "- Know about data volumes, metadata and quality\n",
    "- Able to plot histograms and scatter plots in Python (tomorrow)\n",
    "\n",
    "**Documentation on Pandas DataFrame**\n",
    "- Python: https://pandas.pydata.org/pandas-docs/stable/generated/pandas.DataFrame.html\n",
    "\n",
    "## Outline\n",
    "\n",
    "     0. About data management\n",
    "     1. Getting used to Jupyter lab\n",
    "     2. Import datasets into a Python dataframe\n",
    "     3. Indexing on a dataframe\n",
    "     4. Sorting \n",
    "     5. Filtering\n",
    "     6. Exporting\n",
    "     7. Missing and bad data\n",
    "     8. Metadata\n",
    "     9. Working on the filesystem\n"
   ]
  },
  {
   "cell_type": "markdown",
   "metadata": {
    "id": "0xY2gyiE06qA",
    "pycharm": {
     "name": "#%% md\n"
    }
   },
   "source": [
    "### 0. About data management"
   ]
  },
  {
   "cell_type": "markdown",
   "metadata": {
    "id": "nFyhF-jp06qB",
    "pycharm": {
     "name": "#%% md\n"
    }
   },
   "source": [
    "Handling or managing data involves many steps and technologies at many levels. Data my be colleccted by sensors. It can be a camera, a temperature sensor, a telescope, a microscope (with a camera), a microphone, a particle detector etc. Normally the data is then digitised, maybe preprocessed and written to some media in a certain format, e.g. hard disk. This part of the data management is normally taken care of by engineers. \n",
    "\n",
    "Data may also be collected from all sorts of databases, so data already collected somehow. Time series of financial data, customers, passengers, facebook likes, twitter tweets etc. This is data which is normally already on a media with some interface for access, e.g. paper to be read by a camera, a file on youtube, a table on wikipedia etc. We will look at some ways to collect such data. Some programming and computer skills are needed to do so. It may be that this part of the data management is taken care of by specialised computer scientists, but it may also be expected from a data scientist to have these skills. \n",
    "\n",
    "Analysing data with statisitical and machine learning tools, requires that the data is colleceted, cleaned and prepared for the tools. This is very often a very large part of a data analytics project and a prerequisite. It may involve removing bad data, filter out redundant and noisy data, unify the formats and types, transform the data etc. \n",
    "Thus, a data scientist must be able to perform this part of the data management. This notebook shows the basic operations with Python pandas. With other tools the concepts and operations are very similar.\n",
    "\n",
    "After the data analysis, after the extraction of information and the creation of knowledge, the data is often stored or archived for the future (if this seems cheaper than regenerating the data at a later point). In larger institutions this part of the data management may include educated librarians and others, not necessarily the data scientist.  \n",
    "\n",
    "**In this notebook we only look at a few examples on how to do datamanagement with dataframes. Pandas are extremly powerful and we cannot show everything in a couple of hours. You will become more and more experienced when you work on your module projects. Probably whatever you want to do with your dataframe, there is a way to do it. If not, it probably doesn't make much sense what wou want to do.**\n",
    "\n",
    "Any questions?\n"
   ]
  },
  {
   "cell_type": "markdown",
   "metadata": {
    "id": "z4HJ8cnp06qC",
    "pycharm": {
     "name": "#%% md\n"
    }
   },
   "source": [
    "### 1. Getting used to Jupyter computational notebooks and Colab\n",
    "\n",
    "With Jupyter you can write rich text notebooks with executable code via your browser. There are several so-called kernels or computational back ends, i.e Python, R, Julia, bash etc can be supported. The text is written as Markdown. Latex is also supported (good for math). You can export the notebook in various formats, e.g. html. Everything can be done via the various tabs, however, the key shortcuts make you faster. \n",
    "\n",
    "*Useful key combinations*\n",
    "\n",
    "- Shift Enter or Control Enter = Run cell\n",
    "- Option Enter = Run cell and Insert new cell below\n",
    "\n",
    "*Exercises (10 min)*\n",
    "- Change and run this cell\n",
    "- Add a new cell and execute some python statement in it\n",
    "- Study the tabs in the menu of your jupyter (lab) notebook"
   ]
  },
  {
   "cell_type": "code",
   "execution_count": 2,
   "metadata": {
    "id": "3tn_Bnh606qC",
    "pycharm": {
     "name": "#%%\n"
    }
   },
   "outputs": [
    {
     "name": "stdout",
     "output_type": "stream",
     "text": [
      "Hello World\n"
     ]
    }
   ],
   "source": [
    "# Write some more Python code here\n",
    "print(\"Hello World\")"
   ]
  },
  {
   "cell_type": "markdown",
   "metadata": {
    "id": "9Yy0P4Q006qD",
    "pycharm": {
     "name": "#%% md\n"
    }
   },
   "source": [
    "### 2. Import a dataset into a Pandas DataFrame\n",
    "\n",
    "Pandas is a Python Module/Library for data analysis and manipulation. It has the data structure DataFrame which is quite powerful. Features\n",
    "\n",
    "- DataFrame object for data manipulation with integrated indexing.\n",
    "- Tools for reading and writing data between in-memory data structures and different file formats.\n",
    "- Data alignment and integrated handling of missing data.\n",
    "- Reshaping and pivoting of data sets.\n",
    "- Label-based slicing, fancy indexing, and subsetting of large data sets.\n",
    "- Data structure column insertion and deletion.\n",
    "- Group by engine allowing split-apply-combine operations on data sets.\n",
    "- Data set merging and joining.\n",
    "- Hierarchical axis indexing to work with high-dimensional data in a lower-dimensional data structure.\n",
    "- Time series-functionality: Date range generation and frequency conversion, moving window statistics, moving window linear regressions, date shifting and lagging.\n",
    "\n",
    "The module is highly optimized for performance, with critical code parts written in Cython or C. Documentation here: https://pandas.pydata.org/pandas-docs/stable/api.html\n",
    "\n",
    "For input/output (I/O) there are methods for reading EXCEL, SQL databases, HTML tables, clipboard, SAS, STATA etc."
   ]
  },
  {
   "cell_type": "code",
   "execution_count": 3,
   "metadata": {
    "id": "2va7jftt06qF",
    "pycharm": {
     "name": "#%%\n"
    }
   },
   "outputs": [],
   "source": [
    "# Upload the local data file to colab\n"
   ]
  },
  {
   "cell_type": "code",
   "execution_count": 2,
   "metadata": {
    "id": "Fcu5tlR106qG",
    "pycharm": {
     "name": "#%%\n"
    }
   },
   "outputs": [],
   "source": [
    "# import the python module pandas with the abbreviation od\n",
    "import pandas as pd"
   ]
  },
  {
   "cell_type": "code",
   "execution_count": 5,
   "metadata": {
    "collapsed": false,
    "pycharm": {
     "name": "#%%\n"
    }
   },
   "outputs": [
    {
     "data": {
      "text/html": [
       "<div>\n",
       "<style scoped>\n",
       "    .dataframe tbody tr th:only-of-type {\n",
       "        vertical-align: middle;\n",
       "    }\n",
       "\n",
       "    .dataframe tbody tr th {\n",
       "        vertical-align: top;\n",
       "    }\n",
       "\n",
       "    .dataframe thead th {\n",
       "        text-align: right;\n",
       "    }\n",
       "</style>\n",
       "<table border=\"1\" class=\"dataframe\">\n",
       "  <thead>\n",
       "    <tr style=\"text-align: right;\">\n",
       "      <th></th>\n",
       "      <th>slength</th>\n",
       "      <th>swidth</th>\n",
       "      <th>plength</th>\n",
       "      <th>pwidth</th>\n",
       "      <th>species</th>\n",
       "    </tr>\n",
       "  </thead>\n",
       "  <tbody>\n",
       "    <tr>\n",
       "      <th>0</th>\n",
       "      <td>4.9</td>\n",
       "      <td>3.0</td>\n",
       "      <td>1.4</td>\n",
       "      <td>0.2</td>\n",
       "      <td>Iris-setosa</td>\n",
       "    </tr>\n",
       "    <tr>\n",
       "      <th>1</th>\n",
       "      <td>4.7</td>\n",
       "      <td>3.2</td>\n",
       "      <td>1.3</td>\n",
       "      <td>0.2</td>\n",
       "      <td>Iris-setosa</td>\n",
       "    </tr>\n",
       "  </tbody>\n",
       "</table>\n",
       "</div>"
      ],
      "text/plain": [
       "  slength swidth plength pwidth      species\n",
       "0     4.9    3.0     1.4    0.2  Iris-setosa\n",
       "1     4.7    3.2     1.3    0.2  Iris-setosa"
      ]
     },
     "execution_count": 5,
     "metadata": {},
     "output_type": "execute_result"
    }
   ],
   "source": [
    "iris = pd.read_csv(\"iris.csv\", dtype='str', header=0, names=['slength', 'swidth', 'plength', 'pwidth', 'species'])\n",
    "iris[0:2]"
   ]
  },
  {
   "cell_type": "markdown",
   "metadata": {
    "id": "OKvS45Aq06qH",
    "pycharm": {
     "name": "#%% md\n"
    }
   },
   "source": [
    "The dataframe method shows 50 rows per default. We can change this as we like:\n"
   ]
  },
  {
   "cell_type": "code",
   "execution_count": 6,
   "metadata": {
    "collapsed": false,
    "pycharm": {
     "name": "#%%\n"
    }
   },
   "outputs": [],
   "source": [
    "pd.set_option('display.max_rows', None)"
   ]
  },
  {
   "cell_type": "code",
   "execution_count": 7,
   "metadata": {
    "collapsed": false,
    "pycharm": {
     "name": "#%%\n"
    }
   },
   "outputs": [
    {
     "name": "stdout",
     "output_type": "stream",
     "text": [
      "<class 'pandas.core.frame.DataFrame'>\n",
      "RangeIndex: 149 entries, 0 to 148\n",
      "Data columns (total 5 columns):\n",
      " #   Column   Non-Null Count  Dtype \n",
      "---  ------   --------------  ----- \n",
      " 0   slength  149 non-null    object\n",
      " 1   swidth   149 non-null    object\n",
      " 2   plength  149 non-null    object\n",
      " 3   pwidth   149 non-null    object\n",
      " 4   species  149 non-null    object\n",
      "dtypes: object(5)\n",
      "memory usage: 5.9+ KB\n"
     ]
    }
   ],
   "source": [
    "iris.info()"
   ]
  },
  {
   "cell_type": "markdown",
   "metadata": {
    "id": "hNySrhxP06qK",
    "pycharm": {
     "name": "#%% md\n"
    }
   },
   "source": [
    "Find out on wikipedia what this Iris data is about. "
   ]
  },
  {
   "cell_type": "markdown",
   "metadata": {
    "id": "vwEVzhfl06qK",
    "pycharm": {
     "name": "#%% md\n"
    }
   },
   "source": [
    "### Hint\n",
    "\n",
    "There are some ways to get help about modules and methods in Jupyter:"
   ]
  },
  {
   "cell_type": "code",
   "execution_count": null,
   "metadata": {
    "colab": {
     "base_uri": "https://localhost:8080/",
     "height": 132
    },
    "id": "umgUyQ4i06qL",
    "outputId": "36a41ea5-850e-41cc-ae14-e6a01e1354c1",
    "pycharm": {
     "name": "#%%\n"
    }
   },
   "outputs": [],
   "source": []
  },
  {
   "cell_type": "markdown",
   "metadata": {
    "id": "YCAPpVAq06qL",
    "pycharm": {
     "name": "#%% md\n"
    }
   },
   "source": [
    "Get help about this object, if there is any:"
   ]
  },
  {
   "cell_type": "code",
   "execution_count": null,
   "metadata": {
    "id": "ZctEUABs06qL",
    "pycharm": {
     "name": "#%%\n"
    }
   },
   "outputs": [],
   "source": []
  },
  {
   "cell_type": "markdown",
   "metadata": {
    "id": "_5pTPqZA06qM",
    "pycharm": {
     "name": "#%% md\n"
    }
   },
   "source": [
    "And, what you will probably use the most, the online package information and examples by googling."
   ]
  },
  {
   "cell_type": "markdown",
   "metadata": {
    "id": "Dp-beMVD06qM",
    "pycharm": {
     "name": "#%% md\n"
    }
   },
   "source": [
    "### Exercise 1.1 (10 min)\n",
    "\n",
    "Read the Swiss BAG Corona data on vaccinated persons into a dataframe and look at it. The URL is\n",
    "https://opendata.swiss/en/dataset/covid-19-schweiz\n",
    "\n",
    "You will probably need to consult https://pandas.pydata.org/docs/reference/io.html in order to find out how to read a json file into a pandas dataframe. "
   ]
  },
  {
   "cell_type": "code",
   "execution_count": 8,
   "metadata": {
    "id": "bjGxXL8k06qM",
    "pycharm": {
     "name": "#%%\n"
    }
   },
   "outputs": [],
   "source": [
    "# Write your code here\n",
    "pd.set_option('display.max_rows', 20)"
   ]
  },
  {
   "cell_type": "code",
   "execution_count": 9,
   "metadata": {
    "id": "dIR8YyDP06qM",
    "pycharm": {
     "name": "#%%\n"
    }
   },
   "outputs": [
    {
     "data": {
      "text/html": [
       "<div>\n",
       "<style scoped>\n",
       "    .dataframe tbody tr th:only-of-type {\n",
       "        vertical-align: middle;\n",
       "    }\n",
       "\n",
       "    .dataframe tbody tr th {\n",
       "        vertical-align: top;\n",
       "    }\n",
       "\n",
       "    .dataframe thead th {\n",
       "        text-align: right;\n",
       "    }\n",
       "</style>\n",
       "<table border=\"1\" class=\"dataframe\">\n",
       "  <thead>\n",
       "    <tr style=\"text-align: right;\">\n",
       "      <th></th>\n",
       "      <th>date</th>\n",
       "      <th>geoRegion</th>\n",
       "      <th>entries</th>\n",
       "      <th>pop</th>\n",
       "      <th>sumTotal</th>\n",
       "      <th>per100Persons</th>\n",
       "      <th>per100PersonsTotal</th>\n",
       "      <th>type</th>\n",
       "      <th>version</th>\n",
       "      <th>granularity</th>\n",
       "      <th>age_group</th>\n",
       "      <th>per100Persons_mean7d</th>\n",
       "      <th>mean7d</th>\n",
       "    </tr>\n",
       "  </thead>\n",
       "  <tbody>\n",
       "    <tr>\n",
       "      <th>0</th>\n",
       "      <td>2020-12-21</td>\n",
       "      <td>AG</td>\n",
       "      <td>0</td>\n",
       "      <td>694072.0</td>\n",
       "      <td>0</td>\n",
       "      <td>0.0</td>\n",
       "      <td>0.00</td>\n",
       "      <td>COVID19AtLeastOneDosePersons</td>\n",
       "      <td>2022-08-23_07-00-27</td>\n",
       "      <td>detailed</td>\n",
       "      <td>total_population</td>\n",
       "      <td>NaN</td>\n",
       "      <td>NaN</td>\n",
       "    </tr>\n",
       "    <tr>\n",
       "      <th>1</th>\n",
       "      <td>2020-12-22</td>\n",
       "      <td>AG</td>\n",
       "      <td>0</td>\n",
       "      <td>694072.0</td>\n",
       "      <td>0</td>\n",
       "      <td>0.0</td>\n",
       "      <td>0.00</td>\n",
       "      <td>COVID19AtLeastOneDosePersons</td>\n",
       "      <td>2022-08-23_07-00-27</td>\n",
       "      <td>detailed</td>\n",
       "      <td>total_population</td>\n",
       "      <td>NaN</td>\n",
       "      <td>NaN</td>\n",
       "    </tr>\n",
       "    <tr>\n",
       "      <th>2</th>\n",
       "      <td>2020-12-23</td>\n",
       "      <td>AG</td>\n",
       "      <td>5</td>\n",
       "      <td>694072.0</td>\n",
       "      <td>5</td>\n",
       "      <td>0.0</td>\n",
       "      <td>0.00</td>\n",
       "      <td>COVID19AtLeastOneDosePersons</td>\n",
       "      <td>2022-08-23_07-00-27</td>\n",
       "      <td>detailed</td>\n",
       "      <td>total_population</td>\n",
       "      <td>NaN</td>\n",
       "      <td>NaN</td>\n",
       "    </tr>\n",
       "    <tr>\n",
       "      <th>3</th>\n",
       "      <td>2020-12-24</td>\n",
       "      <td>AG</td>\n",
       "      <td>3</td>\n",
       "      <td>694072.0</td>\n",
       "      <td>8</td>\n",
       "      <td>0.0</td>\n",
       "      <td>0.00</td>\n",
       "      <td>COVID19AtLeastOneDosePersons</td>\n",
       "      <td>2022-08-23_07-00-27</td>\n",
       "      <td>detailed</td>\n",
       "      <td>total_population</td>\n",
       "      <td>0.0</td>\n",
       "      <td>1.14</td>\n",
       "    </tr>\n",
       "    <tr>\n",
       "      <th>4</th>\n",
       "      <td>2020-12-25</td>\n",
       "      <td>AG</td>\n",
       "      <td>0</td>\n",
       "      <td>694072.0</td>\n",
       "      <td>8</td>\n",
       "      <td>0.0</td>\n",
       "      <td>0.00</td>\n",
       "      <td>COVID19AtLeastOneDosePersons</td>\n",
       "      <td>2022-08-23_07-00-27</td>\n",
       "      <td>detailed</td>\n",
       "      <td>total_population</td>\n",
       "      <td>0.0</td>\n",
       "      <td>10.57</td>\n",
       "    </tr>\n",
       "    <tr>\n",
       "      <th>...</th>\n",
       "      <td>...</td>\n",
       "      <td>...</td>\n",
       "      <td>...</td>\n",
       "      <td>...</td>\n",
       "      <td>...</td>\n",
       "      <td>...</td>\n",
       "      <td>...</td>\n",
       "      <td>...</td>\n",
       "      <td>...</td>\n",
       "      <td>...</td>\n",
       "      <td>...</td>\n",
       "      <td>...</td>\n",
       "      <td>...</td>\n",
       "    </tr>\n",
       "    <tr>\n",
       "      <th>196253</th>\n",
       "      <td>2022-08-18</td>\n",
       "      <td>CHFL</td>\n",
       "      <td>-42</td>\n",
       "      <td>7653097.0</td>\n",
       "      <td>1586691</td>\n",
       "      <td>0.0</td>\n",
       "      <td>20.73</td>\n",
       "      <td>COVID19NotVaccPersons</td>\n",
       "      <td>2022-08-23_07-00-27</td>\n",
       "      <td>detailed</td>\n",
       "      <td>12+</td>\n",
       "      <td>0.0</td>\n",
       "      <td>-49.29</td>\n",
       "    </tr>\n",
       "    <tr>\n",
       "      <th>196254</th>\n",
       "      <td>2022-08-19</td>\n",
       "      <td>CHFL</td>\n",
       "      <td>-95</td>\n",
       "      <td>7653097.0</td>\n",
       "      <td>1586596</td>\n",
       "      <td>0.0</td>\n",
       "      <td>20.73</td>\n",
       "      <td>COVID19NotVaccPersons</td>\n",
       "      <td>2022-08-23_07-00-27</td>\n",
       "      <td>detailed</td>\n",
       "      <td>12+</td>\n",
       "      <td>0.0</td>\n",
       "      <td>-47.57</td>\n",
       "    </tr>\n",
       "    <tr>\n",
       "      <th>196255</th>\n",
       "      <td>2022-08-20</td>\n",
       "      <td>CHFL</td>\n",
       "      <td>-13</td>\n",
       "      <td>7653097.0</td>\n",
       "      <td>1586583</td>\n",
       "      <td>0.0</td>\n",
       "      <td>20.73</td>\n",
       "      <td>COVID19NotVaccPersons</td>\n",
       "      <td>2022-08-23_07-00-27</td>\n",
       "      <td>detailed</td>\n",
       "      <td>12+</td>\n",
       "      <td>NaN</td>\n",
       "      <td>NaN</td>\n",
       "    </tr>\n",
       "    <tr>\n",
       "      <th>196256</th>\n",
       "      <td>2022-08-21</td>\n",
       "      <td>CHFL</td>\n",
       "      <td>0</td>\n",
       "      <td>7653097.0</td>\n",
       "      <td>1586583</td>\n",
       "      <td>0.0</td>\n",
       "      <td>20.73</td>\n",
       "      <td>COVID19NotVaccPersons</td>\n",
       "      <td>2022-08-23_07-00-27</td>\n",
       "      <td>detailed</td>\n",
       "      <td>12+</td>\n",
       "      <td>NaN</td>\n",
       "      <td>NaN</td>\n",
       "    </tr>\n",
       "    <tr>\n",
       "      <th>196257</th>\n",
       "      <td>2022-08-22</td>\n",
       "      <td>CHFL</td>\n",
       "      <td>-29</td>\n",
       "      <td>7653097.0</td>\n",
       "      <td>1586554</td>\n",
       "      <td>0.0</td>\n",
       "      <td>20.73</td>\n",
       "      <td>COVID19NotVaccPersons</td>\n",
       "      <td>2022-08-23_07-00-27</td>\n",
       "      <td>detailed</td>\n",
       "      <td>12+</td>\n",
       "      <td>NaN</td>\n",
       "      <td>NaN</td>\n",
       "    </tr>\n",
       "  </tbody>\n",
       "</table>\n",
       "<p>196258 rows × 13 columns</p>\n",
       "</div>"
      ],
      "text/plain": [
       "             date geoRegion  entries        pop  sumTotal  per100Persons  \\\n",
       "0      2020-12-21        AG        0   694072.0         0            0.0   \n",
       "1      2020-12-22        AG        0   694072.0         0            0.0   \n",
       "2      2020-12-23        AG        5   694072.0         5            0.0   \n",
       "3      2020-12-24        AG        3   694072.0         8            0.0   \n",
       "4      2020-12-25        AG        0   694072.0         8            0.0   \n",
       "...           ...       ...      ...        ...       ...            ...   \n",
       "196253 2022-08-18      CHFL      -42  7653097.0   1586691            0.0   \n",
       "196254 2022-08-19      CHFL      -95  7653097.0   1586596            0.0   \n",
       "196255 2022-08-20      CHFL      -13  7653097.0   1586583            0.0   \n",
       "196256 2022-08-21      CHFL        0  7653097.0   1586583            0.0   \n",
       "196257 2022-08-22      CHFL      -29  7653097.0   1586554            0.0   \n",
       "\n",
       "        per100PersonsTotal                          type              version  \\\n",
       "0                     0.00  COVID19AtLeastOneDosePersons  2022-08-23_07-00-27   \n",
       "1                     0.00  COVID19AtLeastOneDosePersons  2022-08-23_07-00-27   \n",
       "2                     0.00  COVID19AtLeastOneDosePersons  2022-08-23_07-00-27   \n",
       "3                     0.00  COVID19AtLeastOneDosePersons  2022-08-23_07-00-27   \n",
       "4                     0.00  COVID19AtLeastOneDosePersons  2022-08-23_07-00-27   \n",
       "...                    ...                           ...                  ...   \n",
       "196253               20.73         COVID19NotVaccPersons  2022-08-23_07-00-27   \n",
       "196254               20.73         COVID19NotVaccPersons  2022-08-23_07-00-27   \n",
       "196255               20.73         COVID19NotVaccPersons  2022-08-23_07-00-27   \n",
       "196256               20.73         COVID19NotVaccPersons  2022-08-23_07-00-27   \n",
       "196257               20.73         COVID19NotVaccPersons  2022-08-23_07-00-27   \n",
       "\n",
       "       granularity         age_group  per100Persons_mean7d  mean7d  \n",
       "0         detailed  total_population                   NaN     NaN  \n",
       "1         detailed  total_population                   NaN     NaN  \n",
       "2         detailed  total_population                   NaN     NaN  \n",
       "3         detailed  total_population                   0.0    1.14  \n",
       "4         detailed  total_population                   0.0   10.57  \n",
       "...            ...               ...                   ...     ...  \n",
       "196253    detailed               12+                   0.0  -49.29  \n",
       "196254    detailed               12+                   0.0  -47.57  \n",
       "196255    detailed               12+                   NaN     NaN  \n",
       "196256    detailed               12+                   NaN     NaN  \n",
       "196257    detailed               12+                   NaN     NaN  \n",
       "\n",
       "[196258 rows x 13 columns]"
      ]
     },
     "execution_count": 9,
     "metadata": {},
     "output_type": "execute_result"
    }
   ],
   "source": [
    "vac_df = pd.read_json(\"https://www.covid19.admin.ch/api/data/20220823-t277q5g2/sources/COVID19VaccPersons_v2.json\")\n",
    "vac_df"
   ]
  },
  {
   "cell_type": "markdown",
   "metadata": {
    "id": "xCI7ub-706qN",
    "pycharm": {
     "name": "#%% md\n"
    }
   },
   "source": [
    "### 3. Indexing on a DataFrame\n",
    "\n",
    "By methods (we are back to our Iris dataset):"
   ]
  },
  {
   "cell_type": "code",
   "execution_count": 10,
   "metadata": {
    "id": "R0sDmvr006qN",
    "pycharm": {
     "name": "#%%\n"
    }
   },
   "outputs": [
    {
     "data": {
      "text/plain": [
       "'3.2'"
      ]
     },
     "execution_count": 10,
     "metadata": {},
     "output_type": "execute_result"
    }
   ],
   "source": [
    "iris.iloc[1, 1]"
   ]
  },
  {
   "cell_type": "code",
   "execution_count": 11,
   "metadata": {
    "id": "HglpOox106qN",
    "pycharm": {
     "name": "#%%\n"
    }
   },
   "outputs": [
    {
     "data": {
      "text/html": [
       "<div>\n",
       "<style scoped>\n",
       "    .dataframe tbody tr th:only-of-type {\n",
       "        vertical-align: middle;\n",
       "    }\n",
       "\n",
       "    .dataframe tbody tr th {\n",
       "        vertical-align: top;\n",
       "    }\n",
       "\n",
       "    .dataframe thead th {\n",
       "        text-align: right;\n",
       "    }\n",
       "</style>\n",
       "<table border=\"1\" class=\"dataframe\">\n",
       "  <thead>\n",
       "    <tr style=\"text-align: right;\">\n",
       "      <th></th>\n",
       "      <th>slength</th>\n",
       "      <th>swidth</th>\n",
       "      <th>plength</th>\n",
       "      <th>pwidth</th>\n",
       "      <th>species</th>\n",
       "    </tr>\n",
       "  </thead>\n",
       "  <tbody>\n",
       "    <tr>\n",
       "      <th>0</th>\n",
       "      <td>4.9</td>\n",
       "      <td>3.0</td>\n",
       "      <td>1.4</td>\n",
       "      <td>0.2</td>\n",
       "      <td>Iris-setosa</td>\n",
       "    </tr>\n",
       "    <tr>\n",
       "      <th>1</th>\n",
       "      <td>4.7</td>\n",
       "      <td>3.2</td>\n",
       "      <td>1.3</td>\n",
       "      <td>0.2</td>\n",
       "      <td>Iris-setosa</td>\n",
       "    </tr>\n",
       "    <tr>\n",
       "      <th>2</th>\n",
       "      <td>4.6</td>\n",
       "      <td>3.1</td>\n",
       "      <td>1.5</td>\n",
       "      <td>0.2</td>\n",
       "      <td>Iris-setosa</td>\n",
       "    </tr>\n",
       "    <tr>\n",
       "      <th>3</th>\n",
       "      <td>5.0</td>\n",
       "      <td>3.6</td>\n",
       "      <td>1.4</td>\n",
       "      <td>0.2</td>\n",
       "      <td>Iris-setosa</td>\n",
       "    </tr>\n",
       "    <tr>\n",
       "      <th>4</th>\n",
       "      <td>5.4</td>\n",
       "      <td>3.9</td>\n",
       "      <td>1.7</td>\n",
       "      <td>0.4</td>\n",
       "      <td>Iris-setosa</td>\n",
       "    </tr>\n",
       "    <tr>\n",
       "      <th>5</th>\n",
       "      <td>4.6</td>\n",
       "      <td>3.4</td>\n",
       "      <td>1.4</td>\n",
       "      <td>0.3</td>\n",
       "      <td>Iris-setosa</td>\n",
       "    </tr>\n",
       "    <tr>\n",
       "      <th>6</th>\n",
       "      <td>5.0</td>\n",
       "      <td>3.4</td>\n",
       "      <td>1.5</td>\n",
       "      <td>0.2</td>\n",
       "      <td>Iris-setosa</td>\n",
       "    </tr>\n",
       "    <tr>\n",
       "      <th>7</th>\n",
       "      <td>4.4</td>\n",
       "      <td>2.9</td>\n",
       "      <td>1.4</td>\n",
       "      <td>0.2</td>\n",
       "      <td>Iris-setosa</td>\n",
       "    </tr>\n",
       "    <tr>\n",
       "      <th>8</th>\n",
       "      <td>4.9</td>\n",
       "      <td>3.1</td>\n",
       "      <td>1.5</td>\n",
       "      <td>0.1</td>\n",
       "      <td>Iris-setosa</td>\n",
       "    </tr>\n",
       "    <tr>\n",
       "      <th>9</th>\n",
       "      <td>5.4</td>\n",
       "      <td>3.7</td>\n",
       "      <td>1.5</td>\n",
       "      <td>0.2</td>\n",
       "      <td>Iris-setosa</td>\n",
       "    </tr>\n",
       "  </tbody>\n",
       "</table>\n",
       "</div>"
      ],
      "text/plain": [
       "  slength swidth plength pwidth      species\n",
       "0     4.9    3.0     1.4    0.2  Iris-setosa\n",
       "1     4.7    3.2     1.3    0.2  Iris-setosa\n",
       "2     4.6    3.1     1.5    0.2  Iris-setosa\n",
       "3     5.0    3.6     1.4    0.2  Iris-setosa\n",
       "4     5.4    3.9     1.7    0.4  Iris-setosa\n",
       "5     4.6    3.4     1.4    0.3  Iris-setosa\n",
       "6     5.0    3.4     1.5    0.2  Iris-setosa\n",
       "7     4.4    2.9     1.4    0.2  Iris-setosa\n",
       "8     4.9    3.1     1.5    0.1  Iris-setosa\n",
       "9     5.4    3.7     1.5    0.2  Iris-setosa"
      ]
     },
     "execution_count": 11,
     "metadata": {},
     "output_type": "execute_result"
    }
   ],
   "source": [
    "siris = iris.iloc[0:10, 0:5]\n",
    "siris"
   ]
  },
  {
   "cell_type": "code",
   "execution_count": 12,
   "metadata": {
    "collapsed": false,
    "pycharm": {
     "name": "#%%\n"
    }
   },
   "outputs": [
    {
     "data": {
      "text/html": [
       "<div>\n",
       "<style scoped>\n",
       "    .dataframe tbody tr th:only-of-type {\n",
       "        vertical-align: middle;\n",
       "    }\n",
       "\n",
       "    .dataframe tbody tr th {\n",
       "        vertical-align: top;\n",
       "    }\n",
       "\n",
       "    .dataframe thead th {\n",
       "        text-align: right;\n",
       "    }\n",
       "</style>\n",
       "<table border=\"1\" class=\"dataframe\">\n",
       "  <thead>\n",
       "    <tr style=\"text-align: right;\">\n",
       "      <th></th>\n",
       "      <th>slength</th>\n",
       "      <th>swidth</th>\n",
       "      <th>plength</th>\n",
       "      <th>pwidth</th>\n",
       "      <th>species</th>\n",
       "    </tr>\n",
       "  </thead>\n",
       "  <tbody>\n",
       "    <tr>\n",
       "      <th>0</th>\n",
       "      <td>4.9</td>\n",
       "      <td>3.0</td>\n",
       "      <td>1.4</td>\n",
       "      <td>0.2</td>\n",
       "      <td>Iris-setosa</td>\n",
       "    </tr>\n",
       "    <tr>\n",
       "      <th>1</th>\n",
       "      <td>4.7</td>\n",
       "      <td>3.2</td>\n",
       "      <td>1.3</td>\n",
       "      <td>0.2</td>\n",
       "      <td>Iris-setosa</td>\n",
       "    </tr>\n",
       "    <tr>\n",
       "      <th>2</th>\n",
       "      <td>4.6</td>\n",
       "      <td>3.1</td>\n",
       "      <td>1.5</td>\n",
       "      <td>0.2</td>\n",
       "      <td>Iris-setosa</td>\n",
       "    </tr>\n",
       "    <tr>\n",
       "      <th>3</th>\n",
       "      <td>5.0</td>\n",
       "      <td>3.6</td>\n",
       "      <td>1.4</td>\n",
       "      <td>0.2</td>\n",
       "      <td>Iris-setosa</td>\n",
       "    </tr>\n",
       "    <tr>\n",
       "      <th>4</th>\n",
       "      <td>5.4</td>\n",
       "      <td>3.9</td>\n",
       "      <td>1.7</td>\n",
       "      <td>0.4</td>\n",
       "      <td>Iris-setosa</td>\n",
       "    </tr>\n",
       "    <tr>\n",
       "      <th>5</th>\n",
       "      <td>4.6</td>\n",
       "      <td>3.4</td>\n",
       "      <td>1.4</td>\n",
       "      <td>0.3</td>\n",
       "      <td>Iris-setosa</td>\n",
       "    </tr>\n",
       "    <tr>\n",
       "      <th>6</th>\n",
       "      <td>5.0</td>\n",
       "      <td>3.4</td>\n",
       "      <td>1.5</td>\n",
       "      <td>0.2</td>\n",
       "      <td>Iris-setosa</td>\n",
       "    </tr>\n",
       "    <tr>\n",
       "      <th>7</th>\n",
       "      <td>4.4</td>\n",
       "      <td>2.9</td>\n",
       "      <td>1.4</td>\n",
       "      <td>0.2</td>\n",
       "      <td>Iris-setosa</td>\n",
       "    </tr>\n",
       "    <tr>\n",
       "      <th>8</th>\n",
       "      <td>4.9</td>\n",
       "      <td>3.1</td>\n",
       "      <td>1.5</td>\n",
       "      <td>0.1</td>\n",
       "      <td>Iris-setosa</td>\n",
       "    </tr>\n",
       "    <tr>\n",
       "      <th>9</th>\n",
       "      <td>5.4</td>\n",
       "      <td>3.7</td>\n",
       "      <td>1.5</td>\n",
       "      <td>0.2</td>\n",
       "      <td>Iris-setosa</td>\n",
       "    </tr>\n",
       "  </tbody>\n",
       "</table>\n",
       "</div>"
      ],
      "text/plain": [
       "  slength swidth plength pwidth      species\n",
       "0     4.9    3.0     1.4    0.2  Iris-setosa\n",
       "1     4.7    3.2     1.3    0.2  Iris-setosa\n",
       "2     4.6    3.1     1.5    0.2  Iris-setosa\n",
       "3     5.0    3.6     1.4    0.2  Iris-setosa\n",
       "4     5.4    3.9     1.7    0.4  Iris-setosa\n",
       "5     4.6    3.4     1.4    0.3  Iris-setosa\n",
       "6     5.0    3.4     1.5    0.2  Iris-setosa\n",
       "7     4.4    2.9     1.4    0.2  Iris-setosa\n",
       "8     4.9    3.1     1.5    0.1  Iris-setosa\n",
       "9     5.4    3.7     1.5    0.2  Iris-setosa"
      ]
     },
     "execution_count": 12,
     "metadata": {},
     "output_type": "execute_result"
    }
   ],
   "source": [
    "siris"
   ]
  },
  {
   "cell_type": "markdown",
   "metadata": {
    "id": "jf6gF3jr06qN",
    "pycharm": {
     "name": "#%% md\n"
    }
   },
   "source": [
    "Indexing a group/subset of the dataframe"
   ]
  },
  {
   "cell_type": "code",
   "execution_count": 13,
   "metadata": {
    "id": "CvKPHzP106qO",
    "pycharm": {
     "name": "#%%\n"
    }
   },
   "outputs": [],
   "source": [
    "# see above"
   ]
  },
  {
   "cell_type": "markdown",
   "metadata": {
    "id": "8holfyZd06qO",
    "pycharm": {
     "name": "#%% md\n"
    }
   },
   "source": [
    "**Important** \n",
    "When you assign a (subset) of dataframe to a new one like above, no copy is made. This means that if you change values of the new frame, also the orginal frame will be changed. If you want a copy, you need to use the copy method."
   ]
  },
  {
   "cell_type": "markdown",
   "metadata": {
    "id": "9n8pa6UH06qO",
    "pycharm": {
     "name": "#%% md\n"
    }
   },
   "source": [
    "Indexing by column names..."
   ]
  },
  {
   "cell_type": "code",
   "execution_count": 14,
   "metadata": {
    "id": "ZapUeo_x06qO",
    "pycharm": {
     "name": "#%%\n"
    }
   },
   "outputs": [
    {
     "data": {
      "text/plain": [
       "pandas.core.frame.DataFrame"
      ]
     },
     "execution_count": 14,
     "metadata": {},
     "output_type": "execute_result"
    }
   ],
   "source": [
    "siris_sub = siris[[\"slength\", \"plength\"]]  # evaluert zu einem dataframe\n",
    "type(siris_sub)"
   ]
  },
  {
   "cell_type": "code",
   "execution_count": 15,
   "metadata": {
    "collapsed": false,
    "pycharm": {
     "name": "#%%\n"
    }
   },
   "outputs": [
    {
     "data": {
      "text/plain": [
       "pandas.core.series.Series"
      ]
     },
     "execution_count": 15,
     "metadata": {},
     "output_type": "execute_result"
    }
   ],
   "source": [
    "siris_sub = siris[\"slength\"]  # evaluert zu einer series (vektor)\n",
    "type(siris_sub)"
   ]
  },
  {
   "cell_type": "markdown",
   "metadata": {
    "id": "R0Sqgdk106qP",
    "pycharm": {
     "name": "#%% md\n"
    }
   },
   "source": [
    "Selecting (filtering) by column valuess_df = dataframe[dataframe['species']=='Iris-setosa']"
   ]
  },
  {
   "cell_type": "code",
   "execution_count": 16,
   "metadata": {
    "id": "BPqUoUYR06qP",
    "pycharm": {
     "name": "#%%\n"
    }
   },
   "outputs": [
    {
     "data": {
      "text/plain": [
       "array(['Iris-virginica'], dtype=object)"
      ]
     },
     "execution_count": 16,
     "metadata": {},
     "output_type": "execute_result"
    }
   ],
   "source": [
    "siris_sub2 = iris.loc[iris[\"species\"] == \"Iris-virginica\", :]\n",
    "test = siris_sub2[\"species\"]\n",
    "siris_sub2[\"species\"].unique()"
   ]
  },
  {
   "cell_type": "code",
   "execution_count": null,
   "metadata": {
    "id": "cp2J-Y0E06qP",
    "pycharm": {
     "name": "#%%\n"
    }
   },
   "outputs": [],
   "source": []
  },
  {
   "cell_type": "markdown",
   "metadata": {
    "id": "IO6qtwYH06qP",
    "pycharm": {
     "name": "#%% md\n"
    }
   },
   "source": [
    "Vectorized dataframe manipulations..."
   ]
  },
  {
   "cell_type": "code",
   "execution_count": 29,
   "metadata": {
    "id": "3dN1twE406qP",
    "pycharm": {
     "name": "#%%\n"
    }
   },
   "outputs": [
    {
     "data": {
      "text/plain": [
       "0      4.9\n",
       "1      4.7\n",
       "2      4.6\n",
       "3      5.0\n",
       "4      5.4\n",
       "      ... \n",
       "144    6.7\n",
       "145    6.3\n",
       "146    6.5\n",
       "147    6.2\n",
       "148    5.9\n",
       "Name: slength, Length: 149, dtype: object"
      ]
     },
     "execution_count": 29,
     "metadata": {},
     "output_type": "execute_result"
    }
   ],
   "source": [
    "#iris[\"half-slength\"]=iris[\"slength\"]\n",
    "#iris['half slength']=iris['slength'].astype('float')/2.\n",
    "iris['slength']\n",
    "#pd.DataFrame.astype?"
   ]
  },
  {
   "cell_type": "code",
   "execution_count": null,
   "metadata": {},
   "outputs": [],
   "source": []
  },
  {
   "cell_type": "markdown",
   "metadata": {
    "id": "peiXnTgAxw08",
    "pycharm": {
     "name": "#%% md\n"
    }
   },
   "source": [
    "Grouping ..."
   ]
  },
  {
   "cell_type": "code",
   "execution_count": null,
   "metadata": {
    "id": "SPJDgpc006qP",
    "pycharm": {
     "name": "#%%\n"
    }
   },
   "outputs": [],
   "source": []
  },
  {
   "cell_type": "markdown",
   "metadata": {
    "id": "NkS6YD7V06qQ",
    "pycharm": {
     "name": "#%% md\n"
    }
   },
   "source": [
    "### 4. Sorting on a DataFrame\n",
    "\n",
    "..."
   ]
  },
  {
   "cell_type": "code",
   "execution_count": 3,
   "metadata": {
    "id": "d1hGqMMk06qQ",
    "pycharm": {
     "name": "#%%\n"
    }
   },
   "outputs": [
    {
     "data": {
      "text/html": [
       "<div>\n",
       "<style scoped>\n",
       "    .dataframe tbody tr th:only-of-type {\n",
       "        vertical-align: middle;\n",
       "    }\n",
       "\n",
       "    .dataframe tbody tr th {\n",
       "        vertical-align: top;\n",
       "    }\n",
       "\n",
       "    .dataframe thead th {\n",
       "        text-align: right;\n",
       "    }\n",
       "</style>\n",
       "<table border=\"1\" class=\"dataframe\">\n",
       "  <thead>\n",
       "    <tr style=\"text-align: right;\">\n",
       "      <th></th>\n",
       "      <th>slength</th>\n",
       "      <th>swidth</th>\n",
       "      <th>plength</th>\n",
       "      <th>pwidth</th>\n",
       "      <th>species</th>\n",
       "    </tr>\n",
       "  </thead>\n",
       "  <tbody>\n",
       "    <tr>\n",
       "      <th>0</th>\n",
       "      <td>4.9</td>\n",
       "      <td>3.0</td>\n",
       "      <td>1.4</td>\n",
       "      <td>0.2</td>\n",
       "      <td>Iris-setosa</td>\n",
       "    </tr>\n",
       "    <tr>\n",
       "      <th>1</th>\n",
       "      <td>4.7</td>\n",
       "      <td>3.2</td>\n",
       "      <td>1.3</td>\n",
       "      <td>0.2</td>\n",
       "      <td>Iris-setosa</td>\n",
       "    </tr>\n",
       "    <tr>\n",
       "      <th>2</th>\n",
       "      <td>4.6</td>\n",
       "      <td>3.1</td>\n",
       "      <td>1.5</td>\n",
       "      <td>0.2</td>\n",
       "      <td>Iris-setosa</td>\n",
       "    </tr>\n",
       "    <tr>\n",
       "      <th>3</th>\n",
       "      <td>5.0</td>\n",
       "      <td>3.6</td>\n",
       "      <td>1.4</td>\n",
       "      <td>0.2</td>\n",
       "      <td>Iris-setosa</td>\n",
       "    </tr>\n",
       "    <tr>\n",
       "      <th>4</th>\n",
       "      <td>5.4</td>\n",
       "      <td>3.9</td>\n",
       "      <td>1.7</td>\n",
       "      <td>0.4</td>\n",
       "      <td>Iris-setosa</td>\n",
       "    </tr>\n",
       "    <tr>\n",
       "      <th>...</th>\n",
       "      <td>...</td>\n",
       "      <td>...</td>\n",
       "      <td>...</td>\n",
       "      <td>...</td>\n",
       "      <td>...</td>\n",
       "    </tr>\n",
       "    <tr>\n",
       "      <th>144</th>\n",
       "      <td>6.7</td>\n",
       "      <td>3.0</td>\n",
       "      <td>5.2</td>\n",
       "      <td>2.3</td>\n",
       "      <td>Iris-virginica</td>\n",
       "    </tr>\n",
       "    <tr>\n",
       "      <th>145</th>\n",
       "      <td>6.3</td>\n",
       "      <td>2.5</td>\n",
       "      <td>5.0</td>\n",
       "      <td>1.9</td>\n",
       "      <td>Iris-virginica</td>\n",
       "    </tr>\n",
       "    <tr>\n",
       "      <th>146</th>\n",
       "      <td>6.5</td>\n",
       "      <td>3.0</td>\n",
       "      <td>5.2</td>\n",
       "      <td>2.0</td>\n",
       "      <td>Iris-virginica</td>\n",
       "    </tr>\n",
       "    <tr>\n",
       "      <th>147</th>\n",
       "      <td>6.2</td>\n",
       "      <td>3.4</td>\n",
       "      <td>5.4</td>\n",
       "      <td>2.3</td>\n",
       "      <td>Iris-virginica</td>\n",
       "    </tr>\n",
       "    <tr>\n",
       "      <th>148</th>\n",
       "      <td>5.9</td>\n",
       "      <td>3.0</td>\n",
       "      <td>5.1</td>\n",
       "      <td>1.8</td>\n",
       "      <td>Iris-virginica</td>\n",
       "    </tr>\n",
       "  </tbody>\n",
       "</table>\n",
       "<p>149 rows × 5 columns</p>\n",
       "</div>"
      ],
      "text/plain": [
       "    slength swidth plength pwidth         species\n",
       "0       4.9    3.0     1.4    0.2     Iris-setosa\n",
       "1       4.7    3.2     1.3    0.2     Iris-setosa\n",
       "2       4.6    3.1     1.5    0.2     Iris-setosa\n",
       "3       5.0    3.6     1.4    0.2     Iris-setosa\n",
       "4       5.4    3.9     1.7    0.4     Iris-setosa\n",
       "..      ...    ...     ...    ...             ...\n",
       "144     6.7    3.0     5.2    2.3  Iris-virginica\n",
       "145     6.3    2.5     5.0    1.9  Iris-virginica\n",
       "146     6.5    3.0     5.2    2.0  Iris-virginica\n",
       "147     6.2    3.4     5.4    2.3  Iris-virginica\n",
       "148     5.9    3.0     5.1    1.8  Iris-virginica\n",
       "\n",
       "[149 rows x 5 columns]"
      ]
     },
     "execution_count": 3,
     "metadata": {},
     "output_type": "execute_result"
    }
   ],
   "source": [
    "iris"
   ]
  },
  {
   "cell_type": "code",
   "execution_count": 8,
   "metadata": {
    "id": "ghnoA6O306qQ",
    "pycharm": {
     "name": "#%%\n"
    }
   },
   "outputs": [
    {
     "data": {
      "text/html": [
       "<div>\n",
       "<style scoped>\n",
       "    .dataframe tbody tr th:only-of-type {\n",
       "        vertical-align: middle;\n",
       "    }\n",
       "\n",
       "    .dataframe tbody tr th {\n",
       "        vertical-align: top;\n",
       "    }\n",
       "\n",
       "    .dataframe thead th {\n",
       "        text-align: right;\n",
       "    }\n",
       "</style>\n",
       "<table border=\"1\" class=\"dataframe\">\n",
       "  <thead>\n",
       "    <tr style=\"text-align: right;\">\n",
       "      <th></th>\n",
       "      <th>slength</th>\n",
       "      <th>swidth</th>\n",
       "      <th>plength</th>\n",
       "      <th>pwidth</th>\n",
       "      <th>species</th>\n",
       "    </tr>\n",
       "  </thead>\n",
       "  <tbody>\n",
       "    <tr>\n",
       "      <th>130</th>\n",
       "      <td>7.9</td>\n",
       "      <td>3.8</td>\n",
       "      <td>6.4</td>\n",
       "      <td>2.0</td>\n",
       "      <td>Iris-virginica</td>\n",
       "    </tr>\n",
       "    <tr>\n",
       "      <th>134</th>\n",
       "      <td>7.7</td>\n",
       "      <td>3.0</td>\n",
       "      <td>6.1</td>\n",
       "      <td>2.3</td>\n",
       "      <td>Iris-virginica</td>\n",
       "    </tr>\n",
       "    <tr>\n",
       "      <th>121</th>\n",
       "      <td>7.7</td>\n",
       "      <td>2.8</td>\n",
       "      <td>6.7</td>\n",
       "      <td>2.0</td>\n",
       "      <td>Iris-virginica</td>\n",
       "    </tr>\n",
       "    <tr>\n",
       "      <th>116</th>\n",
       "      <td>7.7</td>\n",
       "      <td>3.8</td>\n",
       "      <td>6.7</td>\n",
       "      <td>2.2</td>\n",
       "      <td>Iris-virginica</td>\n",
       "    </tr>\n",
       "    <tr>\n",
       "      <th>117</th>\n",
       "      <td>7.7</td>\n",
       "      <td>2.6</td>\n",
       "      <td>6.9</td>\n",
       "      <td>2.3</td>\n",
       "      <td>Iris-virginica</td>\n",
       "    </tr>\n",
       "    <tr>\n",
       "      <th>...</th>\n",
       "      <td>...</td>\n",
       "      <td>...</td>\n",
       "      <td>...</td>\n",
       "      <td>...</td>\n",
       "      <td>...</td>\n",
       "    </tr>\n",
       "    <tr>\n",
       "      <th>40</th>\n",
       "      <td>4.5</td>\n",
       "      <td>2.3</td>\n",
       "      <td>1.3</td>\n",
       "      <td>0.3</td>\n",
       "      <td>Iris-setosa</td>\n",
       "    </tr>\n",
       "    <tr>\n",
       "      <th>7</th>\n",
       "      <td>4.4</td>\n",
       "      <td>2.9</td>\n",
       "      <td>1.4</td>\n",
       "      <td>0.2</td>\n",
       "      <td>Iris-setosa</td>\n",
       "    </tr>\n",
       "    <tr>\n",
       "      <th>41</th>\n",
       "      <td>4.4</td>\n",
       "      <td>3.2</td>\n",
       "      <td>1.3</td>\n",
       "      <td>0.2</td>\n",
       "      <td>Iris-setosa</td>\n",
       "    </tr>\n",
       "    <tr>\n",
       "      <th>37</th>\n",
       "      <td>4.4</td>\n",
       "      <td>3.0</td>\n",
       "      <td>1.3</td>\n",
       "      <td>0.2</td>\n",
       "      <td>Iris-setosa</td>\n",
       "    </tr>\n",
       "    <tr>\n",
       "      <th>12</th>\n",
       "      <td>4.3</td>\n",
       "      <td>3.0</td>\n",
       "      <td>1.1</td>\n",
       "      <td>0.1</td>\n",
       "      <td>Iris-setosa</td>\n",
       "    </tr>\n",
       "  </tbody>\n",
       "</table>\n",
       "<p>149 rows × 5 columns</p>\n",
       "</div>"
      ],
      "text/plain": [
       "    slength swidth plength pwidth         species\n",
       "130     7.9    3.8     6.4    2.0  Iris-virginica\n",
       "134     7.7    3.0     6.1    2.3  Iris-virginica\n",
       "121     7.7    2.8     6.7    2.0  Iris-virginica\n",
       "116     7.7    3.8     6.7    2.2  Iris-virginica\n",
       "117     7.7    2.6     6.9    2.3  Iris-virginica\n",
       "..      ...    ...     ...    ...             ...\n",
       "40      4.5    2.3     1.3    0.3     Iris-setosa\n",
       "7       4.4    2.9     1.4    0.2     Iris-setosa\n",
       "41      4.4    3.2     1.3    0.2     Iris-setosa\n",
       "37      4.4    3.0     1.3    0.2     Iris-setosa\n",
       "12      4.3    3.0     1.1    0.1     Iris-setosa\n",
       "\n",
       "[149 rows x 5 columns]"
      ]
     },
     "execution_count": 8,
     "metadata": {},
     "output_type": "execute_result"
    }
   ],
   "source": [
    "iris.sort_values(\"slength\", ascending=False)\n",
    "#pd.DataFrame.sort_values?"
   ]
  },
  {
   "cell_type": "markdown",
   "metadata": {
    "id": "2xGm6-8W06qQ",
    "pycharm": {
     "name": "#%% md\n"
    }
   },
   "source": [
    "You may measure the time needed for the execution, e.g. with the operating system command \"time\". System commands are executed with a %:"
   ]
  },
  {
   "cell_type": "code",
   "execution_count": 30,
   "metadata": {
    "id": "PyaC-Aj006qQ",
    "pycharm": {
     "name": "#%%\n"
    }
   },
   "outputs": [
    {
     "name": "stdout",
     "output_type": "stream",
     "text": [
      "CPU times: user 464 µs, sys: 176 µs, total: 640 µs\n",
      "Wall time: 1.12 ms\n"
     ]
    },
    {
     "data": {
      "text/html": [
       "<div>\n",
       "<style scoped>\n",
       "    .dataframe tbody tr th:only-of-type {\n",
       "        vertical-align: middle;\n",
       "    }\n",
       "\n",
       "    .dataframe tbody tr th {\n",
       "        vertical-align: top;\n",
       "    }\n",
       "\n",
       "    .dataframe thead th {\n",
       "        text-align: right;\n",
       "    }\n",
       "</style>\n",
       "<table border=\"1\" class=\"dataframe\">\n",
       "  <thead>\n",
       "    <tr style=\"text-align: right;\">\n",
       "      <th></th>\n",
       "      <th>slength</th>\n",
       "      <th>swidth</th>\n",
       "      <th>plength</th>\n",
       "      <th>pwidth</th>\n",
       "      <th>species</th>\n",
       "      <th>half slength</th>\n",
       "    </tr>\n",
       "  </thead>\n",
       "  <tbody>\n",
       "    <tr>\n",
       "      <th>130</th>\n",
       "      <td>7.9</td>\n",
       "      <td>3.8</td>\n",
       "      <td>6.4</td>\n",
       "      <td>2.0</td>\n",
       "      <td>Iris-virginica</td>\n",
       "      <td>3.95</td>\n",
       "    </tr>\n",
       "    <tr>\n",
       "      <th>134</th>\n",
       "      <td>7.7</td>\n",
       "      <td>3.0</td>\n",
       "      <td>6.1</td>\n",
       "      <td>2.3</td>\n",
       "      <td>Iris-virginica</td>\n",
       "      <td>3.85</td>\n",
       "    </tr>\n",
       "    <tr>\n",
       "      <th>121</th>\n",
       "      <td>7.7</td>\n",
       "      <td>2.8</td>\n",
       "      <td>6.7</td>\n",
       "      <td>2.0</td>\n",
       "      <td>Iris-virginica</td>\n",
       "      <td>3.85</td>\n",
       "    </tr>\n",
       "    <tr>\n",
       "      <th>116</th>\n",
       "      <td>7.7</td>\n",
       "      <td>3.8</td>\n",
       "      <td>6.7</td>\n",
       "      <td>2.2</td>\n",
       "      <td>Iris-virginica</td>\n",
       "      <td>3.85</td>\n",
       "    </tr>\n",
       "    <tr>\n",
       "      <th>117</th>\n",
       "      <td>7.7</td>\n",
       "      <td>2.6</td>\n",
       "      <td>6.9</td>\n",
       "      <td>2.3</td>\n",
       "      <td>Iris-virginica</td>\n",
       "      <td>3.85</td>\n",
       "    </tr>\n",
       "    <tr>\n",
       "      <th>...</th>\n",
       "      <td>...</td>\n",
       "      <td>...</td>\n",
       "      <td>...</td>\n",
       "      <td>...</td>\n",
       "      <td>...</td>\n",
       "      <td>...</td>\n",
       "    </tr>\n",
       "    <tr>\n",
       "      <th>40</th>\n",
       "      <td>4.5</td>\n",
       "      <td>2.3</td>\n",
       "      <td>1.3</td>\n",
       "      <td>0.3</td>\n",
       "      <td>Iris-setosa</td>\n",
       "      <td>2.25</td>\n",
       "    </tr>\n",
       "    <tr>\n",
       "      <th>7</th>\n",
       "      <td>4.4</td>\n",
       "      <td>2.9</td>\n",
       "      <td>1.4</td>\n",
       "      <td>0.2</td>\n",
       "      <td>Iris-setosa</td>\n",
       "      <td>2.20</td>\n",
       "    </tr>\n",
       "    <tr>\n",
       "      <th>41</th>\n",
       "      <td>4.4</td>\n",
       "      <td>3.2</td>\n",
       "      <td>1.3</td>\n",
       "      <td>0.2</td>\n",
       "      <td>Iris-setosa</td>\n",
       "      <td>2.20</td>\n",
       "    </tr>\n",
       "    <tr>\n",
       "      <th>37</th>\n",
       "      <td>4.4</td>\n",
       "      <td>3.0</td>\n",
       "      <td>1.3</td>\n",
       "      <td>0.2</td>\n",
       "      <td>Iris-setosa</td>\n",
       "      <td>2.20</td>\n",
       "    </tr>\n",
       "    <tr>\n",
       "      <th>12</th>\n",
       "      <td>4.3</td>\n",
       "      <td>3.0</td>\n",
       "      <td>1.1</td>\n",
       "      <td>0.1</td>\n",
       "      <td>Iris-setosa</td>\n",
       "      <td>2.15</td>\n",
       "    </tr>\n",
       "  </tbody>\n",
       "</table>\n",
       "<p>149 rows × 6 columns</p>\n",
       "</div>"
      ],
      "text/plain": [
       "    slength swidth plength pwidth         species  half slength\n",
       "130     7.9    3.8     6.4    2.0  Iris-virginica          3.95\n",
       "134     7.7    3.0     6.1    2.3  Iris-virginica          3.85\n",
       "121     7.7    2.8     6.7    2.0  Iris-virginica          3.85\n",
       "116     7.7    3.8     6.7    2.2  Iris-virginica          3.85\n",
       "117     7.7    2.6     6.9    2.3  Iris-virginica          3.85\n",
       "..      ...    ...     ...    ...             ...           ...\n",
       "40      4.5    2.3     1.3    0.3     Iris-setosa          2.25\n",
       "7       4.4    2.9     1.4    0.2     Iris-setosa          2.20\n",
       "41      4.4    3.2     1.3    0.2     Iris-setosa          2.20\n",
       "37      4.4    3.0     1.3    0.2     Iris-setosa          2.20\n",
       "12      4.3    3.0     1.1    0.1     Iris-setosa          2.15\n",
       "\n",
       "[149 rows x 6 columns]"
      ]
     },
     "execution_count": 30,
     "metadata": {},
     "output_type": "execute_result"
    }
   ],
   "source": [
    "%time iris.sort_values(\"slength\", ascending=False)"
   ]
  },
  {
   "cell_type": "code",
   "execution_count": 31,
   "metadata": {
    "id": "IbQ1Wuqc06qQ",
    "pycharm": {
     "name": "#%%\n"
    }
   },
   "outputs": [
    {
     "name": "stdout",
     "output_type": "stream",
     "text": [
      "total 2208\n",
      "-rw-r--r--@  1 jonasbuechi  staff   38161 Aug 26 16:31 M1-D1-DM-Sol.ipynb\n",
      "-rw-r--r--@  1 jonasbuechi  staff   42549 Sep  2 15:03 M1-D1-DM.ipynb\n",
      "drwxr-xr-x@ 12 jonasbuechi  staff     384 Aug 26 14:09 \u001b[34mM1-D2-DB\u001b[m\u001b[m/\n",
      "-rw-r--r--@  1 jonasbuechi  staff  947797 Aug 26 14:09 M1-D2-DV-Sol.ipynb\n",
      "-rw-r--r--@  1 jonasbuechi  staff   16639 Aug 26 14:09 M1-D2-DV.ipynb\n",
      "-rw-r--r--@  1 jonasbuechi  staff   15572 Aug 26 14:09 M1-D3-MySQL-Ex.ipynb\n",
      "-rw-r--r--@  1 jonasbuechi  staff   28519 Aug 26 14:09 M1-D3-MySQL-Solution.ipynb\n",
      "-rw-r--r--@  1 jonasbuechi  staff   13724 Aug 26 14:09 M1-D3-WWW.ipynb\n",
      "drwxr-xr-x@  5 jonasbuechi  staff     160 Aug 26 14:09 \u001b[34mM1_Web_Scraping\u001b[m\u001b[m/\n",
      "-rw-r--r--@  1 jonasbuechi  staff     817 Aug 26 14:09 Readme.md\n",
      "-rw-r--r--@  1 jonasbuechi  staff    4551 Aug 26 14:09 iris.csv\n"
     ]
    }
   ],
   "source": [
    "%ls -l"
   ]
  },
  {
   "cell_type": "markdown",
   "metadata": {
    "id": "d6I2Xd1d06qQ",
    "pycharm": {
     "name": "#%% md\n"
    }
   },
   "source": [
    "### 5. Filtering on a DataFrame\n",
    "..."
   ]
  },
  {
   "cell_type": "code",
   "execution_count": null,
   "metadata": {
    "id": "XYCwukeI06qR",
    "pycharm": {
     "name": "#%%\n"
    }
   },
   "outputs": [],
   "source": []
  },
  {
   "cell_type": "code",
   "execution_count": null,
   "metadata": {
    "id": "qjnWw_T406qR",
    "pycharm": {
     "name": "#%%\n"
    }
   },
   "outputs": [],
   "source": [
    "# We can assign the filtering result to a new dataframe\n"
   ]
  },
  {
   "cell_type": "code",
   "execution_count": null,
   "metadata": {
    "id": "6Widtyr806qR",
    "pycharm": {
     "name": "#%%\n"
    }
   },
   "outputs": [],
   "source": [
    "# And print it\n"
   ]
  },
  {
   "cell_type": "markdown",
   "metadata": {
    "id": "Rg_y8Ift06qR",
    "pycharm": {
     "name": "#%% md\n"
    }
   },
   "source": [
    "### 6. Missing or bad data\n",
    "\n",
    "Datasets, in particular before they are \"cleaned\", may contain missing or wrongly formated values. There are DataFrame methods to deal with this:\n",
    "\n",
    "- DataFrame.dropna([axis, how, thresh, …])\tRemove missing values.\n",
    "- DataFrame.fillna([value, method, axis, …])\tFill NA/NaN values using the specified method\n",
    "- DataFrame.replace([to_replace, value, …])\tReplace values given in to_replace with value.\n",
    "- DataFrame.interpolate([method, axis, limit, …])\tInterpolate values according to different methods.\n",
    "\n",
    "Retrieving and cleaning data is often the most time consuming part in a data science project."
   ]
  },
  {
   "cell_type": "markdown",
   "metadata": {
    "id": "HN7OXDjJ06qR",
    "pycharm": {
     "name": "#%% md\n"
    }
   },
   "source": [
    "### 7. Exporting dataframes\n",
    "\n",
    "DataFrame has several export methods. (html, hdf5, ascii, excel etc). Let's write our file to a text file in a csv format. "
   ]
  },
  {
   "cell_type": "code",
   "execution_count": null,
   "metadata": {
    "id": "yhxN8bF_06qR",
    "pycharm": {
     "name": "#%%\n"
    }
   },
   "outputs": [],
   "source": []
  },
  {
   "cell_type": "code",
   "execution_count": null,
   "metadata": {
    "id": "b-27C7Vz06qR",
    "pycharm": {
     "name": "#%%\n"
    }
   },
   "outputs": [],
   "source": []
  },
  {
   "cell_type": "markdown",
   "metadata": {
    "id": "Z-Y9fLm6YYlH",
    "pycharm": {
     "name": "#%% md\n"
    }
   },
   "source": [
    "What happens with our files when we close our colab session?"
   ]
  },
  {
   "cell_type": "markdown",
   "metadata": {
    "id": "Q1No9Vhr06qS",
    "pycharm": {
     "name": "#%% md\n"
    }
   },
   "source": [
    "### 8. Metadata\n",
    "\n",
    "\n",
    "Metadata is data about the data, e.g. when was it collected, under which conditions, calibration etc. \n",
    "Metadata is normally not part of the statistical data analysis, however, needed for understanding and reproducibilty. \n",
    "\n",
    "DataFrame is not really made for storing metadata (should be done separately), but one can add new attributes to a dataframe:\n"
   ]
  },
  {
   "cell_type": "code",
   "execution_count": null,
   "metadata": {
    "id": "HQ7Q2lT306qS",
    "pycharm": {
     "name": "#%%\n"
    }
   },
   "outputs": [],
   "source": [
    "\n"
   ]
  },
  {
   "cell_type": "markdown",
   "metadata": {
    "id": "ZpLXCrvn06qS",
    "pycharm": {
     "name": "#%% md\n"
    }
   },
   "source": [
    "### Exercise 2\n",
    "\n",
    "Write down here some minimal metadata about the Iris dataset:\n",
    "\n",
    "- \n",
    "- \n",
    "- \n",
    "Summary: everything needed for reproduction\n",
    "\n",
    "(the \"dimensions of a numpy table or dataframe is often called the shape). 150x5x3"
   ]
  },
  {
   "cell_type": "markdown",
   "metadata": {
    "id": "gm5NcJsD06qS",
    "pycharm": {
     "name": "#%% md\n"
    }
   },
   "source": [
    "### 9. Working on the filesystem with the os module\n",
    "\n",
    "When managing large datasets, one often has to organise files in the file system. This includes finding them, moving and copying them, creating new folders/directories, renaming them etc. This can easily be done from Python with the os (operating system) module. \n",
    "\n",
    "Try to understand the following code and alter it to do something else. "
   ]
  },
  {
   "cell_type": "markdown",
   "metadata": {},
   "source": []
  },
  {
   "cell_type": "code",
   "execution_count": 33,
   "metadata": {
    "id": "8Td_AnJg06qS",
    "pycharm": {
     "name": "#%%\n"
    }
   },
   "outputs": [
    {
     "ename": "FileExistsError",
     "evalue": "[Errno 17] File exists: '/Users/jonasbuechi/Dropbox/Uni/CASADS22/git/CAS-Applied-Data-Science/Module-1/newnbdir'",
     "output_type": "error",
     "traceback": [
      "\u001b[0;31m---------------------------------------------------------------------------\u001b[0m",
      "\u001b[0;31mFileExistsError\u001b[0m                           Traceback (most recent call last)",
      "\u001b[1;32m/Users/jonasbuechi/Dropbox/Uni/CASADS22/git/CAS-Applied-Data-Science/Module-1/M1-D1-DM.ipynb Zelle 62\u001b[0m in \u001b[0;36m<cell line: 4>\u001b[0;34m()\u001b[0m\n\u001b[1;32m      <a href='vscode-notebook-cell:/Users/jonasbuechi/Dropbox/Uni/CASADS22/git/CAS-Applied-Data-Science/Module-1/M1-D1-DM.ipynb#Y113sZmlsZQ%3D%3D?line=0'>1</a>\u001b[0m \u001b[39mimport\u001b[39;00m \u001b[39mos\u001b[39;00m\n\u001b[1;32m      <a href='vscode-notebook-cell:/Users/jonasbuechi/Dropbox/Uni/CASADS22/git/CAS-Applied-Data-Science/Module-1/M1-D1-DM.ipynb#Y113sZmlsZQ%3D%3D?line=2'>3</a>\u001b[0m new_dir \u001b[39m=\u001b[39m os\u001b[39m.\u001b[39mgetcwd() \u001b[39m+\u001b[39m \u001b[39m'\u001b[39m\u001b[39m/newnbdir\u001b[39m\u001b[39m'\u001b[39m  \u001b[39m# Get the current directory into a string, add /newnbdir to the string\u001b[39;00m\n\u001b[0;32m----> <a href='vscode-notebook-cell:/Users/jonasbuechi/Dropbox/Uni/CASADS22/git/CAS-Applied-Data-Science/Module-1/M1-D1-DM.ipynb#Y113sZmlsZQ%3D%3D?line=3'>4</a>\u001b[0m os\u001b[39m.\u001b[39;49mmakedirs(new_dir)  \u001b[39m# Create the folder\u001b[39;00m\n\u001b[1;32m      <a href='vscode-notebook-cell:/Users/jonasbuechi/Dropbox/Uni/CASADS22/git/CAS-Applied-Data-Science/Module-1/M1-D1-DM.ipynb#Y113sZmlsZQ%3D%3D?line=4'>5</a>\u001b[0m files \u001b[39m=\u001b[39m os\u001b[39m.\u001b[39mlistdir()  \u001b[39m# List the files in the current folder\u001b[39;00m\n\u001b[1;32m      <a href='vscode-notebook-cell:/Users/jonasbuechi/Dropbox/Uni/CASADS22/git/CAS-Applied-Data-Science/Module-1/M1-D1-DM.ipynb#Y113sZmlsZQ%3D%3D?line=5'>6</a>\u001b[0m nb_files \u001b[39m=\u001b[39m []  \u001b[39m# Create an empty list\u001b[39;00m\n",
      "File \u001b[0;32m~/opt/anaconda3/envs/CASDAS/lib/python3.9/os.py:225\u001b[0m, in \u001b[0;36mmakedirs\u001b[0;34m(name, mode, exist_ok)\u001b[0m\n\u001b[1;32m    223\u001b[0m         \u001b[39mreturn\u001b[39;00m\n\u001b[1;32m    224\u001b[0m \u001b[39mtry\u001b[39;00m:\n\u001b[0;32m--> 225\u001b[0m     mkdir(name, mode)\n\u001b[1;32m    226\u001b[0m \u001b[39mexcept\u001b[39;00m \u001b[39mOSError\u001b[39;00m:\n\u001b[1;32m    227\u001b[0m     \u001b[39m# Cannot rely on checking for EEXIST, since the operating system\u001b[39;00m\n\u001b[1;32m    228\u001b[0m     \u001b[39m# could give priority to other errors like EACCES or EROFS\u001b[39;00m\n\u001b[1;32m    229\u001b[0m     \u001b[39mif\u001b[39;00m \u001b[39mnot\u001b[39;00m exist_ok \u001b[39mor\u001b[39;00m \u001b[39mnot\u001b[39;00m path\u001b[39m.\u001b[39misdir(name):\n",
      "\u001b[0;31mFileExistsError\u001b[0m: [Errno 17] File exists: '/Users/jonasbuechi/Dropbox/Uni/CASADS22/git/CAS-Applied-Data-Science/Module-1/newnbdir'"
     ]
    }
   ],
   "source": [
    "import os\n",
    "\n",
    "new_dir = os.getcwd() + '/newnbdir'  # Get the current directory into a string, add /newnbdir to the string\n",
    "os.makedirs(new_dir)  # Create the folder\n",
    "files = os.listdir()  # List the files in the current folder\n",
    "nb_files = []  # Create an empty list\n",
    "for file in files:\n",
    "    if 'ipynb' in file and file[0] != '.':\n",
    "        nb_files.append(file)\n",
    "for file in nb_files:\n",
    "    os.system('cp ' + file + ' ' + new_dir + '/')"
   ]
  },
  {
   "cell_type": "code",
   "execution_count": null,
   "metadata": {
    "id": "D0mwR_jFZsbk",
    "pycharm": {
     "name": "#%%\n"
    }
   },
   "outputs": [],
   "source": [
    "!ls -l newnbdir"
   ]
  },
  {
   "cell_type": "markdown",
   "metadata": {
    "id": "aCEPcsaf06qS",
    "pycharm": {
     "name": "#%% md\n"
    }
   },
   "source": [
    "### Exercise 3\n",
    "\n",
    "Read in the iris dataset from iris.csv into a dataframe. Set the values in column 1 in row 39, 49 and 100 to NaN (use the nan method from the numpy package). Then replacethe NaN values to the average value of the respective column. Depending on how you do it, this may be about 10 lines of Python code."
   ]
  },
  {
   "cell_type": "code",
   "execution_count": null,
   "metadata": {
    "id": "X9VczUOG06qS",
    "pycharm": {
     "name": "#%%\n"
    }
   },
   "outputs": [],
   "source": [
    "# Solve your exercise here\n"
   ]
  },
  {
   "cell_type": "markdown",
   "metadata": {
    "id": "8MZXt0ei06qT",
    "pycharm": {
     "name": "#%% md\n"
    }
   },
   "source": [
    "### Exercise 4 \n",
    "\n",
    "Print a sorted list of the weeks and the male deadths with COVID-19 in Switzerland. The weeks with the highest numbers should appear first. This should be doable with about 10 lines of Python. You may need 30 minutes to solve this one.\n"
   ]
  },
  {
   "cell_type": "code",
   "execution_count": null,
   "metadata": {
    "id": "7UPCsexM06qT",
    "pycharm": {
     "name": "#%%\n"
    }
   },
   "outputs": [],
   "source": [
    "\n"
   ]
  },
  {
   "cell_type": "code",
   "execution_count": null,
   "metadata": {
    "id": "0G9RWCiH3DLC",
    "pycharm": {
     "name": "#%%\n"
    }
   },
   "outputs": [],
   "source": []
  },
  {
   "cell_type": "markdown",
   "metadata": {
    "id": "1yOZYAHG06qT",
    "pycharm": {
     "name": "#%% md\n"
    }
   },
   "source": [
    "# End of today - remember to fill the mandatory form\n",
    "\n",
    "Everyone has to fill this form by 10 pm : https://forms.gle/bzDpGLUieVnheZUi6.\n",
    "Have a nice evening and see you tomorrow."
   ]
  },
  {
   "cell_type": "code",
   "execution_count": null,
   "metadata": {
    "id": "wvGsChGa06qT",
    "pycharm": {
     "name": "#%%\n"
    }
   },
   "outputs": [],
   "source": []
  },
  {
   "cell_type": "code",
   "execution_count": null,
   "metadata": {
    "id": "vPndicDx06qT",
    "pycharm": {
     "name": "#%%\n"
    }
   },
   "outputs": [],
   "source": []
  }
 ],
 "metadata": {
  "colab": {
   "name": "M1-D1-DM.ipynb",
   "provenance": [],
   "toc_visible": true
  },
  "kernelspec": {
   "display_name": "Python 3.10.0 ('.venv': venv)",
   "language": "python",
   "name": "python3"
  },
  "language_info": {
   "codemirror_mode": {
    "name": "ipython",
    "version": 3
   },
   "file_extension": ".py",
   "mimetype": "text/x-python",
   "name": "python",
   "nbconvert_exporter": "python",
   "pygments_lexer": "ipython3",
   "version": "3.10.0"
  },
  "vscode": {
   "interpreter": {
    "hash": "a421f863b9c1462b4a0034deb3cdef3c95c871fa51f74595ff57f35c4e240ca6"
   }
  }
 },
 "nbformat": 4,
 "nbformat_minor": 0
}
