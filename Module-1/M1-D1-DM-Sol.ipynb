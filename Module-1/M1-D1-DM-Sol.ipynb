{
 "nbformat": 4,
 "nbformat_minor": 0,
 "metadata": {
  "kernelspec": {
   "display_name": "Python 3",
   "language": "python",
   "name": "python3"
  },
  "language_info": {
   "codemirror_mode": {
    "name": "ipython",
    "version": 3
   },
   "file_extension": ".py",
   "mimetype": "text/x-python",
   "name": "python",
   "nbconvert_exporter": "python",
   "pygments_lexer": "ipython3",
   "version": "3.7.8"
  },
  "colab": {
   "name": "M1-D1-DM-Sol.ipynb",
   "provenance": [],
   "include_colab_link": true
  }
 },
 "cells": [
  {
   "cell_type": "markdown",
   "metadata": {
    "id": "view-in-github",
    "colab_type": "text",
    "pycharm": {
     "name": "#%% md\n"
    }
   },
   "source": [
    "<a href=\"https://colab.research.google.com/github/sigvehaug/CAS-Applied-Data-Science/blob/master/M1_D1_DM_Sol.ipynb\" target=\"_parent\"><img src=\"https://colab.research.google.com/assets/colab-badge.svg\" alt=\"Open In Colab\"/></a>"
   ]
  },
  {
   "cell_type": "markdown",
   "metadata": {
    "id": "dOSMpeOK06p8",
    "pycharm": {
     "name": "#%% md\n"
    }
   },
   "source": [
    "Notebook 1, Module 1, Data and Data Management, CAS Applied Data Science, 2021-08-23, S. Haug, University of Bern.\n"
   ]
  },
  {
   "cell_type": "markdown",
   "metadata": {
    "id": "ljJDZt-n6zPw",
    "pycharm": {
     "name": "#%% md\n"
    }
   },
   "source": [
    "Prerequisite for this notebook is some basic Python experience. \n",
    "\n",
    "Please also look at the first batch of [these slides](https://docs.google.com/presentation/d/1BrlQQGDnEpr8lBiEd9uO-Kw2-WOInAEP-cv-xdUwB4Y/edit?usp=sharing) before doing this notebook. They offer an introduction to data. "
   ]
  },
  {
   "cell_type": "markdown",
   "metadata": {
    "id": "OAVKazfU06p-",
    "pycharm": {
     "name": "#%% md\n"
    }
   },
   "source": [
    "# 1. Data Management\n",
    "\n",
    "Estimated study time is up to 2 hours. According to your background and how much you want to learn, you may need more or less. You are supposed to google, read manuals and chat with others during working through this notebook in order to benefit fully.\n",
    "\n",
    "**Learning outcomes - after completion you**\n",
    "- Know about data sources, types and formats (see lecture slides via link above)\n",
    "- Able to import and export data in Python\n",
    "- Able to do simple things with dataframes in Python\n",
    "- Know about data volumes, metadata and quality\n",
    "- Able to plot histograms and scatter plots in Python (tomorrow)\n",
    "\n",
    "**Documentation on Pandas DataFrame**\n",
    "- Python: https://pandas.pydata.org/pandas-docs/stable/generated/pandas.DataFrame.html\n",
    "\n",
    "## Outline\n",
    "\n",
    "     0. About data management\n",
    "     1. Getting used to Jupyter lab\n",
    "     2. Import datasets into a Python dataframe\n",
    "     3. Indexing on a dataframe\n",
    "     4. Sorting \n",
    "     5. Filtering\n",
    "     6. Exporting\n",
    "     7. Missing and bad data\n",
    "     8. Metadata\n",
    "     9. Working on the filesystem\n"
   ]
  },
  {
   "cell_type": "markdown",
   "metadata": {
    "id": "b-86pc1PfWAT",
    "pycharm": {
     "name": "#%% md\n"
    }
   },
   "source": []
  },
  {
   "cell_type": "code",
   "metadata": {
    "id": "P0o4Jxdy06qA",
    "pycharm": {
     "name": "#%%\n"
    }
   },
   "source": [],
   "execution_count": null,
   "outputs": []
  },
  {
   "cell_type": "markdown",
   "metadata": {
    "id": "0xY2gyiE06qA",
    "pycharm": {
     "name": "#%% md\n"
    }
   },
   "source": [
    "### 0. About data management"
   ]
  },
  {
   "cell_type": "markdown",
   "metadata": {
    "id": "nFyhF-jp06qB",
    "pycharm": {
     "name": "#%% md\n"
    }
   },
   "source": [
    "Handling or managing data involves many steps and technologies at many levels. Data my be colleccted by sensors. It can be a camera, a temperature sensor, a telescope, a microscope (with a camera), a microphone, a particle detector etc. Normally the data is then digitised, maybe preprocessed and written to some media in a certain format, e.g. hard disk. This part of the data management is normally taken care of by engineers. \n",
    "\n",
    "Data may also be collected from all sorts of databases, so data already collected somehow. Time series of financial data, customers, passengers, facebook likes, twitter tweets etc. This is data which is normally already on a media with some interface for access, e.g. paper to be read by a camera, a file on youtube, a table on wikipedia etc. We will look at some ways to collect such data. Some programming and computer skills are needed to do so. It may be that this part of the data management is taken care of by specialised computer scientists, but it may also be expected from a data scientist to have these skills. \n",
    "\n",
    "Analysing data with statisitical and machine learning tools, requires that the data is colleceted, cleaned and prepared for the tools. This is very often a very large part of a data analytics project and a prerequisite. It may involve removing bad data, filter out redundant and noisy data, unify the formats and types, transform the data etc. \n",
    "Thus, a data scientist must be able to perform this part of the data management. This notebook shows the basic operations with Python pandas. With other tools the concepts and operations are very similar.\n",
    "\n",
    "After the data analysis, after the extraction of information and the creation of knowledge, the data is often stored or archived for the future (if this seems cheaper than regenerating the data at a later point). In larger institutions this part of the data management may include educated librarians and others, not necessarily the data scientist.  \n",
    "\n",
    "**In this notebook we only look at a few examples on how to do datamanagement with dataframes. Pandas are extremly powerful and we cannot show everything in a couple of hours. You will become more and more experienced when you work on your module projects. Probably whatever you want to do with your dataframe, there is a way to do it. If not, it probably doesn't make much sense what wou want to do.**\n",
    "\n",
    "Any questions?\n"
   ]
  },
  {
   "cell_type": "markdown",
   "metadata": {
    "id": "z4HJ8cnp06qC",
    "pycharm": {
     "name": "#%% md\n"
    }
   },
   "source": [
    "### 1. Getting used to Jupyter computational notebooks and Colab\n",
    "\n",
    "With Jupyter you can write rich text notebooks with executable code via your browser. There are several so-called kernels or computational back ends, i.e Python, R, Julia, bash etc can be supported. The text is written as Markdown. Latex is also supported (good for math). You can export the notebook in various formats, e.g. html. Everything can be done via the various tabs, however, the key shortcuts make you faster. \n",
    "\n",
    "*Useful key combinations*\n",
    "\n",
    "- Shift Enter or Control Enter = Run cell\n",
    "- Option Enter = Run cell and Insert new cell below\n",
    "\n",
    "*Exercises (10 min)*\n",
    "- Change and run this cell\n",
    "- Add a new cell and execute some python statement in it\n",
    "- Study the tabs in the menu of your jupyter (lab) notebook"
   ]
  },
  {
   "cell_type": "code",
   "metadata": {
    "colab": {
     "base_uri": "https://localhost:8080/"
    },
    "id": "3tn_Bnh606qC",
    "outputId": "e1a70076-de60-4ef7-a088-95f3f2e13c26",
    "pycharm": {
     "name": "#%%\n"
    }
   },
   "source": [
    "# Write some more Python code here\n",
    "\n",
    "print('Hallo CAS')\n",
    "for i in range(10):\n",
    "  print('I am counting %1d' % (i))"
   ],
   "execution_count": null,
   "outputs": [
    {
     "output_type": "stream",
     "text": [
      "Hallo CAS\n",
      "I am counting 0\n",
      "I am counting 1\n",
      "I am counting 2\n",
      "I am counting 3\n",
      "I am counting 4\n",
      "I am counting 5\n",
      "I am counting 6\n",
      "I am counting 7\n",
      "I am counting 8\n",
      "I am counting 9\n"
     ],
     "name": "stdout"
    }
   ]
  },
  {
   "cell_type": "markdown",
   "metadata": {
    "id": "9Yy0P4Q006qD",
    "pycharm": {
     "name": "#%% md\n"
    }
   },
   "source": [
    "### 2. Import a dataset into a Pandas DataFrame\n",
    "\n",
    "Pandas is a Python Module/Library for data analysis and manipulation. It has the data structure DataFrame which is quite powerful. Features\n",
    "\n",
    "- DataFrame object for data manipulation with integrated indexing.\n",
    "- Tools for reading and writing data between in-memory data structures and different file formats.\n",
    "- Data alignment and integrated handling of missing data.\n",
    "- Reshaping and pivoting of data sets.\n",
    "- Label-based slicing, fancy indexing, and subsetting of large data sets.\n",
    "- Data structure column insertion and deletion.\n",
    "- Group by engine allowing split-apply-combine operations on data sets.\n",
    "- Data set merging and joining.\n",
    "- Hierarchical axis indexing to work with high-dimensional data in a lower-dimensional data structure.\n",
    "- Time series-functionality: Date range generation and frequency conversion, moving window statistics, moving window linear regressions, date shifting and lagging.\n",
    "\n",
    "The module is highly optimized for performance, with critical code parts written in Cython or C. Documentation here: https://pandas.pydata.org/pandas-docs/stable/api.html\n",
    "\n",
    "For input/output (I/O) there are methods for reading EXCEL, SQL databases, HTML tables, clipboard, SAS, STATA etc."
   ]
  },
  {
   "cell_type": "code",
   "metadata": {
    "colab": {
     "resources": {
      "http://localhost:8080/nbextensions/google.colab/files.js": {
       "data": "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",
       "ok": true,
       "headers": [
        [
         "content-type",
         "application/javascript"
        ]
       ],
       "status": 200,
       "status_text": ""
      }
     },
     "base_uri": "https://localhost:8080/",
     "height": 38
    },
    "id": "2va7jftt06qF",
    "outputId": "4cb50dd0-6f35-4851-cef8-b9bc96b5301d",
    "pycharm": {
     "name": "#%%\n"
    }
   },
   "source": [
    "# Upload the local data file to colab\n",
    "from google.colab import files\n",
    "uploaded = files.upload()"
   ],
   "execution_count": null,
   "outputs": [
    {
     "output_type": "display_data",
     "data": {
      "text/html": [
       "\n",
       "     <input type=\"file\" id=\"files-17066643-264a-4f95-a97d-d92a37332e2f\" name=\"files[]\" multiple disabled\n",
       "        style=\"border:none\" />\n",
       "     <output id=\"result-17066643-264a-4f95-a97d-d92a37332e2f\">\n",
       "      Upload widget is only available when the cell has been executed in the\n",
       "      current browser session. Please rerun this cell to enable.\n",
       "      </output>\n",
       "      <script src=\"/nbextensions/google.colab/files.js\"></script> "
      ],
      "text/plain": [
       "<IPython.core.display.HTML object>"
      ]
     },
     "metadata": {}
    }
   ]
  },
  {
   "cell_type": "code",
   "metadata": {
    "id": "Fcu5tlR106qG",
    "pycharm": {
     "name": "#%%\n"
    }
   },
   "source": [
    "# import the python module pandas with the abbreviation pd\n",
    "import pandas as pd\n",
    "# Read the data in the iris.csv file into a dataframe\n",
    "# If you work on colab, you need the data file on colab of course\n",
    "dataframe = pd.read_csv('Iris.csv',dtype='str',header=0,names=['slength','swidth','plength','pwidth','species']) # data type is a string (str), i.e. not converted into numbers\n",
    "dataframe # print data"
   ],
   "execution_count": null,
   "outputs": []
  },
  {
   "cell_type": "markdown",
   "metadata": {
    "id": "OKvS45Aq06qH",
    "pycharm": {
     "name": "#%% md\n"
    }
   },
   "source": [
    "The dataframe method shows 50 rows per default. We can change this as we like:\n"
   ]
  },
  {
   "cell_type": "code",
   "metadata": {
    "id": "odf02zpP06qI",
    "pycharm": {
     "name": "#%%\n"
    }
   },
   "source": [
    "pd.set_option('display.max_rows', None)"
   ],
   "execution_count": null,
   "outputs": []
  },
  {
   "cell_type": "code",
   "metadata": {
    "colab": {
     "base_uri": "https://localhost:8080/",
     "height": 670
    },
    "id": "sfWe0grO06qJ",
    "outputId": "998b32e2-623a-4262-c02d-6b515f268ddf",
    "pycharm": {
     "name": "#%%\n"
    }
   },
   "source": [
    "dataframe[0:20]"
   ],
   "execution_count": null,
   "outputs": [
    {
     "output_type": "execute_result",
     "data": {
      "text/html": [
       "<div>\n",
       "<style scoped>\n",
       "    .dataframe tbody tr th:only-of-type {\n",
       "        vertical-align: middle;\n",
       "    }\n",
       "\n",
       "    .dataframe tbody tr th {\n",
       "        vertical-align: top;\n",
       "    }\n",
       "\n",
       "    .dataframe thead th {\n",
       "        text-align: right;\n",
       "    }\n",
       "</style>\n",
       "<table border=\"1\" class=\"dataframe\">\n",
       "  <thead>\n",
       "    <tr style=\"text-align: right;\">\n",
       "      <th></th>\n",
       "      <th>slength</th>\n",
       "      <th>swidth</th>\n",
       "      <th>plength</th>\n",
       "      <th>pwidth</th>\n",
       "      <th>species</th>\n",
       "    </tr>\n",
       "  </thead>\n",
       "  <tbody>\n",
       "    <tr>\n",
       "      <th>1</th>\n",
       "      <td>5.1</td>\n",
       "      <td>3.5</td>\n",
       "      <td>1.4</td>\n",
       "      <td>0.2</td>\n",
       "      <td>Iris-setosa</td>\n",
       "    </tr>\n",
       "    <tr>\n",
       "      <th>2</th>\n",
       "      <td>4.9</td>\n",
       "      <td>10</td>\n",
       "      <td>1.4</td>\n",
       "      <td>0.2</td>\n",
       "      <td>Iris-setosa</td>\n",
       "    </tr>\n",
       "    <tr>\n",
       "      <th>3</th>\n",
       "      <td>4.7</td>\n",
       "      <td>3.2</td>\n",
       "      <td>1.3</td>\n",
       "      <td>0.2</td>\n",
       "      <td>Iris-setosa</td>\n",
       "    </tr>\n",
       "    <tr>\n",
       "      <th>4</th>\n",
       "      <td>4.6</td>\n",
       "      <td>3.1</td>\n",
       "      <td>1.5</td>\n",
       "      <td>0.2</td>\n",
       "      <td>Iris-setosa</td>\n",
       "    </tr>\n",
       "    <tr>\n",
       "      <th>5</th>\n",
       "      <td>5.0</td>\n",
       "      <td>3.6</td>\n",
       "      <td>1.4</td>\n",
       "      <td>0.2</td>\n",
       "      <td>Iris-setosa</td>\n",
       "    </tr>\n",
       "    <tr>\n",
       "      <th>6</th>\n",
       "      <td>5.4</td>\n",
       "      <td>3.9</td>\n",
       "      <td>1.7</td>\n",
       "      <td>0.4</td>\n",
       "      <td>Iris-setosa</td>\n",
       "    </tr>\n",
       "    <tr>\n",
       "      <th>7</th>\n",
       "      <td>4.6</td>\n",
       "      <td>3.4</td>\n",
       "      <td>1.4</td>\n",
       "      <td>0.3</td>\n",
       "      <td>Iris-setosa</td>\n",
       "    </tr>\n",
       "    <tr>\n",
       "      <th>8</th>\n",
       "      <td>5.0</td>\n",
       "      <td>3.4</td>\n",
       "      <td>1.5</td>\n",
       "      <td>0.2</td>\n",
       "      <td>Iris-setosa</td>\n",
       "    </tr>\n",
       "    <tr>\n",
       "      <th>9</th>\n",
       "      <td>4.4</td>\n",
       "      <td>2.9</td>\n",
       "      <td>1.4</td>\n",
       "      <td>0.2</td>\n",
       "      <td>Iris-setosa</td>\n",
       "    </tr>\n",
       "    <tr>\n",
       "      <th>10</th>\n",
       "      <td>4.9</td>\n",
       "      <td>3.1</td>\n",
       "      <td>1.5</td>\n",
       "      <td>0.1</td>\n",
       "      <td>Iris-setosa</td>\n",
       "    </tr>\n",
       "    <tr>\n",
       "      <th>11</th>\n",
       "      <td>5.4</td>\n",
       "      <td>3.7</td>\n",
       "      <td>1.5</td>\n",
       "      <td>0.2</td>\n",
       "      <td>Iris-setosa</td>\n",
       "    </tr>\n",
       "    <tr>\n",
       "      <th>12</th>\n",
       "      <td>4.8</td>\n",
       "      <td>3.4</td>\n",
       "      <td>1.6</td>\n",
       "      <td>0.2</td>\n",
       "      <td>Iris-setosa</td>\n",
       "    </tr>\n",
       "    <tr>\n",
       "      <th>13</th>\n",
       "      <td>4.8</td>\n",
       "      <td>3.0</td>\n",
       "      <td>1.4</td>\n",
       "      <td>0.1</td>\n",
       "      <td>Iris-setosa</td>\n",
       "    </tr>\n",
       "    <tr>\n",
       "      <th>14</th>\n",
       "      <td>4.3</td>\n",
       "      <td>3.0</td>\n",
       "      <td>1.1</td>\n",
       "      <td>0.1</td>\n",
       "      <td>Iris-setosa</td>\n",
       "    </tr>\n",
       "    <tr>\n",
       "      <th>15</th>\n",
       "      <td>5.8</td>\n",
       "      <td>4.0</td>\n",
       "      <td>1.2</td>\n",
       "      <td>0.2</td>\n",
       "      <td>Iris-setosa</td>\n",
       "    </tr>\n",
       "    <tr>\n",
       "      <th>16</th>\n",
       "      <td>5.7</td>\n",
       "      <td>4.4</td>\n",
       "      <td>1.5</td>\n",
       "      <td>0.4</td>\n",
       "      <td>Iris-setosa</td>\n",
       "    </tr>\n",
       "    <tr>\n",
       "      <th>17</th>\n",
       "      <td>5.4</td>\n",
       "      <td>3.9</td>\n",
       "      <td>1.3</td>\n",
       "      <td>0.4</td>\n",
       "      <td>Iris-setosa</td>\n",
       "    </tr>\n",
       "    <tr>\n",
       "      <th>18</th>\n",
       "      <td>5.1</td>\n",
       "      <td>3.5</td>\n",
       "      <td>1.4</td>\n",
       "      <td>0.3</td>\n",
       "      <td>Iris-setosa</td>\n",
       "    </tr>\n",
       "    <tr>\n",
       "      <th>19</th>\n",
       "      <td>5.7</td>\n",
       "      <td>3.8</td>\n",
       "      <td>1.7</td>\n",
       "      <td>0.3</td>\n",
       "      <td>Iris-setosa</td>\n",
       "    </tr>\n",
       "    <tr>\n",
       "      <th>20</th>\n",
       "      <td>5.1</td>\n",
       "      <td>3.8</td>\n",
       "      <td>1.5</td>\n",
       "      <td>0.3</td>\n",
       "      <td>Iris-setosa</td>\n",
       "    </tr>\n",
       "  </tbody>\n",
       "</table>\n",
       "</div>"
      ],
      "text/plain": [
       "   slength swidth plength pwidth      species\n",
       "1      5.1    3.5     1.4    0.2  Iris-setosa\n",
       "2      4.9     10     1.4    0.2  Iris-setosa\n",
       "3      4.7    3.2     1.3    0.2  Iris-setosa\n",
       "4      4.6    3.1     1.5    0.2  Iris-setosa\n",
       "5      5.0    3.6     1.4    0.2  Iris-setosa\n",
       "6      5.4    3.9     1.7    0.4  Iris-setosa\n",
       "7      4.6    3.4     1.4    0.3  Iris-setosa\n",
       "8      5.0    3.4     1.5    0.2  Iris-setosa\n",
       "9      4.4    2.9     1.4    0.2  Iris-setosa\n",
       "10     4.9    3.1     1.5    0.1  Iris-setosa\n",
       "11     5.4    3.7     1.5    0.2  Iris-setosa\n",
       "12     4.8    3.4     1.6    0.2  Iris-setosa\n",
       "13     4.8    3.0     1.4    0.1  Iris-setosa\n",
       "14     4.3    3.0     1.1    0.1  Iris-setosa\n",
       "15     5.8    4.0     1.2    0.2  Iris-setosa\n",
       "16     5.7    4.4     1.5    0.4  Iris-setosa\n",
       "17     5.4    3.9     1.3    0.4  Iris-setosa\n",
       "18     5.1    3.5     1.4    0.3  Iris-setosa\n",
       "19     5.7    3.8     1.7    0.3  Iris-setosa\n",
       "20     5.1    3.8     1.5    0.3  Iris-setosa"
      ]
     },
     "metadata": {},
     "execution_count": 34
    }
   ]
  },
  {
   "cell_type": "code",
   "metadata": {
    "id": "bVjX2_Iy06qK",
    "pycharm": {
     "name": "#%%\n"
    }
   },
   "source": [
    "dataframe.info()"
   ],
   "execution_count": null,
   "outputs": []
  },
  {
   "cell_type": "markdown",
   "metadata": {
    "id": "hNySrhxP06qK",
    "pycharm": {
     "name": "#%% md\n"
    }
   },
   "source": [
    "Find out on wikipedia what this Iris data is about. "
   ]
  },
  {
   "cell_type": "markdown",
   "metadata": {
    "id": "vwEVzhfl06qK",
    "pycharm": {
     "name": "#%% md\n"
    }
   },
   "source": [
    "### Hint\n",
    "\n",
    "There are some ways to get help about modules and methods in Jupyter:"
   ]
  },
  {
   "cell_type": "code",
   "metadata": {
    "id": "umgUyQ4i06qL",
    "pycharm": {
     "name": "#%%\n"
    }
   },
   "source": [
    "dataframe. #(tab completion - type tab after the dot to see all methods)"
   ],
   "execution_count": null,
   "outputs": []
  },
  {
   "cell_type": "markdown",
   "metadata": {
    "id": "YCAPpVAq06qL",
    "pycharm": {
     "name": "#%% md\n"
    }
   },
   "source": [
    "Get help about this object, if there is any:"
   ]
  },
  {
   "cell_type": "code",
   "metadata": {
    "id": "ZctEUABs06qL",
    "pycharm": {
     "name": "#%%\n"
    }
   },
   "source": [
    "dataframe?"
   ],
   "execution_count": null,
   "outputs": []
  },
  {
   "cell_type": "markdown",
   "metadata": {
    "id": "_5pTPqZA06qM",
    "pycharm": {
     "name": "#%% md\n"
    }
   },
   "source": [
    "And, what you will probably use the most, the online package information and examples by googling."
   ]
  },
  {
   "cell_type": "markdown",
   "metadata": {
    "id": "Dp-beMVD06qM",
    "pycharm": {
     "name": "#%% md\n"
    }
   },
   "source": [
    "### Exercise 1.1 (10 min)\n",
    "\n",
    "Read the Swiss BAG Corona data on vaccinated persons into a dataframe and look at it. The URL is\n",
    "https://opendata.swiss/en/dataset/covid-19-schweiz\n",
    "\n",
    "You will probably need to consult https://pandas.pydata.org/docs/reference/io.html in order to find out how to read a json file into a pandas dataframe. "
   ]
  },
  {
   "cell_type": "code",
   "metadata": {
    "id": "bjGxXL8k06qM",
    "pycharm": {
     "name": "#%%\n"
    }
   },
   "source": [
    "# Write your code here\n",
    "pd.set_option('display.max_rows',20)\n",
    "#url = 'https://www.covid19.admin.ch/api/data/20210823-4c27ic5b/sources/COVID19VaccPersons_v2.json'\n",
    "#df = pd.io.json.read_json(url)\n",
    "#df"
   ],
   "execution_count": null,
   "outputs": []
  },
  {
   "cell_type": "code",
   "metadata": {
    "colab": {
     "base_uri": "https://localhost:8080/"
    },
    "id": "dIR8YyDP06qM",
    "outputId": "ca6c1eab-5cfc-4a12-d172-53690d1ce815",
    "pycharm": {
     "name": "#%%\n"
    }
   },
   "source": [
    "df.info"
   ],
   "execution_count": null,
   "outputs": [
    {
     "output_type": "execute_result",
     "data": {
      "text/plain": [
       "<bound method DataFrame.info of             date geoRegion  entries  ...  granularity  per100Persons_mean7d  mean7d\n",
       "0     2020-12-22        AG        0  ...     detailed                   NaN     NaN\n",
       "1     2020-12-23        AG        5  ...     detailed                   NaN     NaN\n",
       "2     2020-12-24        AG        2  ...     detailed                   NaN     NaN\n",
       "3     2020-12-25        AG        0  ...     detailed                  0.00    2.00\n",
       "4     2020-12-26        AG        0  ...     detailed                  0.00    3.29\n",
       "...          ...       ...      ...  ...          ...                   ...     ...\n",
       "23419 2021-08-18        ZH       33  ...     detailed                 -0.02 -252.57\n",
       "23420 2021-08-19        ZH     -157  ...     detailed                 -0.02 -246.14\n",
       "23421 2021-08-20        ZH       70  ...     detailed                   NaN     NaN\n",
       "23422 2021-08-21        ZH      245  ...     detailed                   NaN     NaN\n",
       "23423 2021-08-22        ZH       37  ...     detailed                   NaN     NaN\n",
       "\n",
       "[23424 rows x 12 columns]>"
      ]
     },
     "metadata": {},
     "execution_count": 30
    }
   ]
  },
  {
   "cell_type": "markdown",
   "metadata": {
    "id": "xCI7ub-706qN",
    "pycharm": {
     "name": "#%% md\n"
    }
   },
   "source": [
    "### 3. Indexing on a DataFrame\n",
    "\n",
    "By methods (we are back to our Iris dataset):"
   ]
  },
  {
   "cell_type": "code",
   "metadata": {
    "colab": {
     "base_uri": "https://localhost:8080/"
    },
    "id": "R0sDmvr006qN",
    "outputId": "51e8e7d6-d1a9-4e99-b8b9-5b282181c5db",
    "pycharm": {
     "name": "#%%\n"
    }
   },
   "source": [
    "dataframe.iat[-1,0] # by integer numbers (row 149, column 1)"
   ],
   "execution_count": null,
   "outputs": [
    {
     "output_type": "execute_result",
     "data": {
      "application/vnd.google.colaboratory.intrinsic+json": {
       "type": "string"
      },
      "text/plain": [
       "'5.9'"
      ]
     },
     "metadata": {},
     "execution_count": 38
    }
   ]
  },
  {
   "cell_type": "code",
   "metadata": {
    "colab": {
     "base_uri": "https://localhost:8080/"
    },
    "id": "HglpOox106qN",
    "outputId": "1e2714ef-6eb4-4c31-a11e-7c46c89ae030",
    "pycharm": {
     "name": "#%%\n"
    }
   },
   "source": [
    "dataframe.iat[1,1]=10 # Assign a new value\n",
    "dataframe.head()"
   ],
   "execution_count": null,
   "outputs": [
    {
     "output_type": "execute_result",
     "data": {
      "text/html": [
       "<div>\n",
       "<style scoped>\n",
       "    .dataframe tbody tr th:only-of-type {\n",
       "        vertical-align: middle;\n",
       "    }\n",
       "\n",
       "    .dataframe tbody tr th {\n",
       "        vertical-align: top;\n",
       "    }\n",
       "\n",
       "    .dataframe thead th {\n",
       "        text-align: right;\n",
       "    }\n",
       "</style>\n",
       "<table border=\"1\" class=\"dataframe\">\n",
       "  <thead>\n",
       "    <tr style=\"text-align: right;\">\n",
       "      <th></th>\n",
       "      <th>slength</th>\n",
       "      <th>swidth</th>\n",
       "      <th>plength</th>\n",
       "      <th>pwidth</th>\n",
       "      <th>species</th>\n",
       "    </tr>\n",
       "  </thead>\n",
       "  <tbody>\n",
       "    <tr>\n",
       "      <th>1</th>\n",
       "      <td>5.1</td>\n",
       "      <td>3.5</td>\n",
       "      <td>1.4</td>\n",
       "      <td>0.2</td>\n",
       "      <td>Iris-setosa</td>\n",
       "    </tr>\n",
       "    <tr>\n",
       "      <th>2</th>\n",
       "      <td>4.9</td>\n",
       "      <td>10</td>\n",
       "      <td>1.4</td>\n",
       "      <td>0.2</td>\n",
       "      <td>Iris-setosa</td>\n",
       "    </tr>\n",
       "    <tr>\n",
       "      <th>3</th>\n",
       "      <td>4.7</td>\n",
       "      <td>3.2</td>\n",
       "      <td>1.3</td>\n",
       "      <td>0.2</td>\n",
       "      <td>Iris-setosa</td>\n",
       "    </tr>\n",
       "    <tr>\n",
       "      <th>4</th>\n",
       "      <td>4.6</td>\n",
       "      <td>3.1</td>\n",
       "      <td>1.5</td>\n",
       "      <td>0.2</td>\n",
       "      <td>Iris-setosa</td>\n",
       "    </tr>\n",
       "    <tr>\n",
       "      <th>5</th>\n",
       "      <td>5.0</td>\n",
       "      <td>3.6</td>\n",
       "      <td>1.4</td>\n",
       "      <td>0.2</td>\n",
       "      <td>Iris-setosa</td>\n",
       "    </tr>\n",
       "  </tbody>\n",
       "</table>\n",
       "</div>"
      ],
      "text/plain": [
       "  slength swidth plength pwidth      species\n",
       "1     5.1    3.5     1.4    0.2  Iris-setosa\n",
       "2     4.9     10     1.4    0.2  Iris-setosa\n",
       "3     4.7    3.2     1.3    0.2  Iris-setosa\n",
       "4     4.6    3.1     1.5    0.2  Iris-setosa\n",
       "5     5.0    3.6     1.4    0.2  Iris-setosa"
      ]
     },
     "metadata": {},
     "execution_count": 33
    }
   ]
  },
  {
   "cell_type": "markdown",
   "metadata": {
    "id": "jf6gF3jr06qN",
    "pycharm": {
     "name": "#%% md\n"
    }
   },
   "source": [
    "Indexing a group/subset of the dataframe"
   ]
  },
  {
   "cell_type": "code",
   "metadata": {
    "colab": {
     "base_uri": "https://localhost:8080/"
    },
    "id": "CvKPHzP106qO",
    "outputId": "59b12a49-1977-4fe7-c954-64d2aa7a0c8b",
    "pycharm": {
     "name": "#%%\n"
    }
   },
   "source": [
    "sdf = dataframe.iloc[0:10,0:5]\n",
    "sdf"
   ],
   "execution_count": null,
   "outputs": [
    {
     "output_type": "execute_result",
     "data": {
      "text/html": [
       "<div>\n",
       "<style scoped>\n",
       "    .dataframe tbody tr th:only-of-type {\n",
       "        vertical-align: middle;\n",
       "    }\n",
       "\n",
       "    .dataframe tbody tr th {\n",
       "        vertical-align: top;\n",
       "    }\n",
       "\n",
       "    .dataframe thead th {\n",
       "        text-align: right;\n",
       "    }\n",
       "</style>\n",
       "<table border=\"1\" class=\"dataframe\">\n",
       "  <thead>\n",
       "    <tr style=\"text-align: right;\">\n",
       "      <th></th>\n",
       "      <th>slength</th>\n",
       "      <th>swidth</th>\n",
       "      <th>plength</th>\n",
       "      <th>pwidth</th>\n",
       "      <th>species</th>\n",
       "    </tr>\n",
       "  </thead>\n",
       "  <tbody>\n",
       "    <tr>\n",
       "      <th>1</th>\n",
       "      <td>5.1</td>\n",
       "      <td>3.5</td>\n",
       "      <td>1.4</td>\n",
       "      <td>0.2</td>\n",
       "      <td>Iris-setosa</td>\n",
       "    </tr>\n",
       "    <tr>\n",
       "      <th>2</th>\n",
       "      <td>4.9</td>\n",
       "      <td>10</td>\n",
       "      <td>1.4</td>\n",
       "      <td>0.2</td>\n",
       "      <td>Iris-setosa</td>\n",
       "    </tr>\n",
       "    <tr>\n",
       "      <th>3</th>\n",
       "      <td>4.7</td>\n",
       "      <td>3.2</td>\n",
       "      <td>1.3</td>\n",
       "      <td>0.2</td>\n",
       "      <td>Iris-setosa</td>\n",
       "    </tr>\n",
       "    <tr>\n",
       "      <th>4</th>\n",
       "      <td>4.6</td>\n",
       "      <td>3.1</td>\n",
       "      <td>1.5</td>\n",
       "      <td>0.2</td>\n",
       "      <td>Iris-setosa</td>\n",
       "    </tr>\n",
       "    <tr>\n",
       "      <th>5</th>\n",
       "      <td>5.0</td>\n",
       "      <td>3.6</td>\n",
       "      <td>1.4</td>\n",
       "      <td>0.2</td>\n",
       "      <td>Iris-setosa</td>\n",
       "    </tr>\n",
       "    <tr>\n",
       "      <th>6</th>\n",
       "      <td>5.4</td>\n",
       "      <td>3.9</td>\n",
       "      <td>1.7</td>\n",
       "      <td>0.4</td>\n",
       "      <td>Iris-setosa</td>\n",
       "    </tr>\n",
       "    <tr>\n",
       "      <th>7</th>\n",
       "      <td>4.6</td>\n",
       "      <td>3.4</td>\n",
       "      <td>1.4</td>\n",
       "      <td>0.3</td>\n",
       "      <td>Iris-setosa</td>\n",
       "    </tr>\n",
       "    <tr>\n",
       "      <th>8</th>\n",
       "      <td>5.0</td>\n",
       "      <td>3.4</td>\n",
       "      <td>1.5</td>\n",
       "      <td>0.2</td>\n",
       "      <td>Iris-setosa</td>\n",
       "    </tr>\n",
       "    <tr>\n",
       "      <th>9</th>\n",
       "      <td>4.4</td>\n",
       "      <td>2.9</td>\n",
       "      <td>1.4</td>\n",
       "      <td>0.2</td>\n",
       "      <td>Iris-setosa</td>\n",
       "    </tr>\n",
       "    <tr>\n",
       "      <th>10</th>\n",
       "      <td>4.9</td>\n",
       "      <td>3.1</td>\n",
       "      <td>1.5</td>\n",
       "      <td>0.1</td>\n",
       "      <td>Iris-setosa</td>\n",
       "    </tr>\n",
       "  </tbody>\n",
       "</table>\n",
       "</div>"
      ],
      "text/plain": [
       "   slength swidth plength pwidth      species\n",
       "1      5.1    3.5     1.4    0.2  Iris-setosa\n",
       "2      4.9     10     1.4    0.2  Iris-setosa\n",
       "3      4.7    3.2     1.3    0.2  Iris-setosa\n",
       "4      4.6    3.1     1.5    0.2  Iris-setosa\n",
       "5      5.0    3.6     1.4    0.2  Iris-setosa\n",
       "6      5.4    3.9     1.7    0.4  Iris-setosa\n",
       "7      4.6    3.4     1.4    0.3  Iris-setosa\n",
       "8      5.0    3.4     1.5    0.2  Iris-setosa\n",
       "9      4.4    2.9     1.4    0.2  Iris-setosa\n",
       "10     4.9    3.1     1.5    0.1  Iris-setosa"
      ]
     },
     "metadata": {},
     "execution_count": 41
    }
   ]
  },
  {
   "cell_type": "markdown",
   "metadata": {
    "id": "8holfyZd06qO",
    "pycharm": {
     "name": "#%% md\n"
    }
   },
   "source": [
    "**Important** \n",
    "When you assign a (subset) of dataframe to a new one like above, no copy is made. This means that if you change values of the new frame, also the orginal frame will be changed. If you want a copy, you need to use the copy method."
   ]
  },
  {
   "cell_type": "markdown",
   "metadata": {
    "id": "9n8pa6UH06qO",
    "pycharm": {
     "name": "#%% md\n"
    }
   },
   "source": [
    "Indexing by column names..."
   ]
  },
  {
   "cell_type": "code",
   "metadata": {
    "colab": {
     "base_uri": "https://localhost:8080/"
    },
    "id": "ZapUeo_x06qO",
    "outputId": "db662138-cbb5-4668-a118-8ae749bff882",
    "pycharm": {
     "name": "#%%\n"
    }
   },
   "source": [
    "sdf['slength']"
   ],
   "execution_count": null,
   "outputs": [
    {
     "output_type": "execute_result",
     "data": {
      "text/plain": [
       "1     5.1\n",
       "2     4.9\n",
       "3     4.7\n",
       "4     4.6\n",
       "5     5.0\n",
       "6     5.4\n",
       "7     4.6\n",
       "8     5.0\n",
       "9     4.4\n",
       "10    4.9\n",
       "Name: slength, dtype: object"
      ]
     },
     "metadata": {},
     "execution_count": 42
    }
   ]
  },
  {
   "cell_type": "markdown",
   "metadata": {
    "id": "R0Sqgdk106qP",
    "pycharm": {
     "name": "#%% md\n"
    }
   },
   "source": [
    "Selecting (filtering) by column valuess_df = dataframe[dataframe['species']=='Iris-setosa']"
   ]
  },
  {
   "cell_type": "code",
   "metadata": {
    "id": "BPqUoUYR06qP",
    "pycharm": {
     "name": "#%%\n"
    }
   },
   "source": [
    "s_df = dataframe[dataframe['species']=='Iris-virginica']"
   ],
   "execution_count": null,
   "outputs": []
  },
  {
   "cell_type": "code",
   "metadata": {
    "colab": {
     "base_uri": "https://localhost:8080/"
    },
    "id": "cp2J-Y0E06qP",
    "outputId": "a728240e-6342-4e7d-bdfe-b401713fd53c",
    "pycharm": {
     "name": "#%%\n"
    }
   },
   "source": [
    "s_df"
   ],
   "execution_count": null,
   "outputs": [
    {
     "output_type": "execute_result",
     "data": {
      "text/html": [
       "<div>\n",
       "<style scoped>\n",
       "    .dataframe tbody tr th:only-of-type {\n",
       "        vertical-align: middle;\n",
       "    }\n",
       "\n",
       "    .dataframe tbody tr th {\n",
       "        vertical-align: top;\n",
       "    }\n",
       "\n",
       "    .dataframe thead th {\n",
       "        text-align: right;\n",
       "    }\n",
       "</style>\n",
       "<table border=\"1\" class=\"dataframe\">\n",
       "  <thead>\n",
       "    <tr style=\"text-align: right;\">\n",
       "      <th></th>\n",
       "      <th>slength</th>\n",
       "      <th>swidth</th>\n",
       "      <th>plength</th>\n",
       "      <th>pwidth</th>\n",
       "      <th>species</th>\n",
       "    </tr>\n",
       "  </thead>\n",
       "  <tbody>\n",
       "    <tr>\n",
       "      <th>101</th>\n",
       "      <td>6.3</td>\n",
       "      <td>3.3</td>\n",
       "      <td>6.0</td>\n",
       "      <td>2.5</td>\n",
       "      <td>Iris-virginica</td>\n",
       "    </tr>\n",
       "    <tr>\n",
       "      <th>102</th>\n",
       "      <td>5.8</td>\n",
       "      <td>2.7</td>\n",
       "      <td>5.1</td>\n",
       "      <td>1.9</td>\n",
       "      <td>Iris-virginica</td>\n",
       "    </tr>\n",
       "    <tr>\n",
       "      <th>103</th>\n",
       "      <td>7.1</td>\n",
       "      <td>3.0</td>\n",
       "      <td>5.9</td>\n",
       "      <td>2.1</td>\n",
       "      <td>Iris-virginica</td>\n",
       "    </tr>\n",
       "    <tr>\n",
       "      <th>104</th>\n",
       "      <td>6.3</td>\n",
       "      <td>2.9</td>\n",
       "      <td>5.6</td>\n",
       "      <td>1.8</td>\n",
       "      <td>Iris-virginica</td>\n",
       "    </tr>\n",
       "    <tr>\n",
       "      <th>105</th>\n",
       "      <td>6.5</td>\n",
       "      <td>3.0</td>\n",
       "      <td>5.8</td>\n",
       "      <td>2.2</td>\n",
       "      <td>Iris-virginica</td>\n",
       "    </tr>\n",
       "    <tr>\n",
       "      <th>...</th>\n",
       "      <td>...</td>\n",
       "      <td>...</td>\n",
       "      <td>...</td>\n",
       "      <td>...</td>\n",
       "      <td>...</td>\n",
       "    </tr>\n",
       "    <tr>\n",
       "      <th>146</th>\n",
       "      <td>6.7</td>\n",
       "      <td>3.0</td>\n",
       "      <td>5.2</td>\n",
       "      <td>2.3</td>\n",
       "      <td>Iris-virginica</td>\n",
       "    </tr>\n",
       "    <tr>\n",
       "      <th>147</th>\n",
       "      <td>6.3</td>\n",
       "      <td>2.5</td>\n",
       "      <td>5.0</td>\n",
       "      <td>1.9</td>\n",
       "      <td>Iris-virginica</td>\n",
       "    </tr>\n",
       "    <tr>\n",
       "      <th>148</th>\n",
       "      <td>6.5</td>\n",
       "      <td>3.0</td>\n",
       "      <td>5.2</td>\n",
       "      <td>2.0</td>\n",
       "      <td>Iris-virginica</td>\n",
       "    </tr>\n",
       "    <tr>\n",
       "      <th>149</th>\n",
       "      <td>6.2</td>\n",
       "      <td>3.4</td>\n",
       "      <td>5.4</td>\n",
       "      <td>2.3</td>\n",
       "      <td>Iris-virginica</td>\n",
       "    </tr>\n",
       "    <tr>\n",
       "      <th>150</th>\n",
       "      <td>5.9</td>\n",
       "      <td>3.0</td>\n",
       "      <td>5.1</td>\n",
       "      <td>1.8</td>\n",
       "      <td>Iris-virginica</td>\n",
       "    </tr>\n",
       "  </tbody>\n",
       "</table>\n",
       "<p>50 rows × 5 columns</p>\n",
       "</div>"
      ],
      "text/plain": [
       "    slength swidth plength pwidth         species\n",
       "101     6.3    3.3     6.0    2.5  Iris-virginica\n",
       "102     5.8    2.7     5.1    1.9  Iris-virginica\n",
       "103     7.1    3.0     5.9    2.1  Iris-virginica\n",
       "104     6.3    2.9     5.6    1.8  Iris-virginica\n",
       "105     6.5    3.0     5.8    2.2  Iris-virginica\n",
       "..      ...    ...     ...    ...             ...\n",
       "146     6.7    3.0     5.2    2.3  Iris-virginica\n",
       "147     6.3    2.5     5.0    1.9  Iris-virginica\n",
       "148     6.5    3.0     5.2    2.0  Iris-virginica\n",
       "149     6.2    3.4     5.4    2.3  Iris-virginica\n",
       "150     5.9    3.0     5.1    1.8  Iris-virginica\n",
       "\n",
       "[50 rows x 5 columns]"
      ]
     },
     "metadata": {},
     "execution_count": 44
    }
   ]
  },
  {
   "cell_type": "markdown",
   "metadata": {
    "id": "IO6qtwYH06qP",
    "pycharm": {
     "name": "#%% md\n"
    }
   },
   "source": [
    "Vectorized dataframe manipulations..."
   ]
  },
  {
   "cell_type": "code",
   "metadata": {
    "id": "3dN1twE406qP",
    "pycharm": {
     "name": "#%%\n"
    }
   },
   "source": [
    "sdf['half slength']=sdf['slength'].astype('float')/2.\n",
    "sdf"
   ],
   "execution_count": null,
   "outputs": []
  },
  {
   "cell_type": "markdown",
   "metadata": {
    "id": "peiXnTgAxw08",
    "pycharm": {
     "name": "#%% md\n"
    }
   },
   "source": [
    "Grouping ..."
   ]
  },
  {
   "cell_type": "code",
   "metadata": {
    "colab": {
     "base_uri": "https://localhost:8080/"
    },
    "id": "SPJDgpc006qP",
    "outputId": "2a42ab2d-8406-4e35-b8d7-c28ad0cc398c",
    "pycharm": {
     "name": "#%%\n"
    }
   },
   "source": [
    "gdf=dataframe.groupby('species')\n",
    "print(gdf.ngroups)\n",
    "print(gdf.size())\n",
    "gdf_virginica = gdf.get_group('Iris-virginica')\n",
    "gdf_virginica.head()"
   ],
   "execution_count": null,
   "outputs": [
    {
     "output_type": "stream",
     "text": [
      "3\n",
      "species\n",
      "Iris-setosa        50\n",
      "Iris-versicolor    50\n",
      "Iris-virginica     50\n",
      "dtype: int64\n"
     ],
     "name": "stdout"
    },
    {
     "output_type": "execute_result",
     "data": {
      "text/html": [
       "<div>\n",
       "<style scoped>\n",
       "    .dataframe tbody tr th:only-of-type {\n",
       "        vertical-align: middle;\n",
       "    }\n",
       "\n",
       "    .dataframe tbody tr th {\n",
       "        vertical-align: top;\n",
       "    }\n",
       "\n",
       "    .dataframe thead th {\n",
       "        text-align: right;\n",
       "    }\n",
       "</style>\n",
       "<table border=\"1\" class=\"dataframe\">\n",
       "  <thead>\n",
       "    <tr style=\"text-align: right;\">\n",
       "      <th></th>\n",
       "      <th>slength</th>\n",
       "      <th>swidth</th>\n",
       "      <th>plength</th>\n",
       "      <th>pwidth</th>\n",
       "      <th>species</th>\n",
       "    </tr>\n",
       "  </thead>\n",
       "  <tbody>\n",
       "    <tr>\n",
       "      <th>101</th>\n",
       "      <td>6.3</td>\n",
       "      <td>3.3</td>\n",
       "      <td>6.0</td>\n",
       "      <td>2.5</td>\n",
       "      <td>Iris-virginica</td>\n",
       "    </tr>\n",
       "    <tr>\n",
       "      <th>102</th>\n",
       "      <td>5.8</td>\n",
       "      <td>2.7</td>\n",
       "      <td>5.1</td>\n",
       "      <td>1.9</td>\n",
       "      <td>Iris-virginica</td>\n",
       "    </tr>\n",
       "    <tr>\n",
       "      <th>103</th>\n",
       "      <td>7.1</td>\n",
       "      <td>3.0</td>\n",
       "      <td>5.9</td>\n",
       "      <td>2.1</td>\n",
       "      <td>Iris-virginica</td>\n",
       "    </tr>\n",
       "    <tr>\n",
       "      <th>104</th>\n",
       "      <td>6.3</td>\n",
       "      <td>2.9</td>\n",
       "      <td>5.6</td>\n",
       "      <td>1.8</td>\n",
       "      <td>Iris-virginica</td>\n",
       "    </tr>\n",
       "    <tr>\n",
       "      <th>105</th>\n",
       "      <td>6.5</td>\n",
       "      <td>3.0</td>\n",
       "      <td>5.8</td>\n",
       "      <td>2.2</td>\n",
       "      <td>Iris-virginica</td>\n",
       "    </tr>\n",
       "  </tbody>\n",
       "</table>\n",
       "</div>"
      ],
      "text/plain": [
       "    slength swidth plength pwidth         species\n",
       "101     6.3    3.3     6.0    2.5  Iris-virginica\n",
       "102     5.8    2.7     5.1    1.9  Iris-virginica\n",
       "103     7.1    3.0     5.9    2.1  Iris-virginica\n",
       "104     6.3    2.9     5.6    1.8  Iris-virginica\n",
       "105     6.5    3.0     5.8    2.2  Iris-virginica"
      ]
     },
     "metadata": {},
     "execution_count": 59
    }
   ]
  },
  {
   "cell_type": "markdown",
   "metadata": {
    "id": "NkS6YD7V06qQ",
    "pycharm": {
     "name": "#%% md\n"
    }
   },
   "source": [
    "### 4. Sorting on a DataFrame\n",
    "\n",
    "..."
   ]
  },
  {
   "cell_type": "code",
   "metadata": {
    "colab": {
     "base_uri": "https://localhost:8080/",
     "height": 419
    },
    "id": "d1hGqMMk06qQ",
    "outputId": "40af1483-114d-47d9-fc47-fd1c8e601d80",
    "pycharm": {
     "name": "#%%\n"
    }
   },
   "source": [
    "#adf = pd.read_csv('iris.csv',names=['slength','swidth','plength','pwidth','species'])\n",
    "dataframe"
   ],
   "execution_count": null,
   "outputs": [
    {
     "output_type": "execute_result",
     "data": {
      "text/html": [
       "<div>\n",
       "<style scoped>\n",
       "    .dataframe tbody tr th:only-of-type {\n",
       "        vertical-align: middle;\n",
       "    }\n",
       "\n",
       "    .dataframe tbody tr th {\n",
       "        vertical-align: top;\n",
       "    }\n",
       "\n",
       "    .dataframe thead th {\n",
       "        text-align: right;\n",
       "    }\n",
       "</style>\n",
       "<table border=\"1\" class=\"dataframe\">\n",
       "  <thead>\n",
       "    <tr style=\"text-align: right;\">\n",
       "      <th></th>\n",
       "      <th>slength</th>\n",
       "      <th>swidth</th>\n",
       "      <th>plength</th>\n",
       "      <th>pwidth</th>\n",
       "      <th>species</th>\n",
       "    </tr>\n",
       "  </thead>\n",
       "  <tbody>\n",
       "    <tr>\n",
       "      <th>1</th>\n",
       "      <td>5.1</td>\n",
       "      <td>3.5</td>\n",
       "      <td>1.4</td>\n",
       "      <td>0.2</td>\n",
       "      <td>Iris-setosa</td>\n",
       "    </tr>\n",
       "    <tr>\n",
       "      <th>2</th>\n",
       "      <td>4.9</td>\n",
       "      <td>10</td>\n",
       "      <td>1.4</td>\n",
       "      <td>0.2</td>\n",
       "      <td>Iris-setosa</td>\n",
       "    </tr>\n",
       "    <tr>\n",
       "      <th>3</th>\n",
       "      <td>4.7</td>\n",
       "      <td>3.2</td>\n",
       "      <td>1.3</td>\n",
       "      <td>0.2</td>\n",
       "      <td>Iris-setosa</td>\n",
       "    </tr>\n",
       "    <tr>\n",
       "      <th>4</th>\n",
       "      <td>4.6</td>\n",
       "      <td>3.1</td>\n",
       "      <td>1.5</td>\n",
       "      <td>0.2</td>\n",
       "      <td>Iris-setosa</td>\n",
       "    </tr>\n",
       "    <tr>\n",
       "      <th>5</th>\n",
       "      <td>5.0</td>\n",
       "      <td>3.6</td>\n",
       "      <td>1.4</td>\n",
       "      <td>0.2</td>\n",
       "      <td>Iris-setosa</td>\n",
       "    </tr>\n",
       "    <tr>\n",
       "      <th>...</th>\n",
       "      <td>...</td>\n",
       "      <td>...</td>\n",
       "      <td>...</td>\n",
       "      <td>...</td>\n",
       "      <td>...</td>\n",
       "    </tr>\n",
       "    <tr>\n",
       "      <th>146</th>\n",
       "      <td>6.7</td>\n",
       "      <td>3.0</td>\n",
       "      <td>5.2</td>\n",
       "      <td>2.3</td>\n",
       "      <td>Iris-virginica</td>\n",
       "    </tr>\n",
       "    <tr>\n",
       "      <th>147</th>\n",
       "      <td>6.3</td>\n",
       "      <td>2.5</td>\n",
       "      <td>5.0</td>\n",
       "      <td>1.9</td>\n",
       "      <td>Iris-virginica</td>\n",
       "    </tr>\n",
       "    <tr>\n",
       "      <th>148</th>\n",
       "      <td>6.5</td>\n",
       "      <td>3.0</td>\n",
       "      <td>5.2</td>\n",
       "      <td>2.0</td>\n",
       "      <td>Iris-virginica</td>\n",
       "    </tr>\n",
       "    <tr>\n",
       "      <th>149</th>\n",
       "      <td>6.2</td>\n",
       "      <td>3.4</td>\n",
       "      <td>5.4</td>\n",
       "      <td>2.3</td>\n",
       "      <td>Iris-virginica</td>\n",
       "    </tr>\n",
       "    <tr>\n",
       "      <th>150</th>\n",
       "      <td>5.9</td>\n",
       "      <td>3.0</td>\n",
       "      <td>5.1</td>\n",
       "      <td>1.8</td>\n",
       "      <td>Iris-virginica</td>\n",
       "    </tr>\n",
       "  </tbody>\n",
       "</table>\n",
       "<p>150 rows × 5 columns</p>\n",
       "</div>"
      ],
      "text/plain": [
       "    slength swidth plength pwidth         species\n",
       "1       5.1    3.5     1.4    0.2     Iris-setosa\n",
       "2       4.9     10     1.4    0.2     Iris-setosa\n",
       "3       4.7    3.2     1.3    0.2     Iris-setosa\n",
       "4       4.6    3.1     1.5    0.2     Iris-setosa\n",
       "5       5.0    3.6     1.4    0.2     Iris-setosa\n",
       "..      ...    ...     ...    ...             ...\n",
       "146     6.7    3.0     5.2    2.3  Iris-virginica\n",
       "147     6.3    2.5     5.0    1.9  Iris-virginica\n",
       "148     6.5    3.0     5.2    2.0  Iris-virginica\n",
       "149     6.2    3.4     5.4    2.3  Iris-virginica\n",
       "150     5.9    3.0     5.1    1.8  Iris-virginica\n",
       "\n",
       "[150 rows x 5 columns]"
      ]
     },
     "metadata": {},
     "execution_count": 60
    }
   ]
  },
  {
   "cell_type": "code",
   "metadata": {
    "colab": {
     "base_uri": "https://localhost:8080/",
     "height": 419
    },
    "id": "ghnoA6O306qQ",
    "outputId": "89a5bd3d-4243-4250-d00d-fe267b886bcf",
    "pycharm": {
     "name": "#%%\n"
    }
   },
   "source": [
    "dataframe.sort_values(['slength','swidth'])\n",
    "#dataframe.sort_values(['slength'])\n"
   ],
   "execution_count": null,
   "outputs": [
    {
     "output_type": "execute_result",
     "data": {
      "text/html": [
       "<div>\n",
       "<style scoped>\n",
       "    .dataframe tbody tr th:only-of-type {\n",
       "        vertical-align: middle;\n",
       "    }\n",
       "\n",
       "    .dataframe tbody tr th {\n",
       "        vertical-align: top;\n",
       "    }\n",
       "\n",
       "    .dataframe thead th {\n",
       "        text-align: right;\n",
       "    }\n",
       "</style>\n",
       "<table border=\"1\" class=\"dataframe\">\n",
       "  <thead>\n",
       "    <tr style=\"text-align: right;\">\n",
       "      <th></th>\n",
       "      <th>slength</th>\n",
       "      <th>swidth</th>\n",
       "      <th>plength</th>\n",
       "      <th>pwidth</th>\n",
       "      <th>species</th>\n",
       "    </tr>\n",
       "  </thead>\n",
       "  <tbody>\n",
       "    <tr>\n",
       "      <th>14</th>\n",
       "      <td>4.3</td>\n",
       "      <td>3.0</td>\n",
       "      <td>1.1</td>\n",
       "      <td>0.1</td>\n",
       "      <td>Iris-setosa</td>\n",
       "    </tr>\n",
       "    <tr>\n",
       "      <th>9</th>\n",
       "      <td>4.4</td>\n",
       "      <td>2.9</td>\n",
       "      <td>1.4</td>\n",
       "      <td>0.2</td>\n",
       "      <td>Iris-setosa</td>\n",
       "    </tr>\n",
       "    <tr>\n",
       "      <th>39</th>\n",
       "      <td>4.4</td>\n",
       "      <td>3.0</td>\n",
       "      <td>1.3</td>\n",
       "      <td>0.2</td>\n",
       "      <td>Iris-setosa</td>\n",
       "    </tr>\n",
       "    <tr>\n",
       "      <th>43</th>\n",
       "      <td>4.4</td>\n",
       "      <td>3.2</td>\n",
       "      <td>1.3</td>\n",
       "      <td>0.2</td>\n",
       "      <td>Iris-setosa</td>\n",
       "    </tr>\n",
       "    <tr>\n",
       "      <th>42</th>\n",
       "      <td>4.5</td>\n",
       "      <td>2.3</td>\n",
       "      <td>1.3</td>\n",
       "      <td>0.3</td>\n",
       "      <td>Iris-setosa</td>\n",
       "    </tr>\n",
       "    <tr>\n",
       "      <th>...</th>\n",
       "      <td>...</td>\n",
       "      <td>...</td>\n",
       "      <td>...</td>\n",
       "      <td>...</td>\n",
       "      <td>...</td>\n",
       "    </tr>\n",
       "    <tr>\n",
       "      <th>119</th>\n",
       "      <td>7.7</td>\n",
       "      <td>2.6</td>\n",
       "      <td>6.9</td>\n",
       "      <td>2.3</td>\n",
       "      <td>Iris-virginica</td>\n",
       "    </tr>\n",
       "    <tr>\n",
       "      <th>123</th>\n",
       "      <td>7.7</td>\n",
       "      <td>2.8</td>\n",
       "      <td>6.7</td>\n",
       "      <td>2.0</td>\n",
       "      <td>Iris-virginica</td>\n",
       "    </tr>\n",
       "    <tr>\n",
       "      <th>136</th>\n",
       "      <td>7.7</td>\n",
       "      <td>3.0</td>\n",
       "      <td>6.1</td>\n",
       "      <td>2.3</td>\n",
       "      <td>Iris-virginica</td>\n",
       "    </tr>\n",
       "    <tr>\n",
       "      <th>118</th>\n",
       "      <td>7.7</td>\n",
       "      <td>3.8</td>\n",
       "      <td>6.7</td>\n",
       "      <td>2.2</td>\n",
       "      <td>Iris-virginica</td>\n",
       "    </tr>\n",
       "    <tr>\n",
       "      <th>132</th>\n",
       "      <td>7.9</td>\n",
       "      <td>3.8</td>\n",
       "      <td>6.4</td>\n",
       "      <td>2.0</td>\n",
       "      <td>Iris-virginica</td>\n",
       "    </tr>\n",
       "  </tbody>\n",
       "</table>\n",
       "<p>150 rows × 5 columns</p>\n",
       "</div>"
      ],
      "text/plain": [
       "    slength swidth plength pwidth         species\n",
       "14      4.3    3.0     1.1    0.1     Iris-setosa\n",
       "9       4.4    2.9     1.4    0.2     Iris-setosa\n",
       "39      4.4    3.0     1.3    0.2     Iris-setosa\n",
       "43      4.4    3.2     1.3    0.2     Iris-setosa\n",
       "42      4.5    2.3     1.3    0.3     Iris-setosa\n",
       "..      ...    ...     ...    ...             ...\n",
       "119     7.7    2.6     6.9    2.3  Iris-virginica\n",
       "123     7.7    2.8     6.7    2.0  Iris-virginica\n",
       "136     7.7    3.0     6.1    2.3  Iris-virginica\n",
       "118     7.7    3.8     6.7    2.2  Iris-virginica\n",
       "132     7.9    3.8     6.4    2.0  Iris-virginica\n",
       "\n",
       "[150 rows x 5 columns]"
      ]
     },
     "metadata": {},
     "execution_count": 62
    }
   ]
  },
  {
   "cell_type": "markdown",
   "metadata": {
    "id": "2xGm6-8W06qQ",
    "pycharm": {
     "name": "#%% md\n"
    }
   },
   "source": [
    "You may measure the time needed for the execution, e.g. with the operating system command \"time\". System commands are executed with a %:"
   ]
  },
  {
   "cell_type": "code",
   "metadata": {
    "colab": {
     "base_uri": "https://localhost:8080/",
     "height": 455
    },
    "id": "PyaC-Aj006qQ",
    "outputId": "948ee8ce-7681-4a7d-9e6f-e4c4faccc68c",
    "pycharm": {
     "name": "#%%\n"
    }
   },
   "source": [
    "%time dataframe[dataframe['species']=='Iris-setosa'].sort_values('slength')"
   ],
   "execution_count": null,
   "outputs": [
    {
     "output_type": "stream",
     "text": [
      "CPU times: user 55 µs, sys: 1.98 ms, total: 2.04 ms\n",
      "Wall time: 2.06 ms\n"
     ],
     "name": "stdout"
    },
    {
     "output_type": "execute_result",
     "data": {
      "text/html": [
       "<div>\n",
       "<style scoped>\n",
       "    .dataframe tbody tr th:only-of-type {\n",
       "        vertical-align: middle;\n",
       "    }\n",
       "\n",
       "    .dataframe tbody tr th {\n",
       "        vertical-align: top;\n",
       "    }\n",
       "\n",
       "    .dataframe thead th {\n",
       "        text-align: right;\n",
       "    }\n",
       "</style>\n",
       "<table border=\"1\" class=\"dataframe\">\n",
       "  <thead>\n",
       "    <tr style=\"text-align: right;\">\n",
       "      <th></th>\n",
       "      <th>slength</th>\n",
       "      <th>swidth</th>\n",
       "      <th>plength</th>\n",
       "      <th>pwidth</th>\n",
       "      <th>species</th>\n",
       "    </tr>\n",
       "  </thead>\n",
       "  <tbody>\n",
       "    <tr>\n",
       "      <th>14</th>\n",
       "      <td>4.3</td>\n",
       "      <td>3.0</td>\n",
       "      <td>1.1</td>\n",
       "      <td>0.1</td>\n",
       "      <td>Iris-setosa</td>\n",
       "    </tr>\n",
       "    <tr>\n",
       "      <th>9</th>\n",
       "      <td>4.4</td>\n",
       "      <td>2.9</td>\n",
       "      <td>1.4</td>\n",
       "      <td>0.2</td>\n",
       "      <td>Iris-setosa</td>\n",
       "    </tr>\n",
       "    <tr>\n",
       "      <th>39</th>\n",
       "      <td>4.4</td>\n",
       "      <td>3.0</td>\n",
       "      <td>1.3</td>\n",
       "      <td>0.2</td>\n",
       "      <td>Iris-setosa</td>\n",
       "    </tr>\n",
       "    <tr>\n",
       "      <th>43</th>\n",
       "      <td>4.4</td>\n",
       "      <td>3.2</td>\n",
       "      <td>1.3</td>\n",
       "      <td>0.2</td>\n",
       "      <td>Iris-setosa</td>\n",
       "    </tr>\n",
       "    <tr>\n",
       "      <th>42</th>\n",
       "      <td>4.5</td>\n",
       "      <td>2.3</td>\n",
       "      <td>1.3</td>\n",
       "      <td>0.3</td>\n",
       "      <td>Iris-setosa</td>\n",
       "    </tr>\n",
       "    <tr>\n",
       "      <th>...</th>\n",
       "      <td>...</td>\n",
       "      <td>...</td>\n",
       "      <td>...</td>\n",
       "      <td>...</td>\n",
       "      <td>...</td>\n",
       "    </tr>\n",
       "    <tr>\n",
       "      <th>37</th>\n",
       "      <td>5.5</td>\n",
       "      <td>3.5</td>\n",
       "      <td>1.3</td>\n",
       "      <td>0.2</td>\n",
       "      <td>Iris-setosa</td>\n",
       "    </tr>\n",
       "    <tr>\n",
       "      <th>34</th>\n",
       "      <td>5.5</td>\n",
       "      <td>4.2</td>\n",
       "      <td>1.4</td>\n",
       "      <td>0.2</td>\n",
       "      <td>Iris-setosa</td>\n",
       "    </tr>\n",
       "    <tr>\n",
       "      <th>19</th>\n",
       "      <td>5.7</td>\n",
       "      <td>3.8</td>\n",
       "      <td>1.7</td>\n",
       "      <td>0.3</td>\n",
       "      <td>Iris-setosa</td>\n",
       "    </tr>\n",
       "    <tr>\n",
       "      <th>16</th>\n",
       "      <td>5.7</td>\n",
       "      <td>4.4</td>\n",
       "      <td>1.5</td>\n",
       "      <td>0.4</td>\n",
       "      <td>Iris-setosa</td>\n",
       "    </tr>\n",
       "    <tr>\n",
       "      <th>15</th>\n",
       "      <td>5.8</td>\n",
       "      <td>4.0</td>\n",
       "      <td>1.2</td>\n",
       "      <td>0.2</td>\n",
       "      <td>Iris-setosa</td>\n",
       "    </tr>\n",
       "  </tbody>\n",
       "</table>\n",
       "<p>50 rows × 5 columns</p>\n",
       "</div>"
      ],
      "text/plain": [
       "   slength swidth plength pwidth      species\n",
       "14     4.3    3.0     1.1    0.1  Iris-setosa\n",
       "9      4.4    2.9     1.4    0.2  Iris-setosa\n",
       "39     4.4    3.0     1.3    0.2  Iris-setosa\n",
       "43     4.4    3.2     1.3    0.2  Iris-setosa\n",
       "42     4.5    2.3     1.3    0.3  Iris-setosa\n",
       "..     ...    ...     ...    ...          ...\n",
       "37     5.5    3.5     1.3    0.2  Iris-setosa\n",
       "34     5.5    4.2     1.4    0.2  Iris-setosa\n",
       "19     5.7    3.8     1.7    0.3  Iris-setosa\n",
       "16     5.7    4.4     1.5    0.4  Iris-setosa\n",
       "15     5.8    4.0     1.2    0.2  Iris-setosa\n",
       "\n",
       "[50 rows x 5 columns]"
      ]
     },
     "metadata": {},
     "execution_count": 63
    }
   ]
  },
  {
   "cell_type": "code",
   "metadata": {
    "colab": {
     "base_uri": "https://localhost:8080/"
    },
    "id": "IbQ1Wuqc06qQ",
    "outputId": "1fbf867f-a6b7-43f9-9a79-b4d169510735",
    "pycharm": {
     "name": "#%%\n"
    }
   },
   "source": [
    "%ls -l # list the file in your current directory with the linux command ls"
   ],
   "execution_count": null,
   "outputs": [
    {
     "output_type": "stream",
     "text": [
      "total 12\n",
      "-rw-r--r-- 1 root root 5107 Aug 24 09:57 Iris.csv\n",
      "drwxr-xr-x 1 root root 4096 Aug 13 13:35 \u001B[0m\u001B[01;34msample_data\u001B[0m/\n"
     ],
     "name": "stdout"
    }
   ]
  },
  {
   "cell_type": "markdown",
   "metadata": {
    "id": "d6I2Xd1d06qQ",
    "pycharm": {
     "name": "#%% md\n"
    }
   },
   "source": [
    "### 5. Filtering on a DataFrame\n",
    "..."
   ]
  },
  {
   "cell_type": "code",
   "metadata": {
    "colab": {
     "base_uri": "https://localhost:8080/"
    },
    "id": "XYCwukeI06qR",
    "outputId": "55cddf72-ce9c-4994-8c88-8c16a682cd98",
    "pycharm": {
     "name": "#%%\n"
    }
   },
   "source": [
    "dataframe['slength'].astype('float')>5.0 # Returns a vector with booleans "
   ],
   "execution_count": null,
   "outputs": [
    {
     "output_type": "execute_result",
     "data": {
      "text/plain": [
       "1       True\n",
       "2      False\n",
       "3      False\n",
       "4      False\n",
       "5      False\n",
       "       ...  \n",
       "146     True\n",
       "147     True\n",
       "148     True\n",
       "149     True\n",
       "150     True\n",
       "Name: slength, Length: 150, dtype: bool"
      ]
     },
     "metadata": {},
     "execution_count": 65
    }
   ]
  },
  {
   "cell_type": "code",
   "metadata": {
    "id": "qjnWw_T406qR",
    "pycharm": {
     "name": "#%%\n"
    }
   },
   "source": [
    "# We can assign the filtering result to a new dataframe\n",
    "df_large = dataframe[dataframe['slength'].astype('float')>5.0]"
   ],
   "execution_count": null,
   "outputs": []
  },
  {
   "cell_type": "code",
   "metadata": {
    "colab": {
     "base_uri": "https://localhost:8080/",
     "height": 419
    },
    "id": "6Widtyr806qR",
    "outputId": "ebd8065d-948c-4736-bafc-d01b547a39f5",
    "pycharm": {
     "name": "#%%\n"
    }
   },
   "source": [
    "# And print it\n",
    "df_large"
   ],
   "execution_count": null,
   "outputs": [
    {
     "output_type": "execute_result",
     "data": {
      "text/html": [
       "<div>\n",
       "<style scoped>\n",
       "    .dataframe tbody tr th:only-of-type {\n",
       "        vertical-align: middle;\n",
       "    }\n",
       "\n",
       "    .dataframe tbody tr th {\n",
       "        vertical-align: top;\n",
       "    }\n",
       "\n",
       "    .dataframe thead th {\n",
       "        text-align: right;\n",
       "    }\n",
       "</style>\n",
       "<table border=\"1\" class=\"dataframe\">\n",
       "  <thead>\n",
       "    <tr style=\"text-align: right;\">\n",
       "      <th></th>\n",
       "      <th>slength</th>\n",
       "      <th>swidth</th>\n",
       "      <th>plength</th>\n",
       "      <th>pwidth</th>\n",
       "      <th>species</th>\n",
       "    </tr>\n",
       "  </thead>\n",
       "  <tbody>\n",
       "    <tr>\n",
       "      <th>1</th>\n",
       "      <td>5.1</td>\n",
       "      <td>3.5</td>\n",
       "      <td>1.4</td>\n",
       "      <td>0.2</td>\n",
       "      <td>Iris-setosa</td>\n",
       "    </tr>\n",
       "    <tr>\n",
       "      <th>6</th>\n",
       "      <td>5.4</td>\n",
       "      <td>3.9</td>\n",
       "      <td>1.7</td>\n",
       "      <td>0.4</td>\n",
       "      <td>Iris-setosa</td>\n",
       "    </tr>\n",
       "    <tr>\n",
       "      <th>11</th>\n",
       "      <td>5.4</td>\n",
       "      <td>3.7</td>\n",
       "      <td>1.5</td>\n",
       "      <td>0.2</td>\n",
       "      <td>Iris-setosa</td>\n",
       "    </tr>\n",
       "    <tr>\n",
       "      <th>15</th>\n",
       "      <td>5.8</td>\n",
       "      <td>4.0</td>\n",
       "      <td>1.2</td>\n",
       "      <td>0.2</td>\n",
       "      <td>Iris-setosa</td>\n",
       "    </tr>\n",
       "    <tr>\n",
       "      <th>16</th>\n",
       "      <td>5.7</td>\n",
       "      <td>4.4</td>\n",
       "      <td>1.5</td>\n",
       "      <td>0.4</td>\n",
       "      <td>Iris-setosa</td>\n",
       "    </tr>\n",
       "    <tr>\n",
       "      <th>...</th>\n",
       "      <td>...</td>\n",
       "      <td>...</td>\n",
       "      <td>...</td>\n",
       "      <td>...</td>\n",
       "      <td>...</td>\n",
       "    </tr>\n",
       "    <tr>\n",
       "      <th>146</th>\n",
       "      <td>6.7</td>\n",
       "      <td>3.0</td>\n",
       "      <td>5.2</td>\n",
       "      <td>2.3</td>\n",
       "      <td>Iris-virginica</td>\n",
       "    </tr>\n",
       "    <tr>\n",
       "      <th>147</th>\n",
       "      <td>6.3</td>\n",
       "      <td>2.5</td>\n",
       "      <td>5.0</td>\n",
       "      <td>1.9</td>\n",
       "      <td>Iris-virginica</td>\n",
       "    </tr>\n",
       "    <tr>\n",
       "      <th>148</th>\n",
       "      <td>6.5</td>\n",
       "      <td>3.0</td>\n",
       "      <td>5.2</td>\n",
       "      <td>2.0</td>\n",
       "      <td>Iris-virginica</td>\n",
       "    </tr>\n",
       "    <tr>\n",
       "      <th>149</th>\n",
       "      <td>6.2</td>\n",
       "      <td>3.4</td>\n",
       "      <td>5.4</td>\n",
       "      <td>2.3</td>\n",
       "      <td>Iris-virginica</td>\n",
       "    </tr>\n",
       "    <tr>\n",
       "      <th>150</th>\n",
       "      <td>5.9</td>\n",
       "      <td>3.0</td>\n",
       "      <td>5.1</td>\n",
       "      <td>1.8</td>\n",
       "      <td>Iris-virginica</td>\n",
       "    </tr>\n",
       "  </tbody>\n",
       "</table>\n",
       "<p>118 rows × 5 columns</p>\n",
       "</div>"
      ],
      "text/plain": [
       "    slength swidth plength pwidth         species\n",
       "1       5.1    3.5     1.4    0.2     Iris-setosa\n",
       "6       5.4    3.9     1.7    0.4     Iris-setosa\n",
       "11      5.4    3.7     1.5    0.2     Iris-setosa\n",
       "15      5.8    4.0     1.2    0.2     Iris-setosa\n",
       "16      5.7    4.4     1.5    0.4     Iris-setosa\n",
       "..      ...    ...     ...    ...             ...\n",
       "146     6.7    3.0     5.2    2.3  Iris-virginica\n",
       "147     6.3    2.5     5.0    1.9  Iris-virginica\n",
       "148     6.5    3.0     5.2    2.0  Iris-virginica\n",
       "149     6.2    3.4     5.4    2.3  Iris-virginica\n",
       "150     5.9    3.0     5.1    1.8  Iris-virginica\n",
       "\n",
       "[118 rows x 5 columns]"
      ]
     },
     "metadata": {},
     "execution_count": 67
    }
   ]
  },
  {
   "cell_type": "markdown",
   "metadata": {
    "id": "Rg_y8Ift06qR",
    "pycharm": {
     "name": "#%% md\n"
    }
   },
   "source": [
    "### 6. Missing or bad data\n",
    "\n",
    "Datasets, in particular before they are \"cleaned\", may contain missing or wrongly formated values. There are DataFrame methods to deal with this:\n",
    "\n",
    "- DataFrame.dropna([axis, how, thresh, …])\tRemove missing values.\n",
    "- DataFrame.fillna([value, method, axis, …])\tFill NA/NaN values using the specified method\n",
    "- DataFrame.replace([to_replace, value, …])\tReplace values given in to_replace with value.\n",
    "- DataFrame.interpolate([method, axis, limit, …])\tInterpolate values according to different methods.\n",
    "\n",
    "Retrieving and cleaning data is often the most time consuming part in a data science project."
   ]
  },
  {
   "cell_type": "markdown",
   "metadata": {
    "id": "HN7OXDjJ06qR",
    "pycharm": {
     "name": "#%% md\n"
    }
   },
   "source": [
    "### 7. Exporting dataframes\n",
    "\n",
    "DataFrame has several export methods. (html, hdf5, ascii, excel etc). Let's write our file to a text file in a csv format. "
   ]
  },
  {
   "cell_type": "code",
   "metadata": {
    "id": "yhxN8bF_06qR",
    "pycharm": {
     "name": "#%%\n"
    }
   },
   "source": [
    "sdf.to_csv('myout.txt')"
   ],
   "execution_count": null,
   "outputs": []
  },
  {
   "cell_type": "code",
   "metadata": {
    "colab": {
     "base_uri": "https://localhost:8080/"
    },
    "id": "b-27C7Vz06qR",
    "outputId": "19cc56b0-93eb-40df-9c35-f213d8de776e",
    "pycharm": {
     "name": "#%%\n"
    }
   },
   "source": [
    "%ls -l"
   ],
   "execution_count": null,
   "outputs": [
    {
     "output_type": "stream",
     "text": [
      "total 16\n",
      "-rw-r--r-- 1 root root 5107 Aug 24 09:57 Iris.csv\n",
      "-rw-r--r-- 1 root root  339 Aug 24 13:37 myout.txt\n",
      "drwxr-xr-x 1 root root 4096 Aug 13 13:35 \u001B[0m\u001B[01;34msample_data\u001B[0m/\n"
     ],
     "name": "stdout"
    }
   ]
  },
  {
   "cell_type": "markdown",
   "metadata": {
    "id": "Z-Y9fLm6YYlH",
    "pycharm": {
     "name": "#%% md\n"
    }
   },
   "source": [
    "What happens with our files when we close our colab session?"
   ]
  },
  {
   "cell_type": "markdown",
   "metadata": {
    "id": "Q1No9Vhr06qS",
    "pycharm": {
     "name": "#%% md\n"
    }
   },
   "source": [
    "### 8. Metadata\n",
    "\n",
    "\n",
    "Metadata is data about the data, e.g. when was it collected, under which conditions, calibration etc. \n",
    "Metadata is normally not part of the statistical data analysis, however, needed for understanding and reproducibilty. \n",
    "\n",
    "DataFrame is not really made for storing metadata (should be done separately), but one can add new attributes to a dataframe:\n"
   ]
  },
  {
   "cell_type": "code",
   "metadata": {
    "colab": {
     "base_uri": "https://localhost:8080/",
     "height": 181
    },
    "id": "HQ7Q2lT306qS",
    "outputId": "0fe6db7f-d2be-4482-9a68-990e031a6296",
    "pycharm": {
     "name": "#%%\n"
    }
   },
   "source": [
    "sdf.myinstrument_name = 'Linky'\n",
    "sdf.myinstrument_name"
   ],
   "execution_count": null,
   "outputs": [
    {
     "output_type": "error",
     "ename": "NameError",
     "evalue": "ignored",
     "traceback": [
      "\u001B[0;31m---------------------------------------------------------------------------\u001B[0m",
      "\u001B[0;31mNameError\u001B[0m                                 Traceback (most recent call last)",
      "\u001B[0;32m<ipython-input-1-41fba8ce8e46>\u001B[0m in \u001B[0;36m<module>\u001B[0;34m()\u001B[0m\n\u001B[0;32m----> 1\u001B[0;31m \u001B[0msdf\u001B[0m\u001B[0;34m.\u001B[0m\u001B[0mmyinstrument_name\u001B[0m \u001B[0;34m=\u001B[0m \u001B[0;34m'Linky'\u001B[0m\u001B[0;34m\u001B[0m\u001B[0;34m\u001B[0m\u001B[0m\n\u001B[0m\u001B[1;32m      2\u001B[0m \u001B[0msdf\u001B[0m\u001B[0;34m.\u001B[0m\u001B[0mmyinstrument_name\u001B[0m\u001B[0;34m\u001B[0m\u001B[0;34m\u001B[0m\u001B[0m\n",
      "\u001B[0;31mNameError\u001B[0m: name 'sdf' is not defined"
     ]
    }
   ]
  },
  {
   "cell_type": "markdown",
   "metadata": {
    "id": "ZpLXCrvn06qS",
    "pycharm": {
     "name": "#%% md\n"
    }
   },
   "source": [
    "### Exercise 2\n",
    "\n",
    "Write down here some minimal metadata about the Iris dataset:\n",
    "\n",
    "- Column names (features, inputs, observables)\n",
    "- units/dimensions\n",
    "- Author/source/time/version\n",
    "Summary: everything needed for reproduction\n",
    "\n",
    "(the \"dimensions of a numpy table or dataframe is often called the shape). 150x5x3"
   ]
  },
  {
   "cell_type": "markdown",
   "metadata": {
    "id": "gm5NcJsD06qS",
    "pycharm": {
     "name": "#%% md\n"
    }
   },
   "source": [
    "### 9. Working on the filesystem with the os module\n",
    "\n",
    "When managing large datasets, one often has to organise files in the file system. This includes finding them, moving and copying them, creating new folders/directories, renaming them etc. This can easily be done from Python with the os (operating system) module. \n",
    "\n",
    "Try to understand the following code and alter it to do something else. "
   ]
  },
  {
   "cell_type": "code",
   "metadata": {
    "id": "8Td_AnJg06qS",
    "pycharm": {
     "name": "#%%\n"
    }
   },
   "source": [
    "import os\n",
    "\n",
    "new_dir = os.getcwd() +'/newnbdir' # Get the current directory into a string, add /newnbdir to the string\n",
    "os.makedirs(new_dir) # Create the folder\n",
    "files = os.listdir() # List the files in the current folder\n",
    "nb_files = [] # Create an empty list\n",
    "for file in files:\n",
    "    if 'ipynb' in file and file[0]!='.':\n",
    "        nb_files.append(file)\n",
    "for file in nb_files:\n",
    "    os.system('cp '+file+' '+new_dir+'/')"
   ],
   "execution_count": null,
   "outputs": []
  },
  {
   "cell_type": "code",
   "metadata": {
    "colab": {
     "base_uri": "https://localhost:8080/"
    },
    "id": "D0mwR_jFZsbk",
    "outputId": "e0e21a27-ae7c-4ffb-8e75-a1376e31d6d0",
    "pycharm": {
     "name": "#%%\n"
    }
   },
   "source": [
    "!ls -l newnbdir"
   ],
   "execution_count": null,
   "outputs": [
    {
     "output_type": "stream",
     "text": [
      "total 0\n"
     ],
     "name": "stdout"
    }
   ]
  },
  {
   "cell_type": "markdown",
   "metadata": {
    "id": "aCEPcsaf06qS",
    "pycharm": {
     "name": "#%% md\n"
    }
   },
   "source": [
    "### Exercise 3\n",
    "\n",
    "Read in the iris dataset from iris.csv into a dataframe. Set the values in column 1 in row 39, 49 and 100 to NaN (use the nan method from the numpy package). Then replacethe NaN values to the average value of the respective column. Depending on how you do it, this may be about 10 lines of Python code."
   ]
  },
  {
   "cell_type": "code",
   "metadata": {
    "id": "X9VczUOG06qS",
    "pycharm": {
     "name": "#%%\n"
    }
   },
   "source": [
    "# Solve your exercise here\n"
   ],
   "execution_count": null,
   "outputs": []
  },
  {
   "cell_type": "markdown",
   "metadata": {
    "id": "8MZXt0ei06qT",
    "pycharm": {
     "name": "#%% md\n"
    }
   },
   "source": [
    "### Exercise 4 \n",
    "\n",
    "Print a sorted list of the weeks and the male deadths with COVID-19 in Switzerland. The weeks with the highest numbers should appear first. This should be doable with about 10 lines of Python. You may need 30 minutes to solve this one.\n"
   ]
  },
  {
   "cell_type": "code",
   "metadata": {
    "colab": {
     "base_uri": "https://localhost:8080/",
     "height": 955
    },
    "id": "7UPCsexM06qT",
    "outputId": "f07b242d-e68a-40c4-949a-858dd81054bb",
    "pycharm": {
     "name": "#%%\n"
    }
   },
   "source": [
    "url = 'https://www.covid19.admin.ch/api/data/20210824-jrvdp23s/sources/COVID19Test_geoRegion_all.json'\n",
    "#df_cov = pd.io.json.read_json(url)\n",
    "url = 'https://www.covid19.admin.ch/api/data/20210824-jrvdp23s/sources/COVID19Death_geoRegion_sex_w.csv'\n",
    "df_cov = pd.read_csv(url)\n",
    "print(df_cov.info())\n",
    "df_cov.head(3)\n"
   ],
   "execution_count": null,
   "outputs": [
    {
     "output_type": "stream",
     "text": [
      "<class 'pandas.core.frame.DataFrame'>\n",
      "RangeIndex: 8424 entries, 0 to 8423\n",
      "Data columns (total 28 columns):\n",
      " #   Column                Non-Null Count  Dtype  \n",
      "---  ------                --------------  -----  \n",
      " 0   sex                   8424 non-null   object \n",
      " 1   geoRegion             8424 non-null   object \n",
      " 2   datum                 8424 non-null   int64  \n",
      " 3   entries               8424 non-null   int64  \n",
      " 4   timeframe_all         8424 non-null   bool   \n",
      " 5   timeframe_phase2      8424 non-null   bool   \n",
      " 6   timeframe_phase2b     8424 non-null   bool   \n",
      " 7   timeframe_phase3      8424 non-null   bool   \n",
      " 8   timeframe_vacc_info   8424 non-null   bool   \n",
      " 9   timeframe_28d         8424 non-null   bool   \n",
      " 10  timeframe_14d         8424 non-null   bool   \n",
      " 11  sumTotal              8424 non-null   int64  \n",
      " 12  offset_vacc_info      8424 non-null   int64  \n",
      " 13  sumTotal_vacc_info    8424 non-null   int64  \n",
      " 14  freq                  4725 non-null   float64\n",
      " 15  prct                  4725 non-null   float64\n",
      " 16  pop                   5616 non-null   float64\n",
      " 17  inz_entries           5616 non-null   float64\n",
      " 18  inzsumTotal           5616 non-null   float64\n",
      " 19  type                  8424 non-null   object \n",
      " 20  type_variant          8424 non-null   object \n",
      " 21  version               8424 non-null   object \n",
      " 22  datum_unit            8424 non-null   object \n",
      " 23  datum_dboardformated  8424 non-null   object \n",
      " 24  entries_diff_abs      8316 non-null   float64\n",
      " 25  entries_diff_inz      5544 non-null   float64\n",
      " 26  entries_diff_pct      2618 non-null   float64\n",
      " 27  prct_diff             3948 non-null   float64\n",
      "dtypes: bool(7), float64(9), int64(5), object(7)\n",
      "memory usage: 1.4+ MB\n",
      "None\n"
     ],
     "name": "stdout"
    },
    {
     "output_type": "execute_result",
     "data": {
      "text/html": [
       "<div>\n",
       "<style scoped>\n",
       "    .dataframe tbody tr th:only-of-type {\n",
       "        vertical-align: middle;\n",
       "    }\n",
       "\n",
       "    .dataframe tbody tr th {\n",
       "        vertical-align: top;\n",
       "    }\n",
       "\n",
       "    .dataframe thead th {\n",
       "        text-align: right;\n",
       "    }\n",
       "</style>\n",
       "<table border=\"1\" class=\"dataframe\">\n",
       "  <thead>\n",
       "    <tr style=\"text-align: right;\">\n",
       "      <th></th>\n",
       "      <th>sex</th>\n",
       "      <th>geoRegion</th>\n",
       "      <th>datum</th>\n",
       "      <th>entries</th>\n",
       "      <th>timeframe_all</th>\n",
       "      <th>timeframe_phase2</th>\n",
       "      <th>timeframe_phase2b</th>\n",
       "      <th>timeframe_phase3</th>\n",
       "      <th>timeframe_vacc_info</th>\n",
       "      <th>timeframe_28d</th>\n",
       "      <th>timeframe_14d</th>\n",
       "      <th>sumTotal</th>\n",
       "      <th>offset_vacc_info</th>\n",
       "      <th>sumTotal_vacc_info</th>\n",
       "      <th>freq</th>\n",
       "      <th>prct</th>\n",
       "      <th>pop</th>\n",
       "      <th>inz_entries</th>\n",
       "      <th>inzsumTotal</th>\n",
       "      <th>type</th>\n",
       "      <th>type_variant</th>\n",
       "      <th>version</th>\n",
       "      <th>datum_unit</th>\n",
       "      <th>datum_dboardformated</th>\n",
       "      <th>entries_diff_abs</th>\n",
       "      <th>entries_diff_inz</th>\n",
       "      <th>entries_diff_pct</th>\n",
       "      <th>prct_diff</th>\n",
       "    </tr>\n",
       "  </thead>\n",
       "  <tbody>\n",
       "    <tr>\n",
       "      <th>0</th>\n",
       "      <td>male</td>\n",
       "      <td>CH</td>\n",
       "      <td>202009</td>\n",
       "      <td>0</td>\n",
       "      <td>True</td>\n",
       "      <td>False</td>\n",
       "      <td>False</td>\n",
       "      <td>False</td>\n",
       "      <td>False</td>\n",
       "      <td>False</td>\n",
       "      <td>False</td>\n",
       "      <td>0</td>\n",
       "      <td>4800</td>\n",
       "      <td>0</td>\n",
       "      <td>NaN</td>\n",
       "      <td>NaN</td>\n",
       "      <td>4268863.0</td>\n",
       "      <td>0.0</td>\n",
       "      <td>0.0</td>\n",
       "      <td>COVID19Death</td>\n",
       "      <td>sex</td>\n",
       "      <td>2021-08-24_07-51-17</td>\n",
       "      <td>isoweek</td>\n",
       "      <td>2020-09</td>\n",
       "      <td>NaN</td>\n",
       "      <td>NaN</td>\n",
       "      <td>NaN</td>\n",
       "      <td>NaN</td>\n",
       "    </tr>\n",
       "    <tr>\n",
       "      <th>1</th>\n",
       "      <td>female</td>\n",
       "      <td>CH</td>\n",
       "      <td>202009</td>\n",
       "      <td>0</td>\n",
       "      <td>True</td>\n",
       "      <td>False</td>\n",
       "      <td>False</td>\n",
       "      <td>False</td>\n",
       "      <td>False</td>\n",
       "      <td>False</td>\n",
       "      <td>False</td>\n",
       "      <td>0</td>\n",
       "      <td>4120</td>\n",
       "      <td>0</td>\n",
       "      <td>NaN</td>\n",
       "      <td>NaN</td>\n",
       "      <td>4337170.0</td>\n",
       "      <td>0.0</td>\n",
       "      <td>0.0</td>\n",
       "      <td>COVID19Death</td>\n",
       "      <td>sex</td>\n",
       "      <td>2021-08-24_07-51-17</td>\n",
       "      <td>isoweek</td>\n",
       "      <td>2020-09</td>\n",
       "      <td>NaN</td>\n",
       "      <td>NaN</td>\n",
       "      <td>NaN</td>\n",
       "      <td>NaN</td>\n",
       "    </tr>\n",
       "    <tr>\n",
       "      <th>2</th>\n",
       "      <td>unknown</td>\n",
       "      <td>CH</td>\n",
       "      <td>202009</td>\n",
       "      <td>0</td>\n",
       "      <td>True</td>\n",
       "      <td>False</td>\n",
       "      <td>False</td>\n",
       "      <td>False</td>\n",
       "      <td>False</td>\n",
       "      <td>False</td>\n",
       "      <td>False</td>\n",
       "      <td>0</td>\n",
       "      <td>0</td>\n",
       "      <td>0</td>\n",
       "      <td>NaN</td>\n",
       "      <td>NaN</td>\n",
       "      <td>NaN</td>\n",
       "      <td>NaN</td>\n",
       "      <td>NaN</td>\n",
       "      <td>COVID19Death</td>\n",
       "      <td>sex</td>\n",
       "      <td>2021-08-24_07-51-17</td>\n",
       "      <td>isoweek</td>\n",
       "      <td>2020-09</td>\n",
       "      <td>NaN</td>\n",
       "      <td>NaN</td>\n",
       "      <td>NaN</td>\n",
       "      <td>NaN</td>\n",
       "    </tr>\n",
       "  </tbody>\n",
       "</table>\n",
       "</div>"
      ],
      "text/plain": [
       "       sex geoRegion   datum  ...  entries_diff_inz  entries_diff_pct  prct_diff\n",
       "0     male        CH  202009  ...               NaN               NaN        NaN\n",
       "1   female        CH  202009  ...               NaN               NaN        NaN\n",
       "2  unknown        CH  202009  ...               NaN               NaN        NaN\n",
       "\n",
       "[3 rows x 28 columns]"
      ]
     },
     "metadata": {},
     "execution_count": 105
    }
   ]
  },
  {
   "cell_type": "code",
   "metadata": {
    "colab": {
     "base_uri": "https://localhost:8080/",
     "height": 758
    },
    "id": "0G9RWCiH3DLC",
    "outputId": "872b444c-dbf2-4063-b0e3-8bd727c59534",
    "pycharm": {
     "name": "#%%\n"
    }
   },
   "source": [
    "g = df_cov.groupby('sex')\n",
    "print(g.size())\n",
    "df_mdeaths = g.get_group('male')\n",
    "#df_mdeaths[50:52]\n",
    "df_mdeaths_sorted = df_mdeaths.sort_values('entries',ascending=None)\n",
    "df_mdeaths_sorted[['datum_dboardformated','entries']].head(20)"
   ],
   "execution_count": null,
   "outputs": [
    {
     "output_type": "stream",
     "text": [
      "sex\n",
      "female     2808\n",
      "male       2808\n",
      "unknown    2808\n",
      "dtype: int64\n"
     ],
     "name": "stdout"
    },
    {
     "output_type": "execute_result",
     "data": {
      "text/html": [
       "<div>\n",
       "<style scoped>\n",
       "    .dataframe tbody tr th:only-of-type {\n",
       "        vertical-align: middle;\n",
       "    }\n",
       "\n",
       "    .dataframe tbody tr th {\n",
       "        vertical-align: top;\n",
       "    }\n",
       "\n",
       "    .dataframe thead th {\n",
       "        text-align: right;\n",
       "    }\n",
       "</style>\n",
       "<table border=\"1\" class=\"dataframe\">\n",
       "  <thead>\n",
       "    <tr style=\"text-align: right;\">\n",
       "      <th></th>\n",
       "      <th>datum_dboardformated</th>\n",
       "      <th>entries</th>\n",
       "    </tr>\n",
       "  </thead>\n",
       "  <tbody>\n",
       "    <tr>\n",
       "      <th>348</th>\n",
       "      <td>2020-47</td>\n",
       "      <td>343</td>\n",
       "    </tr>\n",
       "    <tr>\n",
       "      <th>351</th>\n",
       "      <td>2020-48</td>\n",
       "      <td>341</td>\n",
       "    </tr>\n",
       "    <tr>\n",
       "      <th>114</th>\n",
       "      <td>2020-47</td>\n",
       "      <td>340</td>\n",
       "    </tr>\n",
       "    <tr>\n",
       "      <th>117</th>\n",
       "      <td>2020-48</td>\n",
       "      <td>340</td>\n",
       "    </tr>\n",
       "    <tr>\n",
       "      <th>108</th>\n",
       "      <td>2020-45</td>\n",
       "      <td>319</td>\n",
       "    </tr>\n",
       "    <tr>\n",
       "      <th>342</th>\n",
       "      <td>2020-45</td>\n",
       "      <td>319</td>\n",
       "    </tr>\n",
       "    <tr>\n",
       "      <th>360</th>\n",
       "      <td>2020-51</td>\n",
       "      <td>317</td>\n",
       "    </tr>\n",
       "    <tr>\n",
       "      <th>357</th>\n",
       "      <td>2020-50</td>\n",
       "      <td>316</td>\n",
       "    </tr>\n",
       "    <tr>\n",
       "      <th>111</th>\n",
       "      <td>2020-46</td>\n",
       "      <td>314</td>\n",
       "    </tr>\n",
       "    <tr>\n",
       "      <th>345</th>\n",
       "      <td>2020-46</td>\n",
       "      <td>314</td>\n",
       "    </tr>\n",
       "    <tr>\n",
       "      <th>123</th>\n",
       "      <td>2020-50</td>\n",
       "      <td>314</td>\n",
       "    </tr>\n",
       "    <tr>\n",
       "      <th>126</th>\n",
       "      <td>2020-51</td>\n",
       "      <td>311</td>\n",
       "    </tr>\n",
       "    <tr>\n",
       "      <th>354</th>\n",
       "      <td>2020-49</td>\n",
       "      <td>311</td>\n",
       "    </tr>\n",
       "    <tr>\n",
       "      <th>120</th>\n",
       "      <td>2020-49</td>\n",
       "      <td>310</td>\n",
       "    </tr>\n",
       "    <tr>\n",
       "      <th>363</th>\n",
       "      <td>2020-52</td>\n",
       "      <td>306</td>\n",
       "    </tr>\n",
       "    <tr>\n",
       "      <th>129</th>\n",
       "      <td>2020-52</td>\n",
       "      <td>301</td>\n",
       "    </tr>\n",
       "    <tr>\n",
       "      <th>366</th>\n",
       "      <td>2020-53</td>\n",
       "      <td>282</td>\n",
       "    </tr>\n",
       "    <tr>\n",
       "      <th>132</th>\n",
       "      <td>2020-53</td>\n",
       "      <td>280</td>\n",
       "    </tr>\n",
       "    <tr>\n",
       "      <th>369</th>\n",
       "      <td>2021-01</td>\n",
       "      <td>241</td>\n",
       "    </tr>\n",
       "    <tr>\n",
       "      <th>135</th>\n",
       "      <td>2021-01</td>\n",
       "      <td>238</td>\n",
       "    </tr>\n",
       "  </tbody>\n",
       "</table>\n",
       "</div>"
      ],
      "text/plain": [
       "    datum_dboardformated  entries\n",
       "348              2020-47      343\n",
       "351              2020-48      341\n",
       "114              2020-47      340\n",
       "117              2020-48      340\n",
       "108              2020-45      319\n",
       "342              2020-45      319\n",
       "360              2020-51      317\n",
       "357              2020-50      316\n",
       "111              2020-46      314\n",
       "345              2020-46      314\n",
       "123              2020-50      314\n",
       "126              2020-51      311\n",
       "354              2020-49      311\n",
       "120              2020-49      310\n",
       "363              2020-52      306\n",
       "129              2020-52      301\n",
       "366              2020-53      282\n",
       "132              2020-53      280\n",
       "369              2021-01      241\n",
       "135              2021-01      238"
      ]
     },
     "metadata": {},
     "execution_count": 109
    }
   ]
  },
  {
   "cell_type": "markdown",
   "metadata": {
    "id": "1yOZYAHG06qT",
    "pycharm": {
     "name": "#%% md\n"
    }
   },
   "source": [
    "# End of today - remember to fill the mandatory form\n",
    "\n",
    "Everyone has to fill this form by 10 pm : https://forms.gle/bzDpGLUieVnheZUi6.\n",
    "Have a nice evening and see you tomorrow."
   ]
  },
  {
   "cell_type": "code",
   "metadata": {
    "id": "wvGsChGa06qT",
    "pycharm": {
     "name": "#%%\n"
    }
   },
   "source": [],
   "execution_count": null,
   "outputs": []
  },
  {
   "cell_type": "code",
   "metadata": {
    "id": "vPndicDx06qT",
    "pycharm": {
     "name": "#%%\n"
    }
   },
   "source": [],
   "execution_count": null,
   "outputs": []
  }
 ]
}