{
  "cells": [
    {
      "cell_type": "markdown",
      "metadata": {
        "id": "LphCkL_heC3f"
      },
      "source": [
        "# Homework: Python for machine learning & Data Analysis\n",
        "#### Here are listed the most common python & numpy methods used in the course as well as usage examples. This is not extensive information, please refer to the documentation for details.\n",
        "\n",
        "\n",
        "Prepared by Mykhailo Vladymyrov,\n",
        "Science IT Support, University of Bern, 2022\n",
        "\n",
        "This work is licensed under <a href=\"https://creativecommons.org/share-your-work/public-domain/cc0/\">CC0</a>.\n",
        "\n"
      ]
    },
    {
      "cell_type": "markdown",
      "metadata": {
        "id": "9ywZ9QhN9QfQ"
      },
      "source": [
        "When solving exercises, try to not use copypastig: by typing you reinforce your brain to learn better."
      ]
    },
    {
      "cell_type": "markdown",
      "metadata": {
        "id": "HG8uZJrln4kz"
      },
      "source": [
        "# 0. List, tuple, set, dict"
      ]
    },
    {
      "cell_type": "code",
      "execution_count": null,
      "metadata": {
        "id": "_WoGFvYlej7w"
      },
      "outputs": [],
      "source": [
        "# A `tuple` can contain any number of any element and can't be modified\n",
        "x_coordinates = (0, 1, 2, 3)\n",
        "\n",
        "#               ^ ---------^ tuple is written in normal brackets"
      ]
    },
    {
      "cell_type": "code",
      "execution_count": null,
      "metadata": {
        "id": "B_0hJbH2e2NV"
      },
      "outputs": [],
      "source": [
        "# To see what any object is, it's a good idea to print it:\n",
        "print(x_coordinates)"
      ]
    },
    {
      "cell_type": "code",
      "execution_count": null,
      "metadata": {
        "id": "YDUxG2tdfEUF"
      },
      "outputs": [],
      "source": [
        "# or just:\n",
        "x_coordinates"
      ]
    },
    {
      "cell_type": "code",
      "execution_count": null,
      "metadata": {
        "id": "rjRceVMWfG84"
      },
      "outputs": [],
      "source": [
        "# As well as check it's type:\n",
        "type(x_coordinates)"
      ]
    },
    {
      "cell_type": "code",
      "execution_count": null,
      "metadata": {
        "id": "6JXaYnPhkHEK"
      },
      "outputs": [],
      "source": [
        "# and available methods and properties\n",
        "dir(x_coordinates)"
      ]
    },
    {
      "cell_type": "code",
      "execution_count": null,
      "metadata": {
        "id": "85mENGBBkMcR"
      },
      "outputs": [],
      "source": [
        "# the `__doc__` property often contains useful info\n",
        "print(x_coordinates.__doc__)"
      ]
    },
    {
      "cell_type": "markdown",
      "metadata": {
        "id": "8JqHksKLfY9l"
      },
      "source": [
        " ---"
      ]
    },
    {
      "cell_type": "code",
      "execution_count": null,
      "metadata": {
        "id": "BP7PCSQsoAPQ"
      },
      "outputs": [],
      "source": [
        "# Function len called on any collection — array like object — will return it's length\n",
        "\n",
        "x_coordinates_length = len(x_coordinates)\n",
        "print('length of the `x_coordinates` is', x_coordinates_length)"
      ]
    },
    {
      "cell_type": "code",
      "execution_count": null,
      "metadata": {
        "id": "3n-L1q4egLCS"
      },
      "outputs": [],
      "source": [
        "print('Also it is handy to use so-called f-strings (formatted string): they allow to easily format the output:')\n",
        "print(f'For example:\\n\\tlength of the `x_coordinates={x_coordinates}` is {x_coordinates_length}')\n",
        "\n",
        "#     ^------- f before string marks an f-string\n"
      ]
    },
    {
      "cell_type": "code",
      "execution_count": null,
      "metadata": {
        "id": "q2DFllByhrBz"
      },
      "outputs": [],
      "source": [
        "# `list` is similar to `tuple`, but can be modified:\n",
        "\n",
        "y_coordinates = [1, 1, 4]\n",
        "\n",
        "#               ^ ---------^ list is written in square brackets"
      ]
    },
    {
      "cell_type": "code",
      "execution_count": null,
      "metadata": {
        "id": "ehJvl7fLoBtL"
      },
      "outputs": [],
      "source": [
        "# One can loop through elements of a collection:\n",
        "\n",
        "for x in x_coordinates:\n",
        "  print (x)"
      ]
    },
    {
      "cell_type": "code",
      "execution_count": null,
      "metadata": {
        "id": "xn7tgZnAiZEW"
      },
      "outputs": [],
      "source": [
        "# Or also obtain the index of element:\n",
        "\n",
        "for idx, y in enumerate(y_coordinates):\n",
        "  print (f'y[{idx}] = {y}')"
      ]
    },
    {
      "cell_type": "code",
      "execution_count": null,
      "metadata": {
        "id": "npPC3AIyng6e"
      },
      "outputs": [],
      "source": [
        "# Several collections can be iterated together, by zipping them together:\n",
        "\n",
        "for x, y in zip(x_coordinates, y_coordinates):\n",
        "  print (x, y)"
      ]
    },
    {
      "cell_type": "code",
      "execution_count": null,
      "metadata": {
        "id": "iP0ZE9KEjXXy"
      },
      "outputs": [],
      "source": [
        "# Slements of list can be modified:\n",
        "print(y_coordinates[0])\n",
        "y_coordinates[0] = 0\n",
        "print(y_coordinates[1])\n",
        "print(y_coordinates)"
      ]
    },
    {
      "cell_type": "code",
      "execution_count": null,
      "metadata": {
        "id": "KrK_a1e4lDAk"
      },
      "outputs": [],
      "source": [
        "# `list` can be created form another collection:\n",
        "\n",
        "x_coordinates = list(x_coordinates)\n",
        "print(f'now `x_coordinates` is {type(x_coordinates)}')"
      ]
    },
    {
      "cell_type": "code",
      "execution_count": null,
      "metadata": {
        "id": "aSIod_Rxk2aC"
      },
      "outputs": [],
      "source": [
        "# Elements can be appended to a list\n",
        "\n",
        "\n",
        "y_coordinates.append(9)\n",
        "print(y_coordinates)\n",
        "\n",
        "y_coordinates.append(16)\n",
        "print(y_coordinates)\n",
        "\n",
        "y_coordinates.append(25)\n",
        "print(y_coordinates)\n"
      ]
    },
    {
      "cell_type": "code",
      "execution_count": null,
      "metadata": {
        "id": "lVIWxE6FoDcm"
      },
      "outputs": [],
      "source": [
        "# Extended with another list:\n",
        "x_coordinates.extend([4, 5])"
      ]
    },
    {
      "cell_type": "code",
      "execution_count": null,
      "metadata": {
        "id": "S00vbLWWlyeV"
      },
      "outputs": [],
      "source": [
        "# or added\n",
        "\n",
        "all_numbers = x_coordinates + y_coordinates\n",
        "print(all_numbers)"
      ]
    },
    {
      "cell_type": "code",
      "execution_count": null,
      "metadata": {
        "id": "RIeE7l2Gpg1E"
      },
      "outputs": [],
      "source": [
        "# `set` - is a collection of unique elements:\n",
        "unique_numbers = set(all_numbers)\n",
        "print(unique_numbers)"
      ]
    },
    {
      "cell_type": "code",
      "execution_count": null,
      "metadata": {
        "id": "Va8RWA0vmdjL"
      },
      "outputs": [],
      "source": [
        "# `dictionary` is a collection where the values are assigned to unique keys and can be accessed by the key:\n",
        "\n",
        "uptime_hours = {'jupyter': 10, 'chrome': 30}"
      ]
    },
    {
      "cell_type": "code",
      "execution_count": null,
      "metadata": {
        "id": "lDkXouaBoE6j"
      },
      "outputs": [],
      "source": [
        "print(uptime_hours['jupyter'])"
      ]
    },
    {
      "cell_type": "code",
      "execution_count": null,
      "metadata": {
        "id": "w2XKXUUrpkQU"
      },
      "outputs": [],
      "source": [
        "# `list` comprehensions are quick way to define list:\n",
        "\n",
        "y_coordinates = [x**2 for x in x_coordinates]\n",
        "print(y_coordinates)"
      ]
    },
    {
      "cell_type": "code",
      "execution_count": null,
      "metadata": {
        "id": "OVGGeg_QodDc"
      },
      "outputs": [],
      "source": [
        "# `set`:\n",
        "values = {v%7 for v in y_coordinates}\n",
        "print(values)"
      ]
    },
    {
      "cell_type": "code",
      "execution_count": null,
      "metadata": {
        "id": "SRLIn6wQot8b"
      },
      "outputs": [],
      "source": [
        "# `dictionary`\n",
        "\n",
        "x_at_y = {y:x for x, y in zip(x_coordinates, y_coordinates)}\n",
        "print(x_at_y)\n",
        "print(x_at_y[25])"
      ]
    },
    {
      "cell_type": "markdown",
      "metadata": {
        "id": "TAmAx1ZDlXjT"
      },
      "source": [
        "# 1. Pyplot"
      ]
    },
    {
      "cell_type": "code",
      "execution_count": null,
      "metadata": {
        "id": "x_vlxByweeEE"
      },
      "outputs": [],
      "source": [
        "import matplotlib.pyplot as plt"
      ]
    },
    {
      "cell_type": "code",
      "execution_count": null,
      "metadata": {
        "id": "1hOOzT0ZN3xO"
      },
      "outputs": [],
      "source": [
        "x_coordinates = list(range(6))\n",
        "y_coordinates = [x**2 for x in x_coordinates]"
      ]
    },
    {
      "cell_type": "code",
      "execution_count": null,
      "metadata": {
        "id": "o5Wqm89oOGu2"
      },
      "outputs": [],
      "source": [
        "# Simple plot\n",
        "\n",
        "plt.plot(x_coordinates, y_coordinates)"
      ]
    },
    {
      "cell_type": "code",
      "execution_count": null,
      "metadata": {
        "id": "f0gwwI_ilrgQ"
      },
      "outputs": [],
      "source": [
        "# Scatter plot\n",
        "plt.scatter(x_coordinates, y_coordinates, marker='x', color='b', s=10)"
      ]
    },
    {
      "cell_type": "code",
      "execution_count": null,
      "metadata": {
        "id": "LFeRVBCARbQw"
      },
      "outputs": [],
      "source": [
        "# Scatter plot with axes range\n",
        "plt.scatter(x_coordinates, y_coordinates, marker='x', color='b', s=10)\n",
        "plt.xlim(0, 10)\n",
        "plt.ylim(0, 10)"
      ]
    },
    {
      "cell_type": "code",
      "execution_count": null,
      "metadata": {
        "id": "5mqZY6hFReu5"
      },
      "outputs": [],
      "source": [
        "# Plot with isotropic axes\n",
        "\n",
        "plt.scatter(x_coordinates, y_coordinates, marker='x', color='b', s=10)\n",
        "\n",
        "current_axis = plt.gca()\n",
        "current_axis.set_aspect('equal')"
      ]
    },
    {
      "cell_type": "code",
      "execution_count": null,
      "metadata": {
        "id": "rtkv_YUolfld"
      },
      "outputs": [],
      "source": [
        "# Big plot, with details\n",
        "\n",
        "plt.figure(figsize=(8,8))  # plot size\n",
        "\n",
        "plt.plot(x_coordinates, y_coordinates)\n",
        "\n",
        "plt.xlabel('x coordinate')\n",
        "plt.ylabel('y coordinate')\n",
        "plt.title('x=y^2')\n",
        "\n",
        "plt.show()\n",
        "plt.close()  # always a good idea to close plot to save memory"
      ]
    },
    {
      "cell_type": "code",
      "execution_count": null,
      "metadata": {
        "id": "QY_T2HmRl9Mw"
      },
      "outputs": [],
      "source": [
        "# Multiple plots can be combined together with subplots:\n",
        "\n",
        "fig, ax = plt.subplots(nrows=2, ncols=2, figsize=(8, 8))\n",
        "\n",
        "ax[0][0].scatter(x_coordinates, y_coordinates, marker='x', color='b', s=30)\n",
        "ax[0][1].scatter(x_coordinates, y_coordinates, marker='o', c=y_coordinates, s=30)\n",
        "\n",
        "ax[1][0].plot(x_coordinates, y_coordinates)\n",
        "ax[1][1].scatter(x_coordinates, y_coordinates, marker='^', c=y_coordinates, s=30, cmap=plt.cm.Accent)\n",
        "\n",
        "plt.show()\n",
        "plt.close()"
      ]
    },
    {
      "cell_type": "code",
      "execution_count": null,
      "metadata": {
        "id": "0CKMn1PPmp9E"
      },
      "outputs": [],
      "source": [
        "# To make a plot in 3D\n",
        "\n",
        "fig = plt.figure(figsize=(8,8))\n",
        "ax = fig.add_subplot(111, projection='3d')\n",
        "z_coordinates = y_coordinates\n",
        "\n",
        "ax.scatter3D(x_coordinates, y_coordinates, z_coordinates, marker='x', s=20)\n",
        "\n",
        "plt.show()\n",
        "plt.close()"
      ]
    },
    {
      "cell_type": "markdown",
      "metadata": {
        "id": "iqyBKVXmfHvn"
      },
      "source": [
        "# 1. NumPy"
      ]
    },
    {
      "cell_type": "code",
      "execution_count": null,
      "metadata": {
        "id": "SM4lpuQTZE8U"
      },
      "outputs": [],
      "source": [
        "import numpy as np"
      ]
    },
    {
      "cell_type": "code",
      "execution_count": null,
      "metadata": {
        "id": "FuSAC_PYql5-"
      },
      "outputs": [],
      "source": [
        "# `numpy` arrays are similar to `list`s mutable containers with much richer functionality"
      ]
    },
    {
      "cell_type": "code",
      "execution_count": null,
      "metadata": {
        "id": "rTNRdQvlpMAq"
      },
      "outputs": [],
      "source": [
        "# Array-like objects can be converted to `numpy` array:\n",
        "arr = np.array(x_coordinates)\n",
        "print(arr)"
      ]
    },
    {
      "cell_type": "code",
      "execution_count": null,
      "metadata": {
        "id": "tU2F9DBNpP9j"
      },
      "outputs": [],
      "source": [
        "# Attribute `shape` shows size of an array.\n",
        "print(arr.shape)"
      ]
    },
    {
      "cell_type": "code",
      "execution_count": null,
      "metadata": {
        "id": "bf0WtJruTCbY"
      },
      "outputs": [],
      "source": [
        "# Shape is a `tuple` because array can have more than one dimension:\n",
        "\n",
        "arr2d = np.asarray([[1,2,3], [4, 5, 6]])\n",
        "print(arr2d)\n",
        "print(arr2d.shape)  # last element of the shape - most inner dimension of the array"
      ]
    },
    {
      "cell_type": "code",
      "execution_count": null,
      "metadata": {
        "id": "Pe5Rr_zeXCen"
      },
      "outputs": [],
      "source": [
        "# Multidimensional array can be reshaped to different shape, preserving total number of elements and their order\n",
        "\n",
        "arr2d_r1 = arr2d.reshape((3, 2))\n",
        "print(arr2d_r1)"
      ]
    },
    {
      "cell_type": "code",
      "execution_count": null,
      "metadata": {
        "id": "KSD5HQ0dXYcC"
      },
      "outputs": [],
      "source": [
        "# or turned into 1-d with flatten method:\n",
        "\n",
        "arr2d_1d = arr2d.flatten()\n",
        "print(arr2d_1d, arr2d_1d.shape)"
      ]
    },
    {
      "cell_type": "code",
      "execution_count": null,
      "metadata": {
        "id": "YS9oh2nuXjyT"
      },
      "outputs": [],
      "source": []
    },
    {
      "cell_type": "code",
      "execution_count": null,
      "metadata": {
        "id": "GTGugOCbToZE"
      },
      "outputs": [],
      "source": [
        "# Slicing of an array:\n",
        "# start:stop - elements from start (included) till stop (excluded)\n",
        "\n",
        "print(arr[1:3])"
      ]
    },
    {
      "cell_type": "code",
      "execution_count": null,
      "metadata": {
        "id": "1-UMIkjlUKkT"
      },
      "outputs": [],
      "source": [
        "# Slicing of an array:\n",
        "# start:stop:step - elements from start (included) till stop (excluded) with stride step\n",
        "\n",
        "print(arr[1:6:2])"
      ]
    },
    {
      "cell_type": "code",
      "execution_count": null,
      "metadata": {
        "id": "ezZWjdifUPlG"
      },
      "outputs": [],
      "source": [
        "# Similarly for a multidimensional array:\n",
        "# \n",
        "print(arr2d[0:1, 1:3])"
      ]
    },
    {
      "cell_type": "code",
      "execution_count": null,
      "metadata": {
        "id": "21yoWRYRUhdf"
      },
      "outputs": [],
      "source": [
        "# `:` means take elements along the axis\n",
        "# \n",
        "print(arr2d[:, 1:3])"
      ]
    },
    {
      "cell_type": "code",
      "execution_count": null,
      "metadata": {
        "id": "Lcp7R64EUrRU"
      },
      "outputs": [],
      "source": [
        "# To take elements over several sequential axes - use ellipsis (...):\n",
        "# \n",
        "print(arr2d[..., 1:3])"
      ]
    },
    {
      "cell_type": "code",
      "execution_count": null,
      "metadata": {
        "id": "8xAcxvn4U9rm"
      },
      "outputs": [],
      "source": [
        "# To generate sequential integers (similar to `range`):\n",
        "numbers = np.arange(0, 20, 2)\n",
        "print(numbers)"
      ]
    },
    {
      "cell_type": "code",
      "execution_count": null,
      "metadata": {
        "id": "-Vjm0nkMVP6_"
      },
      "outputs": [],
      "source": [
        "# For floating point values\n",
        "\n",
        "x_coord = np.linspace(start=-1, stop=1, num=5)\n",
        "print (x_coord)"
      ]
    },
    {
      "cell_type": "code",
      "execution_count": null,
      "metadata": {
        "id": "XMa31sIQVl0L"
      },
      "outputs": [],
      "source": [
        "# Operations on numpy arrays can be performed in pythonic way:\n",
        "\n",
        "y_coord = 2*x_coord**2 + 3\n",
        "\n",
        "plt.plot(x_coord, y_coord)\n",
        "plt.gca().set_aspect('equal')"
      ]
    },
    {
      "cell_type": "markdown",
      "metadata": {
        "id": "K52uOtJOncOJ"
      },
      "source": [
        "---"
      ]
    },
    {
      "cell_type": "code",
      "execution_count": null,
      "metadata": {
        "id": "KR5RK_ExV7aB"
      },
      "outputs": [],
      "source": [
        "# To generate uniformly distributed random numbers:\n",
        "rnd = np.random.uniform(0, 10, size=10)\n",
        "print(rnd)\n",
        "print(rnd.shape)"
      ]
    },
    {
      "cell_type": "code",
      "execution_count": null,
      "metadata": {
        "id": "SdrRHq1tWRue"
      },
      "outputs": [],
      "source": [
        "# or normally distributed, 3D array:\n",
        "rnd = np.random.normal(loc=0.5, scale=2, size=(3, 4, 5))\n",
        "print(rnd)\n",
        "print(rnd.shape)"
      ]
    },
    {
      "cell_type": "code",
      "execution_count": null,
      "metadata": {
        "id": "rZXXQ7joWtK1"
      },
      "outputs": [],
      "source": [
        "# Let's check distribution:\n",
        "plt.hist(rnd.flatten(), 10);"
      ]
    },
    {
      "cell_type": "code",
      "execution_count": null,
      "metadata": {
        "id": "xfx4gLbEmTZA"
      },
      "outputs": [],
      "source": [
        "# Arrays statistics can be obtained like:\n",
        "print('array `rnd` mean = ', rnd.mean())\n",
        "print('array `rnd` standard deviation = ', rnd.std())\n",
        "print('array `rnd` minimum = ', rnd.min())\n",
        "print('array `rnd` maximum = ', rnd.max())\n",
        "print('array `rnd` maximum 40th percentile= ', np.percentile(rnd, 40))\n"
      ]
    },
    {
      "cell_type": "code",
      "execution_count": null,
      "metadata": {
        "id": "oVhGYgE6YJJS"
      },
      "outputs": [],
      "source": [
        "# To get an element form an 1D array:\n",
        "print(np.random.choice(arr))"
      ]
    },
    {
      "cell_type": "code",
      "execution_count": null,
      "metadata": {
        "id": "04TaJO8RYaf1"
      },
      "outputs": [],
      "source": [
        "# or several elements:\n",
        "mtx = np.random.choice(arr, size=(2,2))\n",
        "print(mtx)"
      ]
    },
    {
      "cell_type": "code",
      "execution_count": null,
      "metadata": {
        "id": "e7WySajre_xb"
      },
      "outputs": [],
      "source": [
        "# Matrix multiplication\n",
        "np.dot([1, 2], mtx)  # can be also written as [1, 2]@ mtx"
      ]
    },
    {
      "cell_type": "markdown",
      "metadata": {
        "id": "SWxvCDPKnjIT"
      },
      "source": [
        "---"
      ]
    },
    {
      "cell_type": "code",
      "execution_count": null,
      "metadata": {
        "id": "KJ3npk1vmcwu"
      },
      "outputs": [],
      "source": [
        "# Sometimes it's needed to obtain grid of values, given set of values along each axis, \n",
        "# e.g. for a grid search or visualization. `meshgrid` does it so\n",
        "\n",
        "\n",
        "# define set of values along x, y axes\n",
        "x_coords = np.linspace(0, 4.5, 10)      # 10 values between 0 and 45\n",
        "y_coords = np.linspace(-10, -5.5, 10)   # 10 values between -10 and -6.5\n",
        "\n",
        "# create the meshgrid\n",
        "meshgrid_x, meshgrid_y = np.meshgrid(x_coords, y_coords)\n",
        "print(meshgrid_x.shape, meshgrid_y.shape)  # all x, y coordinates of the mesh"
      ]
    },
    {
      "cell_type": "code",
      "execution_count": null,
      "metadata": {
        "id": "DSk3KARGc_Yu"
      },
      "outputs": [],
      "source": [
        "print(meshgrid_x)"
      ]
    },
    {
      "cell_type": "code",
      "execution_count": null,
      "metadata": {
        "id": "EzqBiwAucs3H"
      },
      "outputs": [],
      "source": [
        "print(meshgrid_y)"
      ]
    },
    {
      "cell_type": "code",
      "execution_count": null,
      "metadata": {
        "id": "o0xTiQl2cQ5k"
      },
      "outputs": [],
      "source": [
        "# To plot the points created by the meshgrid we need to flatten them:\n",
        "x_coordinates = meshgrid_x.flatten()\n",
        "y_coordinates = meshgrid_y.flatten()\n",
        "index = np.arange(len(x_coordinates))\n",
        "\n",
        "sc = plt.scatter(x_coordinates, y_coordinates, c=index, cmap=plt.cm.gist_earth)\n",
        "plt.colorbar(sc, ax=plt.gca())"
      ]
    },
    {
      "cell_type": "markdown",
      "metadata": {
        "id": "HW-Nw2FenYia"
      },
      "source": [
        "---"
      ]
    },
    {
      "cell_type": "code",
      "execution_count": null,
      "metadata": {
        "id": "g--l6v-cj-pS"
      },
      "outputs": [],
      "source": [
        "# Arrays can be concatenated along a specific axis, provided the other dimensions are same\n",
        "\n",
        "arr_1 = np.zeros(shape=(5, 3, 6))\n",
        "arr_2 = np.ones(shape=(5, 4, 6))\n",
        "\n",
        "print(arr_1.shape, arr_2.shape)\n",
        "#print(arr_1)\n",
        "#print(arr_2)"
      ]
    },
    {
      "cell_type": "code",
      "execution_count": null,
      "metadata": {
        "id": "_PDW38NTmdza"
      },
      "outputs": [],
      "source": [
        "arr_conc = np.concatenate((arr_1, arr_2), axis=1)\n",
        "\n",
        "print(arr_conc.shape)"
      ]
    },
    {
      "cell_type": "code",
      "execution_count": null,
      "metadata": {
        "id": "WXwDyLYjoOWg"
      },
      "outputs": [],
      "source": [
        "# stack along new last axis\n",
        "arr_stack = np.stack((arr_1, arr_2[:, :-1]), axis=-1)\n",
        "\n",
        "print(arr_stack.shape)"
      ]
    },
    {
      "cell_type": "code",
      "execution_count": null,
      "metadata": {
        "id": "OqkjxZxgpPti"
      },
      "outputs": [],
      "source": [
        "# Similarly to indexing one element, multiple elements of an array can be obtained\n",
        "y = np.arange(6)**2\n",
        "print(y)\n",
        "\n",
        "print(f'y[2] = {y[2]}')\n",
        "print(f'y[4] = {y[4]}')\n",
        "print(f'y[[2,4]] = {y[[2,4]]}')"
      ]
    },
    {
      "cell_type": "code",
      "execution_count": null,
      "metadata": {
        "id": "P0QdU3ggmiBC"
      },
      "outputs": [],
      "source": [
        "# This can be useful to shuffle several arrays elements coherently:\n",
        "\n",
        "shuffled_indexes = np.random.permutation(len(y))\n",
        "y_shuffled = y[shuffled_indexes]\n",
        "print(f'{y}[{shuffled_indexes}] = {y_shuffled}')"
      ]
    },
    {
      "cell_type": "code",
      "execution_count": null,
      "metadata": {
        "id": "G2Xi9wBLm6aw"
      },
      "outputs": [],
      "source": [
        "# Boolean arrays of same dimensions can be used as masks\n",
        "mask = [True, False, False, False, False, True]\n",
        "print(f'{y}[{mask}] = {y[mask]}')"
      ]
    },
    {
      "cell_type": "code",
      "execution_count": null,
      "metadata": {
        "id": "OESo1PsNrQXM"
      },
      "outputs": [],
      "source": [
        "# This is useful to select group of elements:\n",
        "mask_above_2 = y > 2\n",
        "print(mask_above_2)\n",
        "\n",
        "mask_less_17 = y <17\n",
        "print(mask_less_17)\n",
        "\n",
        "mask = mask_above_2 * mask_less_17  # elementwise `and` operation on Boolean numpy arrays\n",
        "print(mask)\n",
        "\n",
        "print('values between 2 and 17:', y[mask])"
      ]
    },
    {
      "cell_type": "markdown",
      "metadata": {
        "id": "EByo3G2NsD3q"
      },
      "source": [
        "---"
      ]
    },
    {
      "cell_type": "code",
      "execution_count": null,
      "metadata": {
        "id": "fyCLpDiPsTXt"
      },
      "outputs": [],
      "source": [
        "# To get index of first smallest or largest element use `argmin` and `argmax`:\n",
        "\n",
        "print(y_shuffled)\n",
        "\n",
        "ixd_smallest = y_shuffled.argmin()\n",
        "ixd_largest = y_shuffled.argmax()\n",
        "\n",
        "print(f'index of smallest element: {ixd_smallest}. {y_shuffled}[{ixd_smallest}] = {y_shuffled[ixd_smallest]}')\n",
        "print(f'index of largest element: {ixd_largest}. {y_shuffled}[{ixd_largest}] = {y_shuffled[ixd_largest]}')"
      ]
    },
    {
      "cell_type": "code",
      "execution_count": null,
      "metadata": {
        "id": "uxnZuhd8tDYq"
      },
      "outputs": [],
      "source": [
        "# Form multidimensional array, or if more the one element has to be found - use argwhere:\n",
        "coords_elements_above_3 = np.argwhere(rnd > 3)\n",
        "print(coords_elements_above_3)\n",
        "\n",
        "for i, j, k in coords_elements_above_3:\n",
        "  print(f'rnd[{i}, {j}, {k}] = {rnd[i, j, k]}')"
      ]
    },
    {
      "cell_type": "code",
      "execution_count": null,
      "metadata": {
        "id": "mfUt89BMXi_f"
      },
      "outputs": [],
      "source": [
        "# Transposing index groups allows to obtain index arrays for each axis\n",
        "arr_i, arr_j, arr_k = coords_elements_above_3.T\n",
        "print(arr_i)\n",
        "print(arr_j)\n",
        "print(arr_k)"
      ]
    },
    {
      "cell_type": "markdown",
      "metadata": {
        "id": "dvIWHnPdJT3w"
      },
      "source": [
        "# 2. Image"
      ]
    },
    {
      "cell_type": "code",
      "execution_count": null,
      "metadata": {
        "id": "VN2wP54lJaTk"
      },
      "outputs": [],
      "source": [
        "# Loading an image from file or an URL\n",
        "from skimage import io\n",
        "\n",
        "image = io.imread('https://github.com/neworldemancer/DSF5/raw/master/figures/unibe.jpg')\n",
        "print(image.shape)"
      ]
    },
    {
      "cell_type": "code",
      "execution_count": null,
      "metadata": {
        "id": "l-UqZTNKaShx"
      },
      "outputs": [],
      "source": [
        "# Display an image with pyplot\n",
        "plt.imshow(image);"
      ]
    },
    {
      "cell_type": "code",
      "execution_count": null,
      "metadata": {
        "id": "9VNAkONjVXPt"
      },
      "outputs": [],
      "source": [
        "# Any 2D map can be visualized similarly, e.g. a 2D histogram:\n",
        "\n",
        "values = np.random.multivariate_normal([0, 0], [[1, 0.3],[ 0.3, 0.2]], size=1000)\n",
        "plt.scatter(*values.T, s=5)\n",
        "\n",
        "h, bx, by = np.histogram2d(*values.T, bins = 20)\n",
        "plt.show()\n",
        "\n",
        "plt.imshow(h, origin='lower')\n",
        "plt.show()"
      ]
    },
    {
      "cell_type": "markdown",
      "metadata": {
        "id": "bbfroLuAnlce"
      },
      "source": [
        "# 3. Object methods"
      ]
    },
    {
      "cell_type": "markdown",
      "metadata": {
        "id": "atmbseuVoktZ"
      },
      "source": [
        "Methods of objects are called by writing object_name.method_name similarly to how we do for modules:\n",
        "\n",
        "```xx.yy(smth=value, smth2=v0)```\n",
        "\n",
        "E.g. `plt.plot` and `np.max` - method of modules `plt` and `np`; `arr_i.max` - method of object `arr_i`.\n",
        "\n",
        "When you start typing anything in the brackets or press `Shift + Tab` in Colab or Jupyter - a `__doc__` string of the function will be shown. You can see all the parameters, their description, and often examples. Don't even need to google it;)"
      ]
    },
    {
      "cell_type": "markdown",
      "metadata": {
        "id": "uRAvV9F1ouiV"
      },
      "source": [
        "# 4. Interactive & Animation"
      ]
    },
    {
      "cell_type": "code",
      "execution_count": null,
      "metadata": {
        "id": "g7nebfVWxHbA"
      },
      "outputs": [],
      "source": [
        "from ipywidgets import interact"
      ]
    },
    {
      "cell_type": "code",
      "execution_count": null,
      "metadata": {
        "id": "8z2YQCJZBYEW"
      },
      "outputs": [],
      "source": [
        "# You can often get much better intuition if you explore a range of parameters.\n",
        "# one way to do it - is with interactive widgets\n",
        "\n",
        "# Here we plot a line with different slope and intercept depending on the parameters set\n",
        "\n",
        "@interact  # creates widgets according to function parameters (see https://ipywidgets.readthedocs.io/en/latest/examples/Widget%20Basics.html)\n",
        "def plot(a=(-5, 5, 0.1), b=(-5, 5, 0.1)): # each parameter will be interactive\n",
        "    # parameters for each variable are in range() format: start:stop:step\n",
        "    \n",
        "    f = lambda x: a*x+b\n",
        "    x0 = -10\n",
        "    x1 = 10\n",
        "\n",
        "    y0 = f(x0)\n",
        "    y1 = f(x1)\n",
        "\n",
        "    plt.plot([x0, x1], [y0, y1])\n",
        "\n",
        "    plt.gca().set_aspect('equal')\n",
        "    plt.xlim(-10, 10)\n",
        "    plt.ylim(-10, 10)\n",
        "    plt.title(f'y={a:.1f}x+{b:.1f}')\n",
        "    plt.grid(True)\n",
        "    plt.show()\n",
        "    "
      ]
    },
    {
      "cell_type": "markdown",
      "metadata": {
        "id": "rOTrVWs-aWGl"
      },
      "source": [
        "The function above is called on each parameter update. This means, that if the function takes long to compute such approach might be not usable.\n",
        "\n",
        "Animation serves similar purpose, but all frames are pre-rendered. It is fast for visualization, but can take long to render all frames, and will have large memory footprint with many frames."
      ]
    },
    {
      "cell_type": "code",
      "execution_count": null,
      "metadata": {
        "id": "1WTt9Xu1YOi0"
      },
      "outputs": [],
      "source": [
        "from matplotlib import animation\n",
        "plt.rcParams[\"animation.html\"] = \"jshtml\"  # for matplotlib 2.1 and above, uses JavaScript"
      ]
    },
    {
      "cell_type": "code",
      "execution_count": null,
      "metadata": {
        "id": "124vSPn4YyqK"
      },
      "outputs": [],
      "source": [
        "%%capture   \n",
        "# cell magic `capture` suppresses output of this cell\n",
        "\n",
        "f = lambda x, a: a*x+1\n",
        "x0 = -10\n",
        "x1 = 10\n",
        "\n",
        "a = 0\n",
        "y0 = f(x0, a)\n",
        "y1 = f(x1, a)\n",
        "\n",
        "fig = plt.figure()\n",
        "lines = plt.plot( [x0, x1], [y0, y1])\n",
        "\n",
        "plt.gca().set_aspect('equal')\n",
        "plt.xlim(-10, 10)\n",
        "plt.ylim(-10, 10)\n",
        "plt.grid(True)\n",
        "\n",
        "\n",
        "def animate(i):\n",
        "    a = 0.1 * i\n",
        "    y0 = f(x0, a)\n",
        "    y1 = f(x1, a)\n",
        "\n",
        "    l = lines[0]\n",
        "    l.set_data([x0, x1], [y0, y1])\n",
        "    return lines\n",
        "\n",
        "ani = animation.FuncAnimation(fig, animate, frames=10)\n"
      ]
    },
    {
      "cell_type": "code",
      "execution_count": null,
      "metadata": {
        "id": "rHZVR_YEZyZK"
      },
      "outputs": [],
      "source": [
        "# Show animation\n",
        "ani"
      ]
    },
    {
      "cell_type": "markdown",
      "metadata": {
        "id": "x7VLnpW3ywdE"
      },
      "source": [
        "# 5.Exercises:"
      ]
    },
    {
      "cell_type": "markdown",
      "metadata": {
        "id": "-MtEp_SlnfwA"
      },
      "source": [
        "1. create a list of names and list of ages\n",
        "2. make a dictionary using dictionary comprehension from these lists\n",
        "\n",
        "\n",
        "3. convert ages to np.array\n",
        "4. find biggest values, and it's index\n",
        "\n",
        "\n",
        "5. download an image from URL\n",
        "6. crop any area 100x100 pixels, all channels\n",
        "7. flatten and plot histogram\n",
        "8. find value of the darkest and brightest pixel\n",
        "9. find coodinates and channel of the brightest pixel value\n",
        "\n",
        "\n",
        "10. find all unique pixel values with set\n",
        "11. create arrays of x and y coordinated of all pixels with meshgrid\n",
        "12. make a 3d surface plot of red channel values (z) with plot_surface.\n",
        "\n",
        "\n",
        "13. find all elements in green channel smaller than 30th percentile\n",
        "14. set corresponding elements in red channel to 255, show image\n",
        "\n",
        "\n",
        "15. make an interactive plot which crops 100x100 area at coordinates given by a slider\n",
        "\n",
        "\n",
        "16. make an animation of 13-14 animating resulting image with percentiles 9,10, ...90, 95\n",
        "\n"
      ]
    },
    {
      "cell_type": "code",
      "execution_count": null,
      "metadata": {
        "id": "4DXM01UY5b8g"
      },
      "outputs": [],
      "source": []
    }
  ],
  "metadata": {
    "colab": {
      "collapsed_sections": [
        "HG8uZJrln4kz",
        "TAmAx1ZDlXjT",
        "iqyBKVXmfHvn",
        "dvIWHnPdJT3w",
        "bbfroLuAnlce",
        "uRAvV9F1ouiV",
        "x7VLnpW3ywdE"
      ],
      "name": "Python key points homework",
      "provenance": []
    },
    "kernelspec": {
      "display_name": "Python 3.10.0 ('.venv': venv)",
      "language": "python",
      "name": "python3"
    },
    "language_info": {
      "name": "python",
      "version": "3.10.0"
    },
    "vscode": {
      "interpreter": {
        "hash": "a421f863b9c1462b4a0034deb3cdef3c95c871fa51f74595ff57f35c4e240ca6"
      }
    }
  },
  "nbformat": 4,
  "nbformat_minor": 0
}
